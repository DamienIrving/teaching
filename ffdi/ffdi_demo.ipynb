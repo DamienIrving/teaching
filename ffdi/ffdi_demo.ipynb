{
 "cells": [
  {
   "cell_type": "code",
   "execution_count": 26,
   "id": "be90ec6a",
   "metadata": {},
   "outputs": [],
   "source": [
    "import glob\n",
    "\n",
    "import matplotlib.pyplot as plt\n",
    "import xarray as xr\n",
    "import xclim as xc"
   ]
  },
  {
   "cell_type": "code",
   "execution_count": 2,
   "id": "45e1626f-1375-4354-b6a4-499b8807f002",
   "metadata": {},
   "outputs": [
    {
     "name": "stdout",
     "output_type": "stream",
     "text": [
      "0.56.0\n"
     ]
    }
   ],
   "source": [
    "print(xc.__version__)"
   ]
  },
  {
   "cell_type": "markdown",
   "id": "49619d51-5872-417c-aa67-0ffd710fc30c",
   "metadata": {},
   "source": [
    "### Read and prepare input data"
   ]
  },
  {
   "cell_type": "code",
   "execution_count": 3,
   "id": "0cfe2ac1",
   "metadata": {},
   "outputs": [],
   "source": [
    "def convert_units(da, target_units):\n",
    "    \"\"\"Convert units.\n",
    "\n",
    "    Parameters\n",
    "    ----------\n",
    "    da : xarray DataArray\n",
    "        Input array containing a units attribute\n",
    "    target_units : str\n",
    "        Units to convert to\n",
    "\n",
    "    Returns\n",
    "    -------\n",
    "    da : xarray DataArray\n",
    "       Array with converted units\n",
    "    \"\"\"\n",
    "\n",
    "    xclim_unit_check = {\n",
    "        'degrees_Celsius': 'degC',\n",
    "        'deg_k': 'degK',\n",
    "    }\n",
    "\n",
    "    if da.attrs[\"units\"] in xclim_unit_check:\n",
    "        da.attrs[\"units\"] = xclim_unit_check[da.units]\n",
    "\n",
    "    try:\n",
    "        with xr.set_options(keep_attrs=True):\n",
    "            da = xc.units.convert_units_to(da, target_units)\n",
    "    except Exception as e:\n",
    "        if (da.attrs['units'] == 'kg m-2 s-1') and (target_units in ['mm d-1', 'mm day-1']):\n",
    "            da = da * 86400\n",
    "            da.attrs[\"units\"] = target_units\n",
    "        elif (da.attrs['units'] == 'MJ m^-2') and target_units == 'W m-2':\n",
    "            da = da * (1e6 / 86400)\n",
    "            da.attrs[\"units\"] = target_units\n",
    "        else:\n",
    "            raise e\n",
    "    \n",
    "    if target_units == 'degC':\n",
    "        da.attrs['units'] = 'degC'\n",
    "\n",
    "    return da"
   ]
  },
  {
   "cell_type": "code",
   "execution_count": 4,
   "id": "8df14d5a",
   "metadata": {},
   "outputs": [],
   "source": [
    "def select_point(ds):\n",
    "    \"\"\"Select grid point nearest to Kinglake, Victoria\"\"\"\n",
    "    \n",
    "    ds = ds.sel({'lat': -37.53, 'lon': 145.34}, method='nearest')\n",
    "    vars_to_drop = [\n",
    "        'sigma',\n",
    "        'level_height',\n",
    "        'height',\n",
    "        'crs',\n",
    "    ]\n",
    "    for variable in vars_to_drop:\n",
    "        try:\n",
    "            ds = ds.drop_vars(variable)\n",
    "        except ValueError:\n",
    "            pass\n",
    "    \n",
    "    attrs_to_del = ['cell_methods', 'grid_mapping']\n",
    "    variables = list(ds.keys())\n",
    "    for variable in variables:\n",
    "        for attr in attrs_to_del:\n",
    "            try:\n",
    "                del ds[variable].attrs[attr]\n",
    "            except KeyError:\n",
    "                pass\n",
    "        \n",
    "    return ds"
   ]
  },
  {
   "cell_type": "code",
   "execution_count": 5,
   "id": "9781ea9e",
   "metadata": {},
   "outputs": [],
   "source": [
    "pr_files = sorted(glob.glob('/g/data/ob53/BARRA2/output/reanalysis/AUS-11/BOM/ERA5/historical/hres/BARRA-R2/v1/day/pr/latest/*.nc'))"
   ]
  },
  {
   "cell_type": "code",
   "execution_count": 6,
   "id": "c98d760b",
   "metadata": {},
   "outputs": [],
   "source": [
    "ds_pr_daily = xr.open_mfdataset(pr_files, preprocess=select_point)\n",
    "ds_pr_daily = ds_pr_daily.sel(time=slice('1980-01-01', '2023-12-31'))\n",
    "da_pr_daily = convert_units(ds_pr_daily['pr'], 'mm/day')\n",
    "da_pr_daily = da_pr_daily.compute()"
   ]
  },
  {
   "cell_type": "code",
   "execution_count": 7,
   "id": "9e679924",
   "metadata": {},
   "outputs": [],
   "source": [
    "da_pr_annual = da_pr_daily.groupby('time.year').sum('time', keep_attrs=True)\n",
    "da_pr_annual_mean = da_pr_annual.mean('year', keep_attrs=True)\n",
    "da_pr_annual_mean.attrs['units'] = 'mm/year'\n",
    "da_pr_annual_mean = da_pr_annual_mean.compute()"
   ]
  },
  {
   "cell_type": "code",
   "execution_count": 8,
   "id": "3e2ee43e",
   "metadata": {},
   "outputs": [],
   "source": [
    "tasmax_files = sorted(glob.glob('/g/data/ob53/BARRA2/output/reanalysis/AUS-11/BOM/ERA5/historical/hres/BARRA-R2/v1/day/tasmax/latest/*.nc'))"
   ]
  },
  {
   "cell_type": "code",
   "execution_count": 9,
   "id": "6267bc7c",
   "metadata": {},
   "outputs": [],
   "source": [
    "ds_tasmax_daily = xr.open_mfdataset(tasmax_files, preprocess=select_point)\n",
    "ds_tasmax_daily = ds_tasmax_daily.sel(time=slice('1980-01-01', '2023-12-31'))\n",
    "da_tasmax_daily = convert_units(ds_tasmax_daily['tasmax'], 'degC')\n",
    "da_tasmax_daily = da_tasmax_daily.compute()"
   ]
  },
  {
   "cell_type": "code",
   "execution_count": 10,
   "id": "b21f2c47-afb8-4a7a-b367-fbd767f52ce3",
   "metadata": {},
   "outputs": [],
   "source": [
    "hurs_files = sorted(glob.glob('/g/data/ob53/BARRA2/output/reanalysis/AUS-11/BOM/ERA5/historical/hres/BARRA-R2/v1/day/hurs/latest/*.nc'))"
   ]
  },
  {
   "cell_type": "code",
   "execution_count": 11,
   "id": "cc547c0e-4a85-48fb-8b7c-4e387cac8f80",
   "metadata": {},
   "outputs": [],
   "source": [
    "ds_hurs_daily = xr.open_mfdataset(hurs_files, preprocess=select_point)\n",
    "da_hurs_daily = ds_hurs_daily['hurs'].sel(time=slice('1980-01-01', '2023-12-31'))\n",
    "da_hurs_daily = da_hurs_daily.compute()"
   ]
  },
  {
   "cell_type": "code",
   "execution_count": 12,
   "id": "75d56410-de74-4dbb-9606-c572eab016b6",
   "metadata": {},
   "outputs": [],
   "source": [
    "sfcWind_files = sorted(glob.glob('/g/data/ob53/BARRA2/output/reanalysis/AUS-11/BOM/ERA5/historical/hres/BARRA-R2/v1/day/sfcWind/latest/*.nc'))"
   ]
  },
  {
   "cell_type": "code",
   "execution_count": 13,
   "id": "69749f2a-d4d2-48e6-9f26-f585018ae762",
   "metadata": {},
   "outputs": [],
   "source": [
    "ds_sfcWind_daily = xr.open_mfdataset(sfcWind_files, preprocess=select_point)\n",
    "da_sfcWind_daily = ds_sfcWind_daily['sfcWind'].sel(time=slice('1980-01-01', '2023-12-31'))\n",
    "da_sfcWind_daily = da_sfcWind_daily.compute()"
   ]
  },
  {
   "cell_type": "markdown",
   "id": "52392acb-a6a1-49e5-a695-e0aa3b0663ed",
   "metadata": {},
   "source": [
    "### Calculate the FFDI\n",
    "\n",
    "For the grid point closest to Kinglake in the BARRA-R2 dataset."
   ]
  },
  {
   "cell_type": "code",
   "execution_count": 19,
   "id": "542258a9",
   "metadata": {},
   "outputs": [],
   "source": [
    "da_kbdi_daily = xc.indices.keetch_byram_drought_index(\n",
    "    da_pr_daily,\n",
    "    da_tasmax_daily,\n",
    "    da_pr_annual_mean\n",
    ")"
   ]
  },
  {
   "cell_type": "code",
   "execution_count": 15,
   "id": "eadfa326-3656-4021-91c2-a4df2e5af64a",
   "metadata": {},
   "outputs": [],
   "source": [
    "da_df_daily = xc.indices.griffiths_drought_factor(\n",
    "    da_pr_daily,\n",
    "    da_kbdi_daily\n",
    ")"
   ]
  },
  {
   "cell_type": "code",
   "execution_count": 16,
   "id": "019d853a-fb60-457a-8590-63b3c351957e",
   "metadata": {},
   "outputs": [],
   "source": [
    "da_ffdi_daily = xc.indices.mcarthur_forest_fire_danger_index(\n",
    "    da_df_daily,\n",
    "    da_tasmax_daily,\n",
    "    da_hurs_daily,\n",
    "    da_sfcWind_daily\n",
    ")"
   ]
  },
  {
   "cell_type": "code",
   "execution_count": 33,
   "id": "cfc80f7b-7756-490b-afb1-5c834b6bce1c",
   "metadata": {},
   "outputs": [
    {
     "data": {
      "image/png": "[encoded data removed]",
      "text/plain": [
       "<Figure size 900x500 with 1 Axes>"
      ]
     },
     "metadata": {},
     "output_type": "display_data"
    }
   ],
   "source": [
    "da_ffdi_daily_feb2009 = da_ffdi_daily.sel(time=slice('2009-02-01', '2009-02-28'))\n",
    "\n",
    "fig, ax = plt.subplots(figsize=[9, 5])\n",
    "values = da_ffdi_daily_feb2009.values\n",
    "day_of_month = da_ffdi_daily_feb2009['time'].dt.day.values\n",
    "plt.bar(day_of_month, values, zorder=2)\n",
    "plt.xlim(day_of_month[0] - 0.5, day_of_month[-1] + 0.5)\n",
    "plt.title('Kinglake, Victoria')\n",
    "plt.ylabel('FFDI')\n",
    "plt.xlabel('day in February 2009')\n",
    "plt.grid()\n",
    "plt.show()"
   ]
  },
  {
   "cell_type": "markdown",
   "id": "8ddacbb0-1a53-4d0f-be59-1d80e40a91bd",
   "metadata": {},
   "source": [
    "These FFDI values are relatively low given that the daily mean relative humidity and surface wind speed was used in this quick example, but as a sanity check they peak on Black Saturday (7 February 2009) which makes sense."
   ]
  },
  {
   "cell_type": "code",
   "execution_count": null,
   "id": "5e4abb12-c85a-4910-9680-bbfb9aaf814a",
   "metadata": {},
   "outputs": [],
   "source": []
  }
 ],
 "metadata": {
  "kernelspec": {
   "display_name": "Python 3 (ipykernel)",
   "language": "python",
   "name": "python3"
  },
  "language_info": {
   "codemirror_mode": {
    "name": "ipython",
    "version": 3
   },
   "file_extension": ".py",
   "mimetype": "text/x-python",
   "name": "python",
   "nbconvert_exporter": "python",
   "pygments_lexer": "ipython3",
   "version": "3.13.3"
  }
 },
 "nbformat": 4,
 "nbformat_minor": 5
}
