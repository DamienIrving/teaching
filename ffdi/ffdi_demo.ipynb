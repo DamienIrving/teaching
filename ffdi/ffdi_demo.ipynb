{
 "cells": [
  {
   "cell_type": "code",
   "execution_count": 1,
   "id": "be90ec6a",
   "metadata": {},
   "outputs": [
    {
     "name": "stderr",
     "output_type": "stream",
     "text": [
      "/g/data/xv83/dbi599/miniconda3/envs/xclim/lib/python3.13/site-packages/xclim/core/units.py:19: UserWarning: Import(s) unavailable to set up matplotlib support...skipping this portion of the setup.\n",
      "  import cf_xarray.units\n"
     ]
    }
   ],
   "source": [
    "import glob\n",
    "\n",
    "import xarray as xr\n",
    "import xclim as xc"
   ]
  },
  {
   "cell_type": "code",
   "execution_count": 19,
   "id": "45e1626f-1375-4354-b6a4-499b8807f002",
   "metadata": {},
   "outputs": [
    {
     "name": "stdout",
     "output_type": "stream",
     "text": [
      "0.56.0\n"
     ]
    }
   ],
   "source": [
    "print(xc.__version__)"
   ]
  },
  {
   "cell_type": "markdown",
   "id": "49619d51-5872-417c-aa67-0ffd710fc30c",
   "metadata": {},
   "source": [
    "### Read and prepare input data"
   ]
  },
  {
   "cell_type": "code",
   "execution_count": 2,
   "id": "0cfe2ac1",
   "metadata": {},
   "outputs": [],
   "source": [
    "def convert_units(da, target_units):\n",
    "    \"\"\"Convert units.\n",
    "\n",
    "    Parameters\n",
    "    ----------\n",
    "    da : xarray DataArray\n",
    "        Input array containing a units attribute\n",
    "    target_units : str\n",
    "        Units to convert to\n",
    "\n",
    "    Returns\n",
    "    -------\n",
    "    da : xarray DataArray\n",
    "       Array with converted units\n",
    "    \"\"\"\n",
    "\n",
    "    xclim_unit_check = {\n",
    "        'degrees_Celsius': 'degC',\n",
    "        'deg_k': 'degK',\n",
    "    }\n",
    "\n",
    "    if da.attrs[\"units\"] in xclim_unit_check:\n",
    "        da.attrs[\"units\"] = xclim_unit_check[da.units]\n",
    "\n",
    "    try:\n",
    "        with xr.set_options(keep_attrs=True):\n",
    "            da = xc.units.convert_units_to(da, target_units)\n",
    "    except Exception as e:\n",
    "        if (da.attrs['units'] == 'kg m-2 s-1') and (target_units in ['mm d-1', 'mm day-1']):\n",
    "            da = da * 86400\n",
    "            da.attrs[\"units\"] = target_units\n",
    "        elif (da.attrs['units'] == 'MJ m^-2') and target_units == 'W m-2':\n",
    "            da = da * (1e6 / 86400)\n",
    "            da.attrs[\"units\"] = target_units\n",
    "        else:\n",
    "            raise e\n",
    "    \n",
    "    if target_units == 'degC':\n",
    "        da.attrs['units'] = 'degC'\n",
    "\n",
    "    return da"
   ]
  },
  {
   "cell_type": "code",
   "execution_count": 3,
   "id": "8df14d5a",
   "metadata": {},
   "outputs": [],
   "source": [
    "def select_point(ds):\n",
    "    \"\"\"Select grid point nearest to Kinglake, Victoria\"\"\"\n",
    "    \n",
    "    ds = ds.sel({'lat': -37.53, 'lon': 145.34}, method='nearest')\n",
    "    vars_to_drop = [\n",
    "        'sigma',\n",
    "        'level_height',\n",
    "        'height',\n",
    "        'crs',\n",
    "    ]\n",
    "    for variable in vars_to_drop:\n",
    "        try:\n",
    "            ds = ds.drop_vars(variable)\n",
    "        except ValueError:\n",
    "            pass\n",
    "    \n",
    "    attrs_to_del = ['cell_methods', 'grid_mapping']\n",
    "    variables = list(ds.keys())\n",
    "    for variable in variables:\n",
    "        for attr in attrs_to_del:\n",
    "            try:\n",
    "                del ds[variable].attrs[attr]\n",
    "            except KeyError:\n",
    "                pass\n",
    "        \n",
    "    return ds"
   ]
  },
  {
   "cell_type": "code",
   "execution_count": 4,
   "id": "9781ea9e",
   "metadata": {},
   "outputs": [],
   "source": [
    "pr_files = sorted(glob.glob('/g/data/ob53/BARRA2/output/reanalysis/AUS-11/BOM/ERA5/historical/hres/BARRA-R2/v1/day/pr/latest/*.nc'))"
   ]
  },
  {
   "cell_type": "code",
   "execution_count": 5,
   "id": "c98d760b",
   "metadata": {},
   "outputs": [],
   "source": [
    "ds_pr_daily = xr.open_mfdataset(pr_files, preprocess=select_point)\n",
    "ds_pr_daily = ds_pr_daily.sel(time=slice('1980-01-01', '2023-12-31'))\n",
    "da_pr_daily = convert_units(ds_pr_daily['pr'], 'mm/day')\n",
    "da_pr_daily = da_pr_daily.compute()"
   ]
  },
  {
   "cell_type": "code",
   "execution_count": 6,
   "id": "9e679924",
   "metadata": {},
   "outputs": [],
   "source": [
    "da_pr_annual = da_pr_daily.groupby('time.year').sum('time', keep_attrs=True)\n",
    "da_pr_annual_mean = da_pr_annual.mean('year', keep_attrs=True)\n",
    "da_pr_annual_mean.attrs['units'] = 'mm/year'\n",
    "da_pr_annual_mean = da_pr_annual_mean.compute()"
   ]
  },
  {
   "cell_type": "code",
   "execution_count": 7,
   "id": "3e2ee43e",
   "metadata": {},
   "outputs": [],
   "source": [
    "tasmax_files = sorted(glob.glob('/g/data/ob53/BARRA2/output/reanalysis/AUS-11/BOM/ERA5/historical/hres/BARRA-R2/v1/day/tasmax/latest/*.nc'))"
   ]
  },
  {
   "cell_type": "code",
   "execution_count": 8,
   "id": "6267bc7c",
   "metadata": {},
   "outputs": [],
   "source": [
    "ds_tasmax_daily = xr.open_mfdataset(tasmax_files, preprocess=select_point)\n",
    "ds_tasmax_daily = ds_tasmax_daily.sel(time=slice('1980-01-01', '2023-12-31'))\n",
    "da_tasmax_daily = convert_units(ds_tasmax_daily['tasmax'], 'degC')\n",
    "da_tasmax_daily = da_tasmax_daily.compute()"
   ]
  },
  {
   "cell_type": "code",
   "execution_count": 15,
   "id": "b21f2c47-afb8-4a7a-b367-fbd767f52ce3",
   "metadata": {},
   "outputs": [],
   "source": [
    "hurs_files = sorted(glob.glob('/g/data/ob53/BARRA2/output/reanalysis/AUS-11/BOM/ERA5/historical/hres/BARRA-R2/v1/day/hurs/latest/*.nc'))"
   ]
  },
  {
   "cell_type": "code",
   "execution_count": 18,
   "id": "cc547c0e-4a85-48fb-8b7c-4e387cac8f80",
   "metadata": {},
   "outputs": [],
   "source": [
    "ds_hurs_daily = xr.open_mfdataset(hurs_files, preprocess=select_point)\n",
    "da_hurs_daily = ds_hurs_daily['hurs'].sel(time=slice('1980-01-01', '2023-12-31'))\n",
    "da_hurs_daily = da_hurs_daily.compute()"
   ]
  },
  {
   "cell_type": "code",
   "execution_count": 21,
   "id": "75d56410-de74-4dbb-9606-c572eab016b6",
   "metadata": {},
   "outputs": [],
   "source": [
    "sfcWind_files = sorted(glob.glob('/g/data/ob53/BARRA2/output/reanalysis/AUS-11/BOM/ERA5/historical/hres/BARRA-R2/v1/day/sfcWind/latest/*.nc'))"
   ]
  },
  {
   "cell_type": "code",
   "execution_count": 23,
   "id": "69749f2a-d4d2-48e6-9f26-f585018ae762",
   "metadata": {},
   "outputs": [],
   "source": [
    "ds_sfcWind_daily = xr.open_mfdataset(sfcWind_files, preprocess=select_point)\n",
    "da_sfcWind_daily = ds_sfcWind_daily['sfcWind'].sel(time=slice('1980-01-01', '2023-12-31'))\n",
    "da_sfcWind_daily = da_sfcWind_daily.compute()"
   ]
  },
  {
   "cell_type": "markdown",
   "id": "52392acb-a6a1-49e5-a695-e0aa3b0663ed",
   "metadata": {},
   "source": [
    "### Calculate the FFDI"
   ]
  },
  {
   "cell_type": "code",
   "execution_count": 25,
   "id": "542258a9",
   "metadata": {},
   "outputs": [],
   "source": [
    "da_kbdi_daily = xc.indices.keetch_byram_drought_index(da_pr_daily, da_tasmax_daily, da_pr_annual_mean)"
   ]
  },
  {
   "cell_type": "code",
   "execution_count": 26,
   "id": "eadfa326-3656-4021-91c2-a4df2e5af64a",
   "metadata": {},
   "outputs": [],
   "source": [
    "da_df_daily = xc.indices.griffiths_drought_factor(da_pr_daily, da_kbdi_daily)"
   ]
  },
  {
   "cell_type": "code",
   "execution_count": 27,
   "id": "019d853a-fb60-457a-8590-63b3c351957e",
   "metadata": {},
   "outputs": [],
   "source": [
    "da_ffdi_daily = xc.indices.mcarthur_forest_fire_danger_index(da_df_daily, da_tasmax_daily, da_hurs_daily, da_sfcWind_daily)"
   ]
  },
  {
   "cell_type": "code",
   "execution_count": 31,
   "id": "23f121a6-9aaf-4a70-b829-6d7d3a2ddae4",
   "metadata": {
    "scrolled": true
   },
   "outputs": [
    {
     "ename": "ImportError",
     "evalue": "The matplotlib package is required for plotting but could not be imported. Please install it with your package manager (e.g. conda or pip).",
     "output_type": "error",
     "traceback": [
      "\u001b[31m---------------------------------------------------------------------------\u001b[39m",
      "\u001b[31mModuleNotFoundError\u001b[39m                       Traceback (most recent call last)",
      "\u001b[36mFile \u001b[39m\u001b[32m/g/data/xv83/dbi599/miniconda3/envs/xclim/lib/python3.13/site-packages/xarray/core/utils.py:1285\u001b[39m, in \u001b[36mattempt_import\u001b[39m\u001b[34m(module)\u001b[39m\n\u001b[32m   1284\u001b[39m \u001b[38;5;28;01mtry\u001b[39;00m:\n\u001b[32m-> \u001b[39m\u001b[32m1285\u001b[39m     \u001b[38;5;28;01mreturn\u001b[39;00m \u001b[43mimportlib\u001b[49m\u001b[43m.\u001b[49m\u001b[43mimport_module\u001b[49m\u001b[43m(\u001b[49m\u001b[43mmodule\u001b[49m\u001b[43m)\u001b[49m\n\u001b[32m   1286\u001b[39m \u001b[38;5;28;01mexcept\u001b[39;00m (\u001b[38;5;167;01mImportError\u001b[39;00m, \u001b[38;5;167;01mModuleNotFoundError\u001b[39;00m) \u001b[38;5;28;01mas\u001b[39;00m e:\n",
      "\u001b[36mFile \u001b[39m\u001b[32m/g/data/xv83/dbi599/miniconda3/envs/xclim/lib/python3.13/importlib/__init__.py:88\u001b[39m, in \u001b[36mimport_module\u001b[39m\u001b[34m(name, package)\u001b[39m\n\u001b[32m     87\u001b[39m         level += \u001b[32m1\u001b[39m\n\u001b[32m---> \u001b[39m\u001b[32m88\u001b[39m \u001b[38;5;28;01mreturn\u001b[39;00m \u001b[43m_bootstrap\u001b[49m\u001b[43m.\u001b[49m\u001b[43m_gcd_import\u001b[49m\u001b[43m(\u001b[49m\u001b[43mname\u001b[49m\u001b[43m[\u001b[49m\u001b[43mlevel\u001b[49m\u001b[43m:\u001b[49m\u001b[43m]\u001b[49m\u001b[43m,\u001b[49m\u001b[43m \u001b[49m\u001b[43mpackage\u001b[49m\u001b[43m,\u001b[49m\u001b[43m \u001b[49m\u001b[43mlevel\u001b[49m\u001b[43m)\u001b[49m\n",
      "\u001b[36mFile \u001b[39m\u001b[32m<frozen importlib._bootstrap>:1387\u001b[39m, in \u001b[36m_gcd_import\u001b[39m\u001b[34m(name, package, level)\u001b[39m\n",
      "\u001b[36mFile \u001b[39m\u001b[32m<frozen importlib._bootstrap>:1360\u001b[39m, in \u001b[36m_find_and_load\u001b[39m\u001b[34m(name, import_)\u001b[39m\n",
      "\u001b[36mFile \u001b[39m\u001b[32m<frozen importlib._bootstrap>:1324\u001b[39m, in \u001b[36m_find_and_load_unlocked\u001b[39m\u001b[34m(name, import_)\u001b[39m\n",
      "\u001b[31mModuleNotFoundError\u001b[39m: No module named 'matplotlib'",
      "\nThe above exception was the direct cause of the following exception:\n",
      "\u001b[31mImportError\u001b[39m                               Traceback (most recent call last)",
      "\u001b[36mCell\u001b[39m\u001b[36m \u001b[39m\u001b[32mIn[31]\u001b[39m\u001b[32m, line 1\u001b[39m\n\u001b[32m----> \u001b[39m\u001b[32m1\u001b[39m \u001b[43mda_ffdi_daily\u001b[49m\u001b[43m.\u001b[49m\u001b[43msel\u001b[49m\u001b[43m(\u001b[49m\u001b[43mtime\u001b[49m\u001b[43m=\u001b[49m\u001b[38;5;28;43mslice\u001b[39;49m\u001b[43m(\u001b[49m\u001b[33;43m'\u001b[39;49m\u001b[33;43m2008-01-01\u001b[39;49m\u001b[33;43m'\u001b[39;49m\u001b[43m,\u001b[49m\u001b[43m \u001b[49m\u001b[33;43m'\u001b[39;49m\u001b[33;43m2009-12-31\u001b[39;49m\u001b[33;43m'\u001b[39;49m\u001b[43m)\u001b[49m\u001b[43m)\u001b[49m\u001b[43m.\u001b[49m\u001b[43mplot\u001b[49m\u001b[43m(\u001b[49m\u001b[43m)\u001b[49m\n",
      "\u001b[36mFile \u001b[39m\u001b[32m/g/data/xv83/dbi599/miniconda3/envs/xclim/lib/python3.13/site-packages/xarray/plot/accessor.py:48\u001b[39m, in \u001b[36mDataArrayPlotAccessor.__call__\u001b[39m\u001b[34m(self, **kwargs)\u001b[39m\n\u001b[32m     46\u001b[39m \u001b[38;5;129m@functools\u001b[39m.wraps(dataarray_plot.plot, assigned=(\u001b[33m\"\u001b[39m\u001b[33m__doc__\u001b[39m\u001b[33m\"\u001b[39m, \u001b[33m\"\u001b[39m\u001b[33m__annotations__\u001b[39m\u001b[33m\"\u001b[39m))\n\u001b[32m     47\u001b[39m \u001b[38;5;28;01mdef\u001b[39;00m\u001b[38;5;250m \u001b[39m\u001b[34m__call__\u001b[39m(\u001b[38;5;28mself\u001b[39m, **kwargs) -> Any:\n\u001b[32m---> \u001b[39m\u001b[32m48\u001b[39m     \u001b[38;5;28;01mreturn\u001b[39;00m \u001b[43mdataarray_plot\u001b[49m\u001b[43m.\u001b[49m\u001b[43mplot\u001b[49m\u001b[43m(\u001b[49m\u001b[38;5;28;43mself\u001b[39;49m\u001b[43m.\u001b[49m\u001b[43m_da\u001b[49m\u001b[43m,\u001b[49m\u001b[43m \u001b[49m\u001b[43m*\u001b[49m\u001b[43m*\u001b[49m\u001b[43mkwargs\u001b[49m\u001b[43m)\u001b[49m\n",
      "\u001b[36mFile \u001b[39m\u001b[32m/g/data/xv83/dbi599/miniconda3/envs/xclim/lib/python3.13/site-packages/xarray/plot/dataarray_plot.py:310\u001b[39m, in \u001b[36mplot\u001b[39m\u001b[34m(darray, row, col, col_wrap, ax, hue, subplot_kws, **kwargs)\u001b[39m\n\u001b[32m    306\u001b[39m     plotfunc = hist\n\u001b[32m    308\u001b[39m kwargs[\u001b[33m\"\u001b[39m\u001b[33max\u001b[39m\u001b[33m\"\u001b[39m] = ax\n\u001b[32m--> \u001b[39m\u001b[32m310\u001b[39m \u001b[38;5;28;01mreturn\u001b[39;00m \u001b[43mplotfunc\u001b[49m\u001b[43m(\u001b[49m\u001b[43mdarray\u001b[49m\u001b[43m,\u001b[49m\u001b[43m \u001b[49m\u001b[43m*\u001b[49m\u001b[43m*\u001b[49m\u001b[43mkwargs\u001b[49m\u001b[43m)\u001b[49m\n",
      "\u001b[36mFile \u001b[39m\u001b[32m/g/data/xv83/dbi599/miniconda3/envs/xclim/lib/python3.13/site-packages/xarray/plot/dataarray_plot.py:500\u001b[39m, in \u001b[36mline\u001b[39m\u001b[34m(darray, row, col, figsize, aspect, size, ax, hue, x, y, xincrease, yincrease, xscale, yscale, xticks, yticks, xlim, ylim, add_legend, _labels, *args, **kwargs)\u001b[39m\n\u001b[32m    497\u001b[39m \u001b[38;5;28;01melse\u001b[39;00m:\n\u001b[32m    498\u001b[39m     \u001b[38;5;28;01massert\u001b[39;00m \u001b[33m\"\u001b[39m\u001b[33margs\u001b[39m\u001b[33m\"\u001b[39m \u001b[38;5;129;01mnot\u001b[39;00m \u001b[38;5;129;01min\u001b[39;00m kwargs\n\u001b[32m--> \u001b[39m\u001b[32m500\u001b[39m ax = \u001b[43mget_axis\u001b[49m\u001b[43m(\u001b[49m\u001b[43mfigsize\u001b[49m\u001b[43m,\u001b[49m\u001b[43m \u001b[49m\u001b[43msize\u001b[49m\u001b[43m,\u001b[49m\u001b[43m \u001b[49m\u001b[43maspect\u001b[49m\u001b[43m,\u001b[49m\u001b[43m \u001b[49m\u001b[43max\u001b[49m\u001b[43m)\u001b[49m\n\u001b[32m    501\u001b[39m xplt, yplt, hueplt, hue_label = _infer_line_data(darray, x, y, hue)\n\u001b[32m    503\u001b[39m \u001b[38;5;66;03m# Remove pd.Intervals if contained in xplt.values and/or yplt.values.\u001b[39;00m\n",
      "\u001b[36mFile \u001b[39m\u001b[32m/g/data/xv83/dbi599/miniconda3/envs/xclim/lib/python3.13/site-packages/xarray/plot/utils.py:468\u001b[39m, in \u001b[36mget_axis\u001b[39m\u001b[34m(figsize, size, aspect, ax, **subplot_kws)\u001b[39m\n\u001b[32m    466\u001b[39m     \u001b[38;5;28;01mimport\u001b[39;00m\u001b[38;5;250m \u001b[39m\u001b[34;01mmatplotlib\u001b[39;00m\u001b[34;01m.\u001b[39;00m\u001b[34;01mpyplot\u001b[39;00m\u001b[38;5;250m \u001b[39m\u001b[38;5;28;01mas\u001b[39;00m\u001b[38;5;250m \u001b[39m\u001b[34;01mplt\u001b[39;00m\n\u001b[32m    467\u001b[39m \u001b[38;5;28;01melse\u001b[39;00m:\n\u001b[32m--> \u001b[39m\u001b[32m468\u001b[39m     mpl = \u001b[43mattempt_import\u001b[49m\u001b[43m(\u001b[49m\u001b[33;43m\"\u001b[39;49m\u001b[33;43mmatplotlib\u001b[39;49m\u001b[33;43m\"\u001b[39;49m\u001b[43m)\u001b[49m\n\u001b[32m    469\u001b[39m     plt = attempt_import(\u001b[33m\"\u001b[39m\u001b[33mmatplotlib.pyplot\u001b[39m\u001b[33m\"\u001b[39m)\n\u001b[32m    471\u001b[39m \u001b[38;5;28;01mif\u001b[39;00m figsize \u001b[38;5;129;01mis\u001b[39;00m \u001b[38;5;129;01mnot\u001b[39;00m \u001b[38;5;28;01mNone\u001b[39;00m:\n",
      "\u001b[36mFile \u001b[39m\u001b[32m/g/data/xv83/dbi599/miniconda3/envs/xclim/lib/python3.13/site-packages/xarray/core/utils.py:1287\u001b[39m, in \u001b[36mattempt_import\u001b[39m\u001b[34m(module)\u001b[39m\n\u001b[32m   1285\u001b[39m     \u001b[38;5;28;01mreturn\u001b[39;00m importlib.import_module(module)\n\u001b[32m   1286\u001b[39m \u001b[38;5;28;01mexcept\u001b[39;00m (\u001b[38;5;167;01mImportError\u001b[39;00m, \u001b[38;5;167;01mModuleNotFoundError\u001b[39;00m) \u001b[38;5;28;01mas\u001b[39;00m e:\n\u001b[32m-> \u001b[39m\u001b[32m1287\u001b[39m     \u001b[38;5;28;01mraise\u001b[39;00m \u001b[38;5;167;01mImportError\u001b[39;00m(\n\u001b[32m   1288\u001b[39m         \u001b[33mf\u001b[39m\u001b[33m\"\u001b[39m\u001b[33mThe \u001b[39m\u001b[38;5;132;01m{\u001b[39;00minstall_name\u001b[38;5;132;01m}\u001b[39;00m\u001b[33m package is required \u001b[39m\u001b[38;5;132;01m{\u001b[39;00mreason\u001b[38;5;132;01m}\u001b[39;00m\u001b[33m\"\u001b[39m\n\u001b[32m   1289\u001b[39m         \u001b[33m\"\u001b[39m\u001b[33m but could not be imported.\u001b[39m\u001b[33m\"\u001b[39m\n\u001b[32m   1290\u001b[39m         \u001b[33m\"\u001b[39m\u001b[33m Please install it with your package manager (e.g. conda or pip).\u001b[39m\u001b[33m\"\u001b[39m\n\u001b[32m   1291\u001b[39m     ) \u001b[38;5;28;01mfrom\u001b[39;00m\u001b[38;5;250m \u001b[39m\u001b[34;01me\u001b[39;00m\n",
      "\u001b[31mImportError\u001b[39m: The matplotlib package is required for plotting but could not be imported. Please install it with your package manager (e.g. conda or pip)."
     ]
    }
   ],
   "source": [
    "da_ffdi_daily.sel(time=slice('2008-01-01', '2009-12-31')).plot()"
   ]
  },
  {
   "cell_type": "code",
   "execution_count": null,
   "id": "5db0433f",
   "metadata": {},
   "outputs": [],
   "source": [
    "#def calculate_ffdi(pra, tasmaxa, pr_annual, hursmina, sfcWindmaxa):\n",
    "#    KBDI = keetch_byram_drought_index(pra, tasmaxa, pr_annual)\n",
    "#    DF = griffiths_drought_factor(pra, KBDI)\n",
    "#    FFDI = mcarthur_forest_fire_danger_index(DF, tasmaxa, hursmina, sfcWindmaxa)\n",
    "#    return FFDI.to_dataset(name='FFDI')"
   ]
  }
 ],
 "metadata": {
  "kernelspec": {
   "display_name": "Python 3 (ipykernel)",
   "language": "python",
   "name": "python3"
  },
  "language_info": {
   "codemirror_mode": {
    "name": "ipython",
    "version": 3
   },
   "file_extension": ".py",
   "mimetype": "text/x-python",
   "name": "python",
   "nbconvert_exporter": "python",
   "pygments_lexer": "ipython3",
   "version": "3.13.3"
  }
 },
 "nbformat": 4,
 "nbformat_minor": 5
}
