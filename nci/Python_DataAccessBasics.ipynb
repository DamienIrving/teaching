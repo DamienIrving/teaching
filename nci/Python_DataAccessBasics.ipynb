{
 "cells": [
  {
   "cell_type": "markdown",
   "metadata": {},
   "source": [
    "![](../nci-logo.png)\n",
    "\n",
    "-------\n",
    "# Data Access and Manipulation using iPython Notebooks\n",
    "## The Basics\n",
    "\n",
    "\n",
    "\n",
    "### In this notebook:\n",
    "\n",
    "- Using iPython Notebooks with NetCDF data within the VDI\n",
    "    - <a href='#part1'>Launch Jupyter Notebook</a>  \n",
    "    - <a href='#part2'>What is Xarray</a>  \n",
    "    - <a href='#part3'>Remote vs. direct filesystem access</a> \n",
    "    - <a href='#part4a'>File Variables and Attributes</a> \n",
    "    - <a href='#part5'>Subsetting</a>\n",
    "    - <a href='#part6'>Xarray .plot()</a>\n",
    "---------\n",
    "\n",
    "<br>\n"
   ]
  },
  {
   "cell_type": "markdown",
   "metadata": {
    "collapsed": true
   },
   "source": [
    "<a id='part1'></a> \n",
    "## Launch the Jupyter Notebook application\n",
    "\n",
    "#### Using the public hh5 conda environment managed by CLEX\n",
    "\n",
    "Many python modules are available under the hh5 conda environment that is maintained by CLEX, as well as additional modules such as that of CleF used in the previous examples. Also load pre-built netCDF and Xarray module. \n",
    "```\n",
    "    $ module use /g/data3/hh5/public/modules\n",
    "    $ module load conda/analysis3\n",
    "   \n",
    "```  \n",
    "\n",
    "Launch the Jupyter Notebook application:\n",
    "```\n",
    "    $ jupyter notebook\n",
    "``` \n",
    "\n",
    "<div class=\"alert alert-info\">\n",
    "<b>NOTE: </b> This will launch the <b>Notebook Dashboard</b> within a new web browser window. \n",
    "</div>\n",
    "\n",
    "<br>\n",
    "\n"
   ]
  },
  {
   "cell_type": "markdown",
   "metadata": {},
   "source": [
    "<a id='part2'></a> \n",
    "## Xarray\n",
    "\n",
    "Xarray builds upon and extends the strengths of panda and numpy. Numpy provides the structure and core for working with multi-dimensional arrays while pandas integrates it indexing and dataframe type capabilities. Xarray is actively developed by the climate science community and useful tool for analysis. For more information on the developments being undertaken (along with other related projects) see the Pangeo community: https://pangeo.io/\n",
    "\n",
    "We will use xarray to open the CMIP5 file defined above. Opening a file with xarray creates an xarray.Dataset. A 'Dataset' is a collection of multiple variables. A DataArray on the other hand is a single multi-dimensional variable and the coordinates. \n",
    "\n",
    "xarray always load netCDF data 'lazily', this means that data can be manipuateld, sliced and subset without loading array values into memory. Data is loaded into memory when the load() command is applied or when a computaiton is performed on the data.\n",
    "\n",
    "xarray is designed for use with multidimensional datasets and is paritcularly useful for climate data on multidimensionl grids with dimensions such as lat, lon, depth and time. "
   ]
  },
  {
   "cell_type": "markdown",
   "metadata": {},
   "source": [
    "#### Import the xarray and netCDF modules"
   ]
  },
  {
   "cell_type": "code",
   "execution_count": null,
   "metadata": {},
   "outputs": [],
   "source": [
    "import xarray as xr\n",
    "import netCDF4 as nc"
   ]
  },
  {
   "cell_type": "markdown",
   "metadata": {},
   "source": [
    "<a id='part3'></a> \n",
    "## Remote vs. direct filesystem access\n",
    "\n",
    "In this example, we will use a file from the CMIP5 Australian Published data collection, spefically the monthly historical tasmax data:\n",
    "\n",
    "    /g/data/rr3/publications/CMIP5/output1/CSIRO-BOM/ACCESS1-3/historical/mon/atmos/Amon/r1i1p1/v20120727/tasmax/tasmax_Amon_ACCESS1-0_historical_r1i1p1_185001-200512.nc\n",
    "    \n",
    "\n",
    "and we are going to compare direct vs. remote access. Timings (using the `%%time` magic function) will also be shown to help illustrate when it can be useful to conduct analysis on the filesystem."
   ]
  },
  {
   "cell_type": "markdown",
   "metadata": {},
   "source": [
    "#### Local path on /g/data"
   ]
  },
  {
   "cell_type": "code",
   "execution_count": null,
   "metadata": {},
   "outputs": [],
   "source": [
    "path = '/g/data/rr3/publications/CMIP5/output1/CSIRO-BOM/ACCESS1-3/historical/mon/atmos/\\\n",
    "Amon/r1i1p1/v20130325/tasmax/tasmax_Amon_ACCESS1-3_historical_r1i1p1_185001-200512.nc'"
   ]
  },
  {
   "cell_type": "markdown",
   "metadata": {},
   "source": [
    "#### OPeNDAP Data URL\n",
    "\n",
    "For more information on where to find OPeNDAP URL's, see:\n",
    "<a href=\"https://nbviewer.jupyter.org/github/nci-training/readthedoc_NCI_data_training/blob/master/docs/_notebook/TDS/tds_OPeNDAP_cmip5.ipynb\">THREDDS Data Server: Data Access</a>\n"
   ]
  },
  {
   "cell_type": "code",
   "execution_count": null,
   "metadata": {},
   "outputs": [],
   "source": [
    "url = 'http://dapds00.nci.org.au/thredds/dodsC/rr3/CMIP5/output1/CSIRO-BOM/ACCESS1-3/historical/mon/atmos/\\\n",
    "Amon/r1i1p1/v20130325/tasmax/tasmax_Amon_ACCESS1-3_historical_r1i1p1_185001-200512.nc'"
   ]
  },
  {
   "cell_type": "markdown",
   "metadata": {},
   "source": [
    "#### Open the file, comparing the time on the local filesystem and remote url"
   ]
  },
  {
   "cell_type": "code",
   "execution_count": null,
   "metadata": {},
   "outputs": [],
   "source": [
    "%%time\n",
    "f1 = xr.open_dataset(path)"
   ]
  },
  {
   "cell_type": "code",
   "execution_count": null,
   "metadata": {},
   "outputs": [],
   "source": [
    "%%time\n",
    "f2 = xr.open_dataset(url)"
   ]
  },
  {
   "cell_type": "markdown",
   "metadata": {},
   "source": [
    "#### Not much different in times because of the lazy loading of data. But if force the data to load into memory:"
   ]
  },
  {
   "cell_type": "code",
   "execution_count": null,
   "metadata": {},
   "outputs": [],
   "source": [
    "%%time\n",
    "f1 = xr.open_dataset(path)\n",
    "tasmax = f1.tasmax\n",
    "tasmax.load()"
   ]
  },
  {
   "cell_type": "code",
   "execution_count": null,
   "metadata": {},
   "outputs": [],
   "source": [
    "%%time\n",
    "f2 = xr.open_dataset(url)\n",
    "tasmax = f2.tasmax\n",
    "tasmax.load()"
   ]
  },
  {
   "cell_type": "markdown",
   "metadata": {},
   "source": [
    "<div class=\"alert alert-info\">\n",
    "One big advantage of working directly on the filesystem is that data access is much faster. For modest subsets, the difference is quite small but as you work with larger data, remote access can become much slower or even exceed NCI's THREDDS Data Server memory limits. "
   ]
  },
  {
   "cell_type": "markdown",
   "metadata": {},
   "source": [
    "<a id='part4a'></a>\n",
    "## File variables and attributes\n",
    "\n",
    "With xarray, you can easily view the dataset variables and attributes contained in the file by printing the loaded metadata"
   ]
  },
  {
   "cell_type": "code",
   "execution_count": null,
   "metadata": {},
   "outputs": [],
   "source": [
    "f1 = xr.open_dataset(path)\n",
    "print(f1)"
   ]
  },
  {
   "cell_type": "markdown",
   "metadata": {},
   "source": [
    "### Dataset and DataArray\n",
    "\n",
    "In the above we have loaded the Dataset and you can see the multiple variables included in the file. If we look at a specific variable, like tasmax, we will get an xarray.DataArray with its coordinates."
   ]
  },
  {
   "cell_type": "code",
   "execution_count": null,
   "metadata": {},
   "outputs": [],
   "source": [
    "f1 = xr.open_dataset(path)\n",
    "print(f1.tasmax)"
   ]
  },
  {
   "cell_type": "markdown",
   "metadata": {},
   "source": [
    "#### Print an attribute\n",
    "The attributes of a variable can be easily accessed using the `.<attribute>` command. So if we want to print the units of tasmax we could go:"
   ]
  },
  {
   "cell_type": "code",
   "execution_count": null,
   "metadata": {},
   "outputs": [],
   "source": [
    "f1.tasmax.units"
   ]
  },
  {
   "cell_type": "markdown",
   "metadata": {},
   "source": [
    "<a id='part5'></a>\n",
    "## Subsettting\n",
    "\n",
    "There are multiple ways to select subsets of the data using xarray. \n",
    "\n",
    "#### 1. Using the regular numpy method of indexing:\n"
   ]
  },
  {
   "cell_type": "code",
   "execution_count": null,
   "metadata": {},
   "outputs": [],
   "source": [
    "tasmax = f1.tasmax\n",
    "tasmax[1:10,:,0].values"
   ]
  },
  {
   "cell_type": "markdown",
   "metadata": {},
   "source": [
    "But in the above it is not as simple to know *where* the values selected have come from. xarray.sel() permits label based indexing.\n",
    "\n",
    "#### 2. Using .sel() for label based indexing\n",
    "\n",
    "In the case below we find the values of tasmax for latitude of -12.46 and longitude at 130.85 degrees - approxmately Darwin. This is done using the `.sel()` method which can be performed on a Dataset or DataArray. This method permits selection based on coordinates rather than indices. \n",
    "\n",
    "However, it is unlikely there is a specific lat/lon coorinate value at those exact locations. For example look at the available values of longitude:"
   ]
  },
  {
   "cell_type": "code",
   "execution_count": null,
   "metadata": {},
   "outputs": [],
   "source": [
    "f1.lon"
   ]
  },
  {
   "cell_type": "markdown",
   "metadata": {},
   "source": [
    "There is no longitude value at 130.85 deg E, thus if we wanted to find the tasmax over Darwin, we need to use interpolation. This is done by adding an argument to the `.sel()` command and in this case we are going to use the nearest neighbour method."
   ]
  },
  {
   "cell_type": "code",
   "execution_count": null,
   "metadata": {},
   "outputs": [],
   "source": [
    "tasmax.sel(lon=130.85,lat=-12.46,method='nearest')"
   ]
  },
  {
   "cell_type": "markdown",
   "metadata": {},
   "source": [
    "### Subsetting in Time \n",
    "Notice that the time variable has also been automatically decoded by xarray to represent dates rather than floats"
   ]
  },
  {
   "cell_type": "code",
   "execution_count": null,
   "metadata": {},
   "outputs": [],
   "source": [
    "f1.time"
   ]
  },
  {
   "cell_type": "markdown",
   "metadata": {},
   "source": [
    "Compared to the original numpy data:"
   ]
  },
  {
   "cell_type": "code",
   "execution_count": null,
   "metadata": {},
   "outputs": [],
   "source": [
    "ft = xr.open_dataset(path, decode_times=False)\n",
    "ft.time"
   ]
  },
  {
   "cell_type": "markdown",
   "metadata": {},
   "source": [
    "This decoding is very helpful in quickly selecting data over specific time periods."
   ]
  },
  {
   "cell_type": "markdown",
   "metadata": {},
   "source": [
    "### Exercise\n",
    "\n",
    "Using the `.sel` method show above. Find the tasmax values during the year 2005. What are the dimensions of tasmax in this case?\n",
    "\n",
    "<a href=\"#ans1\" data-toggle=\"collapse\">Answer</a>\n",
    "<div class=\"collapse\" id=\"ans1\">\n",
    "<pre><code>\n",
    "tasmax.sel(time='2005')\n",
    "</code></pre>\n",
    "</div>"
   ]
  },
  {
   "cell_type": "code",
   "execution_count": null,
   "metadata": {
    "scrolled": false
   },
   "outputs": [],
   "source": []
  },
  {
   "cell_type": "markdown",
   "metadata": {},
   "source": [
    "### Selecting data within a range of values\n",
    "\n",
    "In the above examples we found the tasmax values at a particular lat/lon location, and a particular time. To select data over a range of values you can use the `slice()` function under the `sel()` command.\n",
    "\n",
    "In the below case we are getting the subset of tasmax data from years 2000 to 2005 and between latitudes 20S to 20N."
   ]
  },
  {
   "cell_type": "code",
   "execution_count": null,
   "metadata": {},
   "outputs": [],
   "source": [
    "subset = tasmax.sel(time=slice('2000','2005'),lat=slice(-20,20))\n",
    "subset"
   ]
  },
  {
   "cell_type": "markdown",
   "metadata": {},
   "source": [
    "### Exercise\n",
    "Find the tasmax values over Australia, between latitudes -45 to -10 deg N and longitudes of 110 to 155 deg E and during the years from 1990 to 2000."
   ]
  },
  {
   "cell_type": "code",
   "execution_count": null,
   "metadata": {},
   "outputs": [],
   "source": []
  },
  {
   "cell_type": "markdown",
   "metadata": {},
   "source": [
    "<a id='part6'></a>\n",
    "## Xarray .plot()\n",
    "\n",
    "Plotting with xarray it very simple. Xarray plots will automatically define the axes values and labels based on the information contained within the data array."
   ]
  },
  {
   "cell_type": "code",
   "execution_count": null,
   "metadata": {},
   "outputs": [],
   "source": [
    "tasmax.sel(time='2005-01-16',method='nearest').plot()"
   ]
  },
  {
   "cell_type": "code",
   "execution_count": null,
   "metadata": {},
   "outputs": [],
   "source": [
    "tasmax.sel(lon=130.85,lat=-12.46,method='nearest').plot()"
   ]
  },
  {
   "cell_type": "markdown",
   "metadata": {},
   "source": [
    "### Exercise\n",
    "\n",
    "Try plotting the colormap of tasmax in the region over Australia. So that is between latitudes -45 to -10 deg N of and longitudes of 110 to 155 deg E. Pick the date for the year and month you were born and plot for that."
   ]
  },
  {
   "cell_type": "code",
   "execution_count": null,
   "metadata": {},
   "outputs": [],
   "source": []
  }
 ],
 "metadata": {
  "anaconda-cloud": {},
  "kernelspec": {
   "display_name": "Python 3",
   "language": "python",
   "name": "python3"
  },
  "language_info": {
   "codemirror_mode": {
    "name": "ipython",
    "version": 3
   },
   "file_extension": ".py",
   "mimetype": "text/x-python",
   "name": "python",
   "nbconvert_exporter": "python",
   "pygments_lexer": "ipython3",
   "version": "3.6.7"
  }
 },
 "nbformat": 4,
 "nbformat_minor": 1
}
