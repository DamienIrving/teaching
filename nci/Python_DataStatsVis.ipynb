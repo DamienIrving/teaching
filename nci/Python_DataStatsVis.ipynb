{
 "cells": [
  {
   "cell_type": "markdown",
   "metadata": {},
   "source": [
    "![](../nci-logo.png)\n",
    "\n",
    "-------\n",
    "# Data Calculations and Visualisations Notebooks\n",
    "\n",
    "### In this notebook:\n",
    "\n",
    "- Using iPython Notebooks with NetCDF data within the VDI\n",
    "    - <a href='#part1'>Launch Jupyter Notebook</a>  \n",
    "    - <a href='#part2'>Setup and Load Data</a>  \n",
    "    - <a href='#part3'>Common Operations</a> \n",
    "    - <a href='#part4'>Resampling and Rolling Mean</a> \n",
    "    - <a href='#part5'>Climatologies</a>\n",
    "    - <a href='#part6'>Plot - Extras</a>\n",
    "---------\n"
   ]
  },
  {
   "cell_type": "markdown",
   "metadata": {
    "collapsed": true
   },
   "source": [
    "<a id='part1'></a> \n",
    "## Launch the Jupyter Notebook application\n",
    "\n",
    "#### Using the public hh5 conda environment managed by CLEX\n",
    "\n",
    "Many python modules are available under the hh5 conda environment that is maintained by CLEX, as well as additional modules such as that of CleF used in the previous examples. This environment is publically available and developed to service the CLEX users allowing use cases for the wider communinty.\n",
    "```\n",
    "    $ module use /g/data3/hh5/public/modules\n",
    "    $ module load conda/analysis3\n",
    "```  \n",
    "\n",
    "Launch the Jupyter Notebook application:\n",
    "```\n",
    "    $ jupyter notebook\n",
    "``` \n",
    "\n",
    "<div class=\"alert alert-info\">\n",
    "<b>NOTE: </b> This will launch the <b>Notebook Dashboard</b> within a new web browser window. \n",
    "</div>"
   ]
  },
  {
   "cell_type": "markdown",
   "metadata": {},
   "source": [
    "<a id='part2'></a> \n",
    "## Setup and Load Data"
   ]
  },
  {
   "cell_type": "markdown",
   "metadata": {},
   "source": [
    "#### Load the required modules"
   ]
  },
  {
   "cell_type": "code",
   "execution_count": null,
   "metadata": {},
   "outputs": [],
   "source": [
    "import xarray as xr\n",
    "import netCDF4 as nc"
   ]
  },
  {
   "cell_type": "markdown",
   "metadata": {},
   "source": [
    "#### Opening Multiple Files at Once\n",
    "\n",
    "xarray's `open_mfdataset` allows multiple files to be opened simultaneously."
   ]
  },
  {
   "cell_type": "code",
   "execution_count": null,
   "metadata": {},
   "outputs": [],
   "source": [
    "!ls /g/data/oi10/replicas/CMIP6/CMIP/NOAA-GFDL/GFDL-CM4/historical/r1i1p1f1/Amon/tas/gr1/v20180701\n",
    "path = '/g/data/oi10/replicas/CMIP6/CMIP/NOAA-GFDL/GFDL-CM4/historical/r1i1p1f1/Amon/tas/gr1/v20180701/*'\n",
    "f_hist = xr.open_mfdataset(path)\n",
    "tas = f_hist.tas - 273.15"
   ]
  },
  {
   "cell_type": "markdown",
   "metadata": {},
   "source": [
    "<a id='part3'></a> \n",
    "## Common Operations\n",
    "\n",
    "Xarray supports many of the statistical operations commonly performed on climate data arrays. Examples include:\n",
    "\n",
    "    Mean\n",
    "    Standard Deviation\n",
    "    Minimum\n",
    "    Maximum\n",
    "\n",
    "The operations are done with numpy-like syntax that many users are familiar with: `.mean()`, `.stddef()`, etc. For example, calculating a simple mean would be done via:\n"
   ]
  },
  {
   "cell_type": "code",
   "execution_count": null,
   "metadata": {},
   "outputs": [],
   "source": [
    "tas.mean()"
   ]
  },
  {
   "cell_type": "markdown",
   "metadata": {},
   "source": [
    "The above mean() happened very quickly because of lazy loading, which we talked about before. The resultant array still remains an xarray DataArray."
   ]
  },
  {
   "cell_type": "markdown",
   "metadata": {},
   "source": [
    "### Xarray Operations and Missing Values\n",
    "\n",
    "In general when using numpy, a user would need to mask out the missing or nan values of an array. As long as the nan or missing values are defined in the data array, the operations in general will be performed excluding those values."
   ]
  },
  {
   "cell_type": "code",
   "execution_count": null,
   "metadata": {},
   "outputs": [],
   "source": [
    "import numpy as np\n",
    "nan_test=xr.DataArray([1,3,np.nan])\n",
    "nan_test.mean()"
   ]
  },
  {
   "cell_type": "markdown",
   "metadata": {},
   "source": [
    "### Xarray Operations on Subsets\n",
    "\n",
    "As with data subsetting, one of the advantages of xarray it that it permits operations to be performed specified via a list of dimension labels.\n",
    "\n",
    "For example, to calculate the mean in time would be:"
   ]
  },
  {
   "cell_type": "code",
   "execution_count": null,
   "metadata": {},
   "outputs": [],
   "source": [
    "tas.mean(dim='time')"
   ]
  },
  {
   "cell_type": "markdown",
   "metadata": {},
   "source": [
    "To calculate the mean over lat and lon you will need to take into account the size of the grid cells and weight the mean by the area of those grid cells.\n",
    "\n",
    "In CMIP6 the cell areas are included under the CMIP_table parameter 'fx' for atmosphere and land parameters and 'Ofx' for ocean. In this case we will use area of atmospheric cells areacella."
   ]
  },
  {
   "cell_type": "code",
   "execution_count": null,
   "metadata": {},
   "outputs": [],
   "source": [
    "file_area = xr.open_dataset('/g/data/oi10/replicas/CMIP6/CMIP/NOAA-GFDL/GFDL-CM4/historical/\\\n",
    "r1i1p1f1/fx/areacella/gr1/v20180701/areacella_fx_GFDL-CM4_historical_r1i1p1f1_gr1.nc')\n",
    "area = file_area.areacella\n",
    "area"
   ]
  },
  {
   "cell_type": "markdown",
   "metadata": {},
   "source": [
    "We can now calculate the area weighted mean using the above variable and xarray operations."
   ]
  },
  {
   "cell_type": "code",
   "execution_count": null,
   "metadata": {
    "scrolled": false
   },
   "outputs": [],
   "source": [
    "tas_area = tas*area\n",
    "tas_wmean = tas_area.sum(['lat','lon']) / (area.sum())\n",
    "tas_anom = tas_wmean - tas_wmean.mean()\n",
    "tas_anom.plot()"
   ]
  },
  {
   "cell_type": "markdown",
   "metadata": {},
   "source": [
    "### Exercise\n",
    "\n",
    "Find the minimum temperature in a box spanning the coordinates\n",
    "\n",
    "    lon: 80 - 120\n",
    "    lat: 10N - 20N\n",
    "\n",
    "<a href=\"#ans1\" data-toggle=\"collapse\">Answer</a>\n",
    "<div class=\"collapse\" id=\"ans1\">\n",
    "<pre><code>\n",
    "tas.sel(lat=slice(10,20),lon=slice(80,120)).min()\n",
    "</code></pre>\n",
    "</div>"
   ]
  },
  {
   "cell_type": "code",
   "execution_count": null,
   "metadata": {},
   "outputs": [],
   "source": []
  },
  {
   "cell_type": "markdown",
   "metadata": {},
   "source": [
    "<a id='part4'></a> \n",
    "## Resampling and Rolling Mean\n",
    "\n",
    "The previous time-series plot was a bit hectic. We probably want to resample in time or take a rolling mean to remove the smaller scales of the data and see the longer term trend.\n",
    "\n",
    "xarray very easily support both resampling and rolling means with the `.rolling` and the `.resample` operations. \n",
    "\n",
    "Starting with a rolling mean we'll use a 1 year window (time=12 as is monthly data)."
   ]
  },
  {
   "cell_type": "code",
   "execution_count": null,
   "metadata": {},
   "outputs": [],
   "source": [
    "tas_roll = tas_anom.rolling(time=12,center=True).mean()\n",
    "tas_anom.plot()\n",
    "tas_roll.plot()"
   ]
  },
  {
   "cell_type": "markdown",
   "metadata": {},
   "source": [
    "Resampling can work in a similar way to the rolling mean. Resampling works with time data (with datetime64 variable in dimensions) and allows you to change the time frequency of your data. If you have a monthly dataset and you want that as a yearly dataset (or a 6hrly dataset that you want daily, etc) you can use the resample command while taking the mean over the resampling period.\n",
    "\n",
    "In the example below we have defined the new resampling period to be annual 'A' and have taken the mean over the monthly data in each year to produce a yearly average time series. Compare it to the rolling mean case above."
   ]
  },
  {
   "cell_type": "code",
   "execution_count": null,
   "metadata": {
    "scrolled": true
   },
   "outputs": [],
   "source": [
    "tas_res=tas_anom.resample(time='A').mean(dim='time')\n",
    "tas_roll.plot()\n",
    "tas_res.plot()"
   ]
  },
  {
   "cell_type": "markdown",
   "metadata": {},
   "source": [
    "### Exercise\n",
    "\n",
    "Try rolling or resampling at other frequencies. Look at smaller subsets to see the difference."
   ]
  },
  {
   "cell_type": "code",
   "execution_count": null,
   "metadata": {},
   "outputs": [],
   "source": []
  },
  {
   "cell_type": "markdown",
   "metadata": {},
   "source": [
    "<a id='part5'></a> \n",
    "## Climatologies\n",
    "\n",
    "With `.groupby()` you can easily create a climatology and calculate anomalies. In this example, working with monthly data, a new dimenion will be created that is the months of the year. \n",
    "\n",
    "Lets create a climatology from pre-1900 data:"
   ]
  },
  {
   "cell_type": "code",
   "execution_count": null,
   "metadata": {
    "scrolled": true
   },
   "outputs": [],
   "source": [
    "climatology = tas.sel(time=slice('1800','1900')).groupby('time.month').mean(dim='time')\n",
    "climatology"
   ]
  },
  {
   "cell_type": "markdown",
   "metadata": {},
   "source": [
    "### Exercise\n",
    "\n",
    "Instead of grouping by month, group by 'season'. \n",
    "Plot one of the seasons.\n",
    "\n",
    "<a href=\"#ans2\" data-toggle=\"collapse\">Answer</a>\n",
    "<div class=\"collapse\" id=\"ans2\">\n",
    "<pre><code>\n",
    "climatology_seas = tas.sel(time=slice('1800','1900')).groupby('time.season').mean(dim='time')\n",
    "climatology_seas.sel(season='DJF').plot()\n",
    "</code></pre>\n",
    "</div>"
   ]
  },
  {
   "cell_type": "code",
   "execution_count": null,
   "metadata": {},
   "outputs": [],
   "source": []
  },
  {
   "cell_type": "markdown",
   "metadata": {},
   "source": [
    "<a id='part6'></a> \n",
    "## Plot - Extras"
   ]
  },
  {
   "cell_type": "markdown",
   "metadata": {},
   "source": [
    "### Subplots\n",
    "\n",
    "In the seasonal climatology case we have created a climiatolgy with 4 periods in time relating the the seasons. It is very simple to plot all the seasons in a single plot simple by specifying which variable defines the `row` and how many columns to produce (we have also defined the colourbar limits using `vmin` and `vmax`):"
   ]
  },
  {
   "cell_type": "code",
   "execution_count": null,
   "metadata": {},
   "outputs": [],
   "source": [
    "climatology_seas.plot(row='season',col_wrap=2,vmin=-10,vmax=40)"
   ]
  },
  {
   "cell_type": "markdown",
   "metadata": {},
   "source": [
    "We can integrate projections with the xarray datasets using the cartopy command."
   ]
  },
  {
   "cell_type": "code",
   "execution_count": null,
   "metadata": {
    "scrolled": false
   },
   "outputs": [],
   "source": [
    "import cartopy.crs as ccrs\n",
    "import matplotlib.pyplot as plt\n",
    "\n",
    "plt.figure(figsize=(6, 4))\n",
    "ax = plt.axes(projection=ccrs.Orthographic(central_longitude=140))\n",
    "ax.coastlines()\n",
    "\n",
    "climatology_seas.sel(season='DJF').plot(transform=ccrs.PlateCarree(), vmin=-2, vmax=30,\n",
    "            cbar_kwargs={'shrink': 0.8})"
   ]
  },
  {
   "cell_type": "markdown",
   "metadata": {},
   "source": [
    "### Exercise\n",
    "\n",
    "Make your own plot using your favorite projection: https://scitools.org.uk/cartopy/docs/latest/crs/projections.html"
   ]
  },
  {
   "cell_type": "code",
   "execution_count": null,
   "metadata": {
    "scrolled": true
   },
   "outputs": [],
   "source": []
  }
 ],
 "metadata": {
  "anaconda-cloud": {},
  "kernelspec": {
   "display_name": "Python 3",
   "language": "python",
   "name": "python3"
  },
  "language_info": {
   "codemirror_mode": {
    "name": "ipython",
    "version": 3
   },
   "file_extension": ".py",
   "mimetype": "text/x-python",
   "name": "python",
   "nbconvert_exporter": "python",
   "pygments_lexer": "ipython3",
   "version": "3.6.7"
  }
 },
 "nbformat": 4,
 "nbformat_minor": 1
}
