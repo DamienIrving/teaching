{
 "cells": [
  {
   "cell_type": "markdown",
   "metadata": {},
   "source": [
    "# Using CleF - Climate Finder to discover ESGF data at NCI"
   ]
  },
  {
   "cell_type": "markdown",
   "metadata": {},
   "source": [
    "This notebook shows examples of how to use the CleF (Climate Finder) python module to search for ESGF data on the NCI server. <br>\n",
    "Currently the tool is set up for CMIP5 and CMIP6 data, but other ESGF dataset like CORDEX will be available in the future. <br> \n",
    "\n",
    "CleF is currently installed in the unstable version of the CMS conda module analysis3. This is managed by the CMS and is available simply by running\n",
    "  >  module use /g/data3/hh5/public/modules <br>\n",
    "  >  module load conda/analysis3-unstable\n",
    "  \n",
    "You could use the module interactively, for the moment we will use its command line options. <br>\n",
    "Let's start!"
   ]
  },
  {
   "cell_type": "markdown",
   "metadata": {},
   "source": [
    "## Command syntax"
   ]
  },
  {
   "cell_type": "code",
   "execution_count": null,
   "metadata": {},
   "outputs": [],
   "source": [
    "# supress a wanring in the dev analysis3 state\n",
    "import os\n",
    "del os.environ['BASH_FUNC_module()']"
   ]
  },
  {
   "cell_type": "code",
   "execution_count": null,
   "metadata": {},
   "outputs": [],
   "source": [
    "!clef"
   ]
  },
  {
   "cell_type": "markdown",
   "metadata": {},
   "source": [
    "By simpling running the command **clef** with no arguments, the tool shows the help message and then exits, basically it is equivalent to \n",
    "> clef --help <br>\n",
    "\n",
    "We can see currently there are 3 sub-commands, **ds** to search for non-ESGF collections and one for each cmip dataset: **cmip5** and **cmip6**.  <br>\n",
    "There are also five different options that can be passed before the sub-commands, one we have already seen is *--help*. The others are used to modify how the tool will deal with the main query output. We will have a look at them and at **ds** later. <br>\n",
    "Let's start from searching some CMIP5 data, to see what we can pass to the **cmip5** sub-command we can simply run it with its *--help* option."
   ]
  },
  {
   "cell_type": "markdown",
   "metadata": {},
   "source": [
    "## CMIP5"
   ]
  },
  {
   "cell_type": "code",
   "execution_count": null,
   "metadata": {
    "scrolled": true
   },
   "outputs": [],
   "source": [
    "!clef cmip5 --help"
   ]
  },
  {
   "cell_type": "markdown",
   "metadata": {},
   "source": [
    "### Passing arguments and options"
   ]
  },
  {
   "cell_type": "markdown",
   "metadata": {},
   "source": [
    "The *help* shows all the constraints we can pass to the tool, there are also some additional options which can change the way we run our search. For the moment we can ignore these and use their default values. <br>\n",
    "Some of the constraints can be passed using an abbreviation,like *-v* instead of *--variable*. This is handy once you are more familiar with the tool. <br>\n",
    "The same option can have more than one name, for example *--ensemble* can also be passed as *--member*, this is because the terminology has changed between CMIP5 and CMIP6. <br>\n",
    "You can pass how many constraints you want and pass the same constraint more than once. Let's see what happens though if we do not pass any constraint."
   ]
  },
  {
   "cell_type": "code",
   "execution_count": null,
   "metadata": {},
   "outputs": [],
   "source": [
    "!clef cmip5"
   ]
  },
  {
   "cell_type": "code",
   "execution_count": null,
   "metadata": {},
   "outputs": [],
   "source": [
    "!clef cmip5 --variable tasmin --experiment historical --table day --ensemble r2i1p1s"
   ]
  },
  {
   "cell_type": "markdown",
   "metadata": {},
   "source": [
    "Oops that wasn't reasonable! I mispelled the ensemble \"r2i1p1s\" does not exists and the tool is telling me it cannot find any matches."
   ]
  },
  {
   "cell_type": "code",
   "execution_count": null,
   "metadata": {},
   "outputs": [],
   "source": [
    "!clef cmip5 --variable tasmin --experiment historical --table days --ensemble r2i1p1"
   ]
  },
  {
   "cell_type": "markdown",
   "metadata": {},
   "source": [
    "Made another spelling mistake, in this case the tool knows that I passed a wrong value and lists for me all the available options for the CMOR table. Eventually we are aiming to validate all the arguments we can, although for some it is no possible to pass all the possible values (ensemble for example)."
   ]
  },
  {
   "cell_type": "code",
   "execution_count": null,
   "metadata": {
    "scrolled": false
   },
   "outputs": [],
   "source": [
    "!clef cmip5 --variable tasmin --experiment historical --table day --ensemble r2i1p1"
   ]
  },
  {
   "cell_type": "markdown",
   "metadata": {},
   "source": [
    "The tool first search on the ESGF for all the files that match the constraints we passed. It then looks for these file locally and if it finds them it returns their path on raijin.\n",
    "For all the files it can't find locally, the tool check an NCI table listing the downloads they are working on. Finally it lists missing datasets which are in the download queue, followed by the datasets that are not available locally and no one has yet requested. <br>\n",
    "\n",
    "The tool list the datasets paths and dataset_ids, if you want you can get a more detailed list by file by passing the *--format file* option. <br>\n",
    "\n",
    "The search by default returns the latest available version. What if we want to have a look at all the available versions?"
   ]
  },
  {
   "cell_type": "code",
   "execution_count": null,
   "metadata": {
    "scrolled": true
   },
   "outputs": [],
   "source": [
    "!clef cmip5 --variable tasmin --experiment historical --table Amon -m ACCESS1.0 --all-versions --format file"
   ]
  },
  {
   "cell_type": "markdown",
   "metadata": {},
   "source": [
    "The option *--all-versions* is the reverse of *--latest*, which is also the default, so we get a list of all available versions. <br>\n",
    "Since all the ACCESS1.0 data is available on NCI (which is the authoritative source for the ACCESS models) the tool doesn't find any missing datasets and let us know about it."
   ]
  },
  {
   "cell_type": "markdown",
   "metadata": {},
   "source": [
    "## CMIP6"
   ]
  },
  {
   "cell_type": "code",
   "execution_count": null,
   "metadata": {
    "scrolled": true
   },
   "outputs": [],
   "source": [
    "!clef cmip6 --help"
   ]
  },
  {
   "cell_type": "markdown",
   "metadata": {},
   "source": [
    "The **cmip6** sub-command works in the same way but some constraints are different. As well as changes in terminology CMIP6 has more attributes (*facets*) that can be used to search. <br>\n",
    "Examples of these are the **activity** which groups experiments, **resolution** which is an approximation of the actual resolution and **grid**."
   ]
  },
  {
   "cell_type": "markdown",
   "metadata": {},
   "source": [
    "### Controlling the ouput: clef options"
   ]
  },
  {
   "cell_type": "code",
   "execution_count": null,
   "metadata": {
    "scrolled": true
   },
   "outputs": [],
   "source": [
    "!clef --local cmip6 -e 1pctCO2 -t Amon -v tasmax -v tasmin -g gr"
   ]
  },
  {
   "cell_type": "markdown",
   "metadata": {},
   "source": [
    "In this example we used the *--local* option for the main command **clef** to get only the local matching data path as output. <br> \n",
    "Note also that:\n",
    "- we are using abbreviations for the options where available; \n",
    "- we are passing the variable *-v* option twice; \n",
    "- we used the CMIP6 specific option *-g/--grid* to search for all data that is not on the model native grid. This doesn't indicate a grid common to all the CMIP6 output only to the model itself, the same is true for member_id and other attributes.<br>\n",
    "\n",
    "*--local* is actually executing the search directly on the NCI MAS database, which is different from the default query where the search is executed first on the ESGF and then its results are matched locally.<br>\n",
    "In the example above the final result is exactly the same, whichever way we perform the query. This way of searching can give you more results if a node is offline or if a version have been unpublished from the ESGF but is still available locally. "
   ]
  },
  {
   "cell_type": "code",
   "execution_count": null,
   "metadata": {
    "scrolled": false
   },
   "outputs": [],
   "source": [
    "!clef --missing cmip6 -e 1pctCO2 -v clw -v clwvi -t Amon -g gr"
   ]
  },
  {
   "cell_type": "markdown",
   "metadata": {},
   "source": [
    "This time we used the *--missing* option and the tool returned only the results matching the constraints that are available on the ESGF but not locally (we changed variables to make sure to get some missing data back)."
   ]
  },
  {
   "cell_type": "code",
   "execution_count": null,
   "metadata": {
    "scrolled": true
   },
   "outputs": [],
   "source": [
    "!clef --remote cmip6 -e 1pctCO2 -v tasmin -v tasmax -t Amon -g gr"
   ]
  },
  {
   "cell_type": "markdown",
   "metadata": {},
   "source": [
    "The *--remote* option returns the Dataset_ids of the data matching the constraints, regardless that they are available locally or not."
   ]
  },
  {
   "cell_type": "code",
   "execution_count": null,
   "metadata": {
    "scrolled": true
   },
   "outputs": [],
   "source": [
    "!clef --remote cmip6 -e 1pctCO2 -v tasmin -v tasmax -t Amon -g gr --format file"
   ]
  },
  {
   "cell_type": "markdown",
   "metadata": {},
   "source": [
    "Running the same command with the option *--format file* after the sub-command, will return the File_ids instead of the default Dataset_ids. <br>\n",
    "Please note that *--local*, *--remote* and *--missing* together with *--request*, which we will look at next, are all options of the main command **clef** and they need to come before any sub-commands."
   ]
  },
  {
   "cell_type": "markdown",
   "metadata": {},
   "source": [
    "## Requesting new data"
   ]
  },
  {
   "cell_type": "markdown",
   "metadata": {},
   "source": [
    "What should we do if we found out there is some data we are interested to that has not been downloaded or requested yet? <br>\n",
    "This is a complex data collection, NCI, in consultation with the community, decided the best way to manage it was to have one point of reference. Part of this agreement is that NCI will download the files and update the database that **clef** is interrrogating. After consultation with the community a priority list was decided and NCI has started downloading anything that falls into it as soon as become available. <br> <br>\n",
    "Users can then request from the NCI helpdesk, other combinations of variables, experiments etc that do not fall into this list. <br>\n",
    "The list is available from the NCI climate confluence website: https://opus.nci.org.au/display/CMIP/Datasets+and+Available+Variables <br>\n",
    "Even without consulting the list you can use **clef**, as we demonstrated above, to search for the data, if it is not queued or downloaded already **clef** will give you an option to request it from NCI. <br>\n",
    "Let's see how it works."
   ]
  },
  {
   "cell_type": "code",
   "execution_count": null,
   "metadata": {
    "scrolled": false
   },
   "outputs": [],
   "source": [
    "%%bash\n",
    "clef --request cmip6 -e 1pctCO2 -v clw -v clwvi -t Amon -g gr\n",
    "no"
   ]
  },
  {
   "cell_type": "markdown",
   "metadata": {},
   "source": [
    "We run the same search which gave us as a result 4 missing datasets but this time we used the *--request* option after **clef**.<br>\n",
    "The tool will execute the search remotely, then look for matches locally and on the NCI download list. Having find none gives as an option of putting in a request. <br>\n",
    "It will accept any of the following as a positive answer:\n",
    "> Y  YES y yes <br>\n",
    "\n",
    "With anything else or if you don't pass anything it will assume you don't want to put in a request.<br>\n",
    "It still saved the request in a file we can use later.<br>"
   ]
  },
  {
   "cell_type": "code",
   "execution_count": null,
   "metadata": {},
   "outputs": [],
   "source": [
    "!cat CMIP6_*.txt"
   ]
  },
  {
   "cell_type": "markdown",
   "metadata": {},
   "source": [
    "If I answered 'yes' the tool would have sent an e-mail to the NCI helpdesk with the text file attached, NCI can pass that file as input to their download tool and queue your request.\n",
    "NB if you are running clef from raijin you cannot send an e-mail so in that case the tool will remind you you you need to send an e-mail to the NCI helpdesk yourself to finalise the request."
   ]
  },
  {
   "cell_type": "markdown",
   "metadata": {},
   "source": [
    "## Integrating the local query in your scripts"
   ]
  },
  {
   "cell_type": "markdown",
   "metadata": {},
   "source": [
    "Until now we looked at how to run queries from the command line, but you can use the same query run by the *--local* option directly in your python code. By doing so you also get access to a lot more information on the datasets returned not only the path.<br>\n",
    "To do so we have first to import some functions from the clef.code sub-module. In particular the **search** function and **connect** and **Session** that we'll use to open a connection to the database."
   ]
  },
  {
   "cell_type": "code",
   "execution_count": null,
   "metadata": {
    "scrolled": true
   },
   "outputs": [],
   "source": [
    "from clef.code import *\n",
    "db = connect()\n",
    "s = Session()"
   ]
  },
  {
   "cell_type": "markdown",
   "metadata": {},
   "source": [
    "**search** takes 3 inputs: the db session, the project (i.e. currently 'cmip5' or 'cmip6') and a dictionary containing the query constraints.  \n",
    "Let's start by defining some constraints."
   ]
  },
  {
   "cell_type": "code",
   "execution_count": null,
   "metadata": {},
   "outputs": [],
   "source": [
    "constraints = {'variable': 'tas', 'model': 'MIROC5', 'cmor_table': 'day', 'experiment': 'rcp85'}"
   ]
  },
  {
   "cell_type": "markdown",
   "metadata": {},
   "source": [
    "The available keys depend on the project you are querying and the attributes stored by the database. You can use any of the *facets* used for ESGF but in future we will be adding other options based on extra fields which are stored as attributes."
   ]
  },
  {
   "cell_type": "code",
   "execution_count": null,
   "metadata": {},
   "outputs": [],
   "source": [
    "results = search(s, project='cmip5', **constraints)\n",
    "results"
   ]
  },
  {
   "cell_type": "markdown",
   "metadata": {},
   "source": [
    "Both the keys and values of the constraints get checked before being passed to the query function. This means that if you passed a key or a value that doesn't exist for the chosen project, the function will print a list of valid values and then exit.<br>\n",
    "Let's re-write the constraints dictionary to show an example."
   ]
  },
  {
   "cell_type": "code",
   "execution_count": null,
   "metadata": {
    "scrolled": true
   },
   "outputs": [],
   "source": [
    "constraints = {'v': 'tas', 'm': 'MIROC5', 'table': 'day', 'experiment': 'rcp85', 'activity': 'CMIP'}\n",
    "results = search(s, project='cmip5', **constraints)"
   ]
  },
  {
   "cell_type": "markdown",
   "metadata": {},
   "source": [
    "You can see that the function told us 'activity' is not a valid constraints for CMIP5, in fact that can be used only with CMIP6<br>\n",
    "NB. that the search accepted all the other abbreviations, there's a few terms that can be used for each key.<br>\n",
    "The full list of valid keys is available from from the github repository:<br>\n",
    "https://github.com/coecms/clef/blob/master/clef/data/valid_keys.json"
   ]
  },
  {
   "cell_type": "code",
   "execution_count": null,
   "metadata": {},
   "outputs": [],
   "source": [
    "constraints = {'v': 'tas', 'm': 'MIROC5', 'table': 'day', 'experiment': 'rcp85', 'member': 'r1i1p1'}\n",
    "results = search(s, project='cmip5', **constraints)"
   ]
  },
  {
   "cell_type": "markdown",
   "metadata": {},
   "source": [
    "## Searching for other climate datasets: ds"
   ]
  },
  {
   "cell_type": "markdown",
   "metadata": {},
   "source": [
    "Let's get back to the command line now and have a look at the third command **ds**<br>\n",
    "This command let you query a separate dataset that contains information on other climate datasets which are available on raijin. "
   ]
  },
  {
   "cell_type": "code",
   "execution_count": null,
   "metadata": {},
   "outputs": [],
   "source": [
    "!clef ds --help"
   ]
  },
  {
   "cell_type": "markdown",
   "metadata": {},
   "source": [
    "clef ds  \n",
    "with no other argument will return a list of the local datasets available in the database.\n",
    "NB this is not an exhaustive list of the climate collections at NCI and not all the datasets already in the database have been completed."
   ]
  },
  {
   "cell_type": "code",
   "execution_count": null,
   "metadata": {},
   "outputs": [],
   "source": [
    "!clef ds"
   ]
  },
  {
   "cell_type": "markdown",
   "metadata": {},
   "source": [
    "If you specify any of the variable options then the search will return a list of variables rather then datasets.\n",
    "Since variables can be named differently among datasets, using the *standard_name* or *cmor_name* options to identify them, is the best option."
   ]
  },
  {
   "cell_type": "code",
   "execution_count": null,
   "metadata": {
    "scrolled": true
   },
   "outputs": [],
   "source": [
    "!clef ds -f netcdf --standard-name air_temperature"
   ]
  },
  {
   "cell_type": "markdown",
   "metadata": {},
   "source": [
    "This returns all the variable available as netcdf files and with air_temperature as standard_name.<br>\n",
    "NB for each variable a path structure is returned."
   ]
  },
  {
   "cell_type": "code",
   "execution_count": null,
   "metadata": {},
   "outputs": [],
   "source": [
    "!clef ds -f netcdf --cmor-name ta"
   ]
  },
  {
   "cell_type": "markdown",
   "metadata": {},
   "source": [
    "This returns a subset of the previous search using the cmor_name to clearly identify one kind of air_temperature."
   ]
  }
 ],
 "metadata": {
  "kernelspec": {
   "display_name": "Python [conda env:analysis3-19.04]",
   "language": "python",
   "name": "conda-env-analysis3-19.04-py"
  },
  "language_info": {
   "codemirror_mode": {
    "name": "ipython",
    "version": 3
   },
   "file_extension": ".py",
   "mimetype": "text/x-python",
   "name": "python",
   "nbconvert_exporter": "python",
   "pygments_lexer": "ipython3",
   "version": "3.6.7"
  }
 },
 "nbformat": 4,
 "nbformat_minor": 2
}
