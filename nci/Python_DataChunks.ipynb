{
 "cells": [
  {
   "cell_type": "markdown",
   "metadata": {},
   "source": [
    "![](../nci-logo.png)\n",
    "\n",
    "-------\n",
    "# Data Chunking with Dask iPython Notebooks\n"
   ]
  },
  {
   "cell_type": "markdown",
   "metadata": {
    "collapsed": true
   },
   "source": [
    "<a id='part1'></a> \n",
    "## Launch the Jupyter Notebook application\n",
    "\n",
    "#### Using the public hh5 conda environment managed by CLEX\n",
    "\n",
    "Many python modules are available under the hh5 conda environment that is maintained by CLEX, as well as additional modules such as that of CleF used in the previous examples. This environment is publically available and developed to service the CLEX users allowing use cases for the wider communinty.\n",
    "```\n",
    "    $ module use /g/data3/hh5/public/modules\n",
    "    $ module load conda/analysis3\n",
    "```  \n",
    "\n",
    "Launch the Jupyter Notebook application:\n",
    "```\n",
    "    $ jupyter notebook\n",
    "``` \n",
    "\n",
    "<div class=\"alert alert-info\">\n",
    "<b>NOTE: </b> This will launch the <b>Notebook Dashboard</b> within a new web browser window. \n",
    "</div>"
   ]
  },
  {
   "cell_type": "markdown",
   "metadata": {},
   "source": [
    "#### Load the required modules"
   ]
  },
  {
   "cell_type": "code",
   "execution_count": 1,
   "metadata": {},
   "outputs": [
    {
     "name": "stderr",
     "output_type": "stream",
     "text": [
      "/g/data3/hh5/public/apps/miniconda3/envs/analysis3-19.01/lib/python3.6/site-packages/dask/config.py:168: YAMLLoadWarning: calling yaml.load() without Loader=... is deprecated, as the default Loader is unsafe. Please read https://msg.pyyaml.org/load for full details.\n",
      "  data = yaml.load(f.read()) or {}\n",
      "/g/data3/hh5/public/apps/miniconda3/envs/analysis3-19.01/lib/python3.6/site-packages/distributed/config.py:20: YAMLLoadWarning: calling yaml.load() without Loader=... is deprecated, as the default Loader is unsafe. Please read https://msg.pyyaml.org/load for full details.\n",
      "  defaults = yaml.load(f)\n"
     ]
    }
   ],
   "source": [
    "import xarray as xr\n",
    "import netCDF4 as nc"
   ]
  },
  {
   "cell_type": "markdown",
   "metadata": {},
   "source": [
    "#### Opening Multiple Files at Once\n",
    "\n",
    "xarray's `open_mfdataset` allows multiple files to be opened simultaneously."
   ]
  },
  {
   "cell_type": "code",
   "execution_count": 2,
   "metadata": {},
   "outputs": [
    {
     "name": "stdout",
     "output_type": "stream",
     "text": [
      "pr_day_GFDL-CM4_ssp585_r1i1p1f1_gr1_20150101-20341231.nc\r\n",
      "pr_day_GFDL-CM4_ssp585_r1i1p1f1_gr1_20350101-20541231.nc\r\n",
      "pr_day_GFDL-CM4_ssp585_r1i1p1f1_gr1_20550101-20741231.nc\r\n",
      "pr_day_GFDL-CM4_ssp585_r1i1p1f1_gr1_20750101-20941231.nc\r\n",
      "pr_day_GFDL-CM4_ssp585_r1i1p1f1_gr1_20950101-21001231.nc\r\n"
     ]
    }
   ],
   "source": [
    "!ls /g/data/oi10/replicas/CMIP6/ScenarioMIP/NOAA-GFDL/GFDL-CM4/ssp585/r1i1p1f1/day/pr/gr1/v20180701\n",
    "path = '/g/data/oi10/replicas/CMIP6/ScenarioMIP/NOAA-GFDL/GFDL-CM4/ssp585/r1i1p1f1/day/pr/gr1/v20180701/*'"
   ]
  },
  {
   "cell_type": "markdown",
   "metadata": {},
   "source": [
    "### Exercise\n",
    "\n",
    "In a similar to way to open_dataset, use open_mfdataset to open the multiple files in `path` and have a look at the Dataset. Do you see anything different from the previous notebook?\n",
    "\n",
    "<a href=\"#ans1\" data-toggle=\"collapse\">Answer</a>\n",
    "<div class=\"collapse\" id=\"ans1\">\n",
    "<pre><code>\n",
    "f_ssp585 = xr.open_mfdataset(path)\n",
    "f_ssp585\n",
    "</code></pre>\n",
    "</div>"
   ]
  },
  {
   "cell_type": "code",
   "execution_count": 3,
   "metadata": {},
   "outputs": [
    {
     "data": {
      "text/plain": [
       "<xarray.Dataset>\n",
       "Dimensions:    (bnds: 2, lat: 180, lon: 288, time: 31390)\n",
       "Coordinates:\n",
       "  * lat        (lat) float64 -89.5 -88.5 -87.5 -86.5 ... 86.5 87.5 88.5 89.5\n",
       "  * lon        (lon) float64 0.625 1.875 3.125 4.375 ... 355.6 356.9 358.1 359.4\n",
       "  * time       (time) object 2015-01-01 12:00:00 ... 2100-12-31 12:00:00\n",
       "Dimensions without coordinates: bnds\n",
       "Data variables:\n",
       "    lat_bnds   (time, lat, bnds) float64 dask.array<shape=(31390, 180, 2), chunksize=(7300, 180, 2)>\n",
       "    lon_bnds   (time, lon, bnds) float64 dask.array<shape=(31390, 288, 2), chunksize=(7300, 288, 2)>\n",
       "    pr         (time, lat, lon) float32 dask.array<shape=(31390, 180, 288), chunksize=(7300, 180, 288)>\n",
       "    time_bnds  (time, bnds) object dask.array<shape=(31390, 2), chunksize=(7300, 2)>\n",
       "Attributes:\n",
       "    external_variables:     areacella\n",
       "    history:                File was processed by fremetar (GFDL analog of CM...\n",
       "    table_id:               day\n",
       "    activity_id:            ScenarioMIP\n",
       "    branch_method:          standard\n",
       "    branch_time_in_child:   0.0\n",
       "    comment:                <null ref>\n",
       "    contact:                gfdl.climate.model.info@noaa.gov\n",
       "    Conventions:            CF-1.7 CMIP-6.0 UGRID-1.0\n",
       "    creation_date:          2019-03-18T15:13:56Z\n",
       "    data_specs_version:     01.00.27\n",
       "    experiment:             update of RCP8.5 based on SSP5\n",
       "    experiment_id:          ssp585\n",
       "    forcing_index:          1\n",
       "    frequency:              day\n",
       "    further_info_url:       https://furtherinfo.es-doc.org/CMIP6.NOAA-GFDL.GF...\n",
       "    grid:                   atmos data regridded from Cubed-sphere (c96) to 1...\n",
       "    grid_label:             gr1\n",
       "    initialization_index:   1\n",
       "    institution:            National Oceanic and Atmospheric Administration, ...\n",
       "    institution_id:         NOAA-GFDL\n",
       "    license:                CMIP6 model data produced by NOAA-GFDL is license...\n",
       "    mip_era:                CMIP6\n",
       "    nominal_resolution:     100 km\n",
       "    parent_activity_id:     CMIP\n",
       "    parent_experiment_id:   historical\n",
       "    parent_mip_era:         CMIP6\n",
       "    parent_source_id:       GFDL-CM4\n",
       "    parent_variant_label:   r1i1p1f1\n",
       "    physics_index:          1\n",
       "    product:                model-output\n",
       "    realization_index:      1\n",
       "    realm:                  atmos\n",
       "    source:                 GFDL-CM4 (2018): \\naerosol: interactive\\natmos: G...\n",
       "    source_id:              GFDL-CM4\n",
       "    source_type:            AOGCM\n",
       "    sub_experiment:         none\n",
       "    sub_experiment_id:      none\n",
       "    title:                  NOAA GFDL GFDL-CM4 model output prepared for CMIP...\n",
       "    tracking_id:            hdl:21.14100/ad8c930c-124f-4b82-98b2-98cc4236ba25\n",
       "    variable_id:            pr\n",
       "    variant_info:           N/A\n",
       "    references:             see further_info_url attribute\n",
       "    variant_label:          r1i1p1f1\n",
       "    branch_time_in_parent:  60225.0\n",
       "    parent_time_units:      days since 1850-1-1"
      ]
     },
     "execution_count": 3,
     "metadata": {},
     "output_type": "execute_result"
    }
   ],
   "source": [
    "f_ssp585 = xr.open_mfdataset(path)\n",
    "f_ssp585"
   ]
  },
  {
   "cell_type": "markdown",
   "metadata": {},
   "source": [
    "# Chunks\n",
    "\n",
    "Notice that it says:\n",
    "`pr         (time, lat, lon) float32 dask.array<shape=(31390, 180, 288), chunksize=(7300, 180, 288)`\n",
    "There is now an additional component to the shape, and that is `chunksize`.\n",
    "\n",
    "The chunking of the array comes from the integration of Dask with xarray. Dask (see: https://docs.dask.org/en/latest/) is a library for parallel computing. Dask divides the the data array into small pieces called \"chunks\", with each chunk designed to be small enough to fit into memory. \n",
    "\n",
    "In addition to chunking of the array, the file itself may be chunked. Filesystem chunking is available in netCDF-4 and HDF5 datasets. CMIP6 data should all be netCDF-4 and include some form of chunking on the file."
   ]
  },
  {
   "cell_type": "code",
   "execution_count": null,
   "metadata": {
    "scrolled": false
   },
   "outputs": [],
   "source": [
    "!ncdump -hst '/g/data/oi10/replicas/CMIP6/ScenarioMIP/NOAA-GFDL/GFDL-CM4/ssp585/r1i1p1f1/day/pr/gr1/v20180701/pr_day_GFDL-CM4_ssp585_r1i1p1f1_gr1_20150101-20341231.nc'"
   ]
  },
  {
   "cell_type": "markdown",
   "metadata": {},
   "source": [
    "#### In this case the is chunked such that `pr:_ChunkSizes = 1, 180, 288 ;`\n",
    "\n",
    "Here we see that the data is chunked in time, where one chunk is one time-step and all points in lat-lon.\n",
    "\n",
    "<img src=\"Chunks.png\">\n",
    "image source: https://www.unidata.ucar.edu/blogs/developer/en/entry/chunking_data_why_it_matters\n",
    "\n",
    "Consider 2 types of data access\n",
    "1. Accessing a 2D lat-lon slice in time (RHS figure)\n",
    "2. Accessing a time series at a single lat-lon point (LHS figure)\n",
    "\n",
    "With the chunking above, the first type of data access only needs to access a single chunk, while the second type needs to access ALL the chunks of the data array regardless. This dataset will be fastest for 2D lat-lon single time-step data access.\n",
    "\n",
    "In general, even without chunking - when the data is accessed contiguously (by index order) - time is the slowest variable to access, then y, with x being the fastest. With the chunking method of this CMIP6 dataset, time still remains the slowest variable. For more uniform variable access speeds more evenly spaced chunks would be needed, spacing the chunks in time, lat, and lon.\n",
    "\n",
    "### Exercise\n",
    "\n",
    "Time how long it takes to load the precipitation data at `time='2015-01-01'` and then time how long it takes to load the data at `lat=0` and `lon=180` (remember to use `method='nearest'` for the latter case). How much difference is there in the different access methods?\n",
    "\n",
    "<a href=\"#ans4\" data-toggle=\"collapse\">Answer</a>\n",
    "<div class=\"collapse\" id=\"ans4\">\n",
    "<pre><code>\n",
    "%%time\n",
    "f_ssp585.pr.sel(time='2015-01-01').load()\n",
    "-----------------------------------------------\n",
    "%%time\n",
    "f_ssp585.pr.sel(lat=0,lon=180,method='nearest').load()\n",
    "</code></pre>\n",
    "</div>"
   ]
  },
  {
   "cell_type": "code",
   "execution_count": 4,
   "metadata": {},
   "outputs": [
    {
     "name": "stdout",
     "output_type": "stream",
     "text": [
      "CPU times: user 29 ms, sys: 9 ms, total: 38 ms\n",
      "Wall time: 77 ms\n"
     ]
    },
    {
     "data": {
      "text/plain": [
       "<xarray.DataArray 'pr' (time: 1, lat: 180, lon: 288)>\n",
       "array([[[1.167908e-07, 1.167908e-07, ..., 1.167908e-07, 1.167908e-07],\n",
       "        [5.635704e-08, 5.689981e-08, ..., 5.529220e-08, 5.582118e-08],\n",
       "        ...,\n",
       "        [2.206312e-05, 2.213482e-05, ..., 2.192247e-05, 2.199234e-05],\n",
       "        [3.004599e-05, 3.004599e-05, ..., 3.004599e-05, 3.004599e-05]]],\n",
       "      dtype=float32)\n",
       "Coordinates:\n",
       "  * lat      (lat) float64 -89.5 -88.5 -87.5 -86.5 -85.5 ... 86.5 87.5 88.5 89.5\n",
       "  * lon      (lon) float64 0.625 1.875 3.125 4.375 ... 355.6 356.9 358.1 359.4\n",
       "  * time     (time) object 2015-01-01 12:00:00\n",
       "Attributes:\n",
       "    long_name:      Precipitation\n",
       "    units:          kg m-2 s-1\n",
       "    cell_methods:   area: time: mean\n",
       "    cell_measures:  area: areacella\n",
       "    standard_name:  precipitation_flux\n",
       "    interp_method:  conserve_order1\n",
       "    original_name:  pr"
      ]
     },
     "execution_count": 4,
     "metadata": {},
     "output_type": "execute_result"
    }
   ],
   "source": [
    "%%time\n",
    "f_ssp585.pr.sel(time='2015-01-01').load()"
   ]
  },
  {
   "cell_type": "code",
   "execution_count": 5,
   "metadata": {},
   "outputs": [
    {
     "name": "stdout",
     "output_type": "stream",
     "text": [
      "CPU times: user 34.6 s, sys: 3.51 s, total: 38.1 s\n",
      "Wall time: 38.3 s\n"
     ]
    },
    {
     "data": {
      "text/plain": [
       "<xarray.DataArray 'pr' (time: 31390)>\n",
       "array([2.177662e-06, 9.600019e-06, 5.329543e-06, ..., 7.790450e-05,\n",
       "       1.618636e-05, 1.570639e-05], dtype=float32)\n",
       "Coordinates:\n",
       "    lat      float64 0.5\n",
       "    lon      float64 180.6\n",
       "  * time     (time) object 2015-01-01 12:00:00 ... 2100-12-31 12:00:00\n",
       "Attributes:\n",
       "    long_name:      Precipitation\n",
       "    units:          kg m-2 s-1\n",
       "    cell_methods:   area: time: mean\n",
       "    cell_measures:  area: areacella\n",
       "    standard_name:  precipitation_flux\n",
       "    interp_method:  conserve_order1\n",
       "    original_name:  pr"
      ]
     },
     "execution_count": 5,
     "metadata": {},
     "output_type": "execute_result"
    }
   ],
   "source": [
    "%%time\n",
    "f_ssp585.pr.sel(lat=0,lon=180,method='nearest').load()"
   ]
  },
  {
   "cell_type": "markdown",
   "metadata": {},
   "source": [
    "### Approximately the same amount of data took 100x longer to load.\n",
    "\n",
    "The spatial dataset contains 51840 data-points and took order 100ms to load. The time-series dataset has 31390 data-points and took order 10,000ms to load.\n",
    "\n",
    "Chunking and the ways in which the data is read is important in considering both how you access the data and if you wish to parallelise your code.\n"
   ]
  },
  {
   "cell_type": "markdown",
   "metadata": {},
   "source": [
    "## NetCDF file Chunks versus Dask Chunks\n",
    "\n",
    "Keep in mind, dask chunking is different to chunking of the stored data. As we saw, the stored data is chunked with chunks of size (1,180,288). The Dask array was chunked with size (7300, 180, 288). You can change the chunking in the dask array. In the below example we are specifying that there be 730 chunks in time."
   ]
  },
  {
   "cell_type": "code",
   "execution_count": 6,
   "metadata": {},
   "outputs": [
    {
     "data": {
      "text/plain": [
       "<xarray.Dataset>\n",
       "Dimensions:    (bnds: 2, lat: 180, lon: 288, time: 31390)\n",
       "Coordinates:\n",
       "  * lat        (lat) float64 -89.5 -88.5 -87.5 -86.5 ... 86.5 87.5 88.5 89.5\n",
       "  * lon        (lon) float64 0.625 1.875 3.125 4.375 ... 355.6 356.9 358.1 359.4\n",
       "  * time       (time) object 2015-01-01 12:00:00 ... 2100-12-31 12:00:00\n",
       "Dimensions without coordinates: bnds\n",
       "Data variables:\n",
       "    lat_bnds   (time, lat, bnds) float64 dask.array<shape=(31390, 180, 2), chunksize=(7300, 180, 2)>\n",
       "    lon_bnds   (time, lon, bnds) float64 dask.array<shape=(31390, 288, 2), chunksize=(7300, 288, 2)>\n",
       "    pr         (time, lat, lon) float32 dask.array<shape=(31390, 180, 288), chunksize=(730, 180, 288)>\n",
       "    time_bnds  (time, bnds) object dask.array<shape=(31390, 2), chunksize=(730, 2)>\n",
       "Attributes:\n",
       "    external_variables:     areacella\n",
       "    history:                File was processed by fremetar (GFDL analog of CM...\n",
       "    table_id:               day\n",
       "    activity_id:            ScenarioMIP\n",
       "    branch_method:          standard\n",
       "    branch_time_in_child:   0.0\n",
       "    comment:                <null ref>\n",
       "    contact:                gfdl.climate.model.info@noaa.gov\n",
       "    Conventions:            CF-1.7 CMIP-6.0 UGRID-1.0\n",
       "    creation_date:          2019-03-18T15:13:56Z\n",
       "    data_specs_version:     01.00.27\n",
       "    experiment:             update of RCP8.5 based on SSP5\n",
       "    experiment_id:          ssp585\n",
       "    forcing_index:          1\n",
       "    frequency:              day\n",
       "    further_info_url:       https://furtherinfo.es-doc.org/CMIP6.NOAA-GFDL.GF...\n",
       "    grid:                   atmos data regridded from Cubed-sphere (c96) to 1...\n",
       "    grid_label:             gr1\n",
       "    initialization_index:   1\n",
       "    institution:            National Oceanic and Atmospheric Administration, ...\n",
       "    institution_id:         NOAA-GFDL\n",
       "    license:                CMIP6 model data produced by NOAA-GFDL is license...\n",
       "    mip_era:                CMIP6\n",
       "    nominal_resolution:     100 km\n",
       "    parent_activity_id:     CMIP\n",
       "    parent_experiment_id:   historical\n",
       "    parent_mip_era:         CMIP6\n",
       "    parent_source_id:       GFDL-CM4\n",
       "    parent_variant_label:   r1i1p1f1\n",
       "    physics_index:          1\n",
       "    product:                model-output\n",
       "    realization_index:      1\n",
       "    realm:                  atmos\n",
       "    source:                 GFDL-CM4 (2018): \\naerosol: interactive\\natmos: G...\n",
       "    source_id:              GFDL-CM4\n",
       "    source_type:            AOGCM\n",
       "    sub_experiment:         none\n",
       "    sub_experiment_id:      none\n",
       "    title:                  NOAA GFDL GFDL-CM4 model output prepared for CMIP...\n",
       "    tracking_id:            hdl:21.14100/ad8c930c-124f-4b82-98b2-98cc4236ba25\n",
       "    variable_id:            pr\n",
       "    variant_info:           N/A\n",
       "    references:             see further_info_url attribute\n",
       "    variant_label:          r1i1p1f1\n",
       "    branch_time_in_parent:  60225.0\n",
       "    parent_time_units:      days since 1850-1-1"
      ]
     },
     "execution_count": 6,
     "metadata": {},
     "output_type": "execute_result"
    }
   ],
   "source": [
    "f_ssp585 = xr.open_mfdataset(path,chunks={'time':730})\n",
    "f_ssp585"
   ]
  },
  {
   "cell_type": "markdown",
   "metadata": {},
   "source": [
    "## How big do you make your chunks?\n",
    "\n",
    "The rule of thumb for dask chunks is that you should \"create arrays with a minimum chunksize of at least one million elements\":  http://xarray.pydata.org/en/stable/dask.html#chunking-and-performance\n",
    "\n",
    "netCDF4 chunks are often a lot smaller than dask array chunks. The minimum chunksize exists because if you have too many chunks, then queuing of operations when parallising will be slow, and if they are too big computation and memory can be wasted. The default chunks from dask gave us chunks of size: (7300, 180, 288) or nearly 400 million elements so we could try reducing those chunks if needed. The larger the array, the larger the cost of queueing and the larger chunks may be needed.\n",
    "\n",
    "#### IMPORTANT: Whatever dask array chunks you use, make sure they align with the netCDF4 file chunks!!\n",
    "\n",
    "So far our chunks have been in time, and the netCDF4 file is also chunked in time. If we tried to use dask chunks to optimise the time-series loading of data, it will not help! \n",
    "\n",
    "#### Exercise\n",
    "\n",
    "Try it, load the data with chunks size `(31390,180,1)` (i.e. chunked in lon) and name that file `f_bad_chunk`. Try re-loading the time series of pr at `lat=0` and `lon=180` and time how long it takes.\n",
    "\n",
    "<a href=\"#ans1\" data-toggle=\"collapse\">Answer</a>\n",
    "<div class=\"collapse\" id=\"ans1\">\n",
    "<pre><code>\n",
    "f_bad_chunk = xr.open_mfdataset(path,chunks={'time':31390,'lat':180,'lon':1})\n",
    "----------------------------------------\n",
    "%%time\n",
    "f_bad_chunk.pr.sel(lat=0,lon=180,method='nearest').load()\n",
    "</code></pre>\n",
    "</div>"
   ]
  },
  {
   "cell_type": "code",
   "execution_count": 7,
   "metadata": {},
   "outputs": [],
   "source": [
    "f_bad_chunk = xr.open_mfdataset(path,chunks={'time':31390,'lat':180,'lon':1})"
   ]
  },
  {
   "cell_type": "code",
   "execution_count": 8,
   "metadata": {},
   "outputs": [
    {
     "name": "stdout",
     "output_type": "stream",
     "text": [
      "CPU times: user 33.8 s, sys: 3.81 s, total: 37.6 s\n",
      "Wall time: 37.6 s\n"
     ]
    },
    {
     "data": {
      "text/plain": [
       "<xarray.DataArray 'pr' (time: 31390)>\n",
       "array([2.177662e-06, 9.600019e-06, 5.329543e-06, ..., 7.790450e-05,\n",
       "       1.618636e-05, 1.570639e-05], dtype=float32)\n",
       "Coordinates:\n",
       "    lat      float64 0.5\n",
       "    lon      float64 180.6\n",
       "  * time     (time) object 2015-01-01 12:00:00 ... 2100-12-31 12:00:00\n",
       "Attributes:\n",
       "    long_name:      Precipitation\n",
       "    units:          kg m-2 s-1\n",
       "    cell_methods:   area: time: mean\n",
       "    cell_measures:  area: areacella\n",
       "    standard_name:  precipitation_flux\n",
       "    interp_method:  conserve_order1\n",
       "    original_name:  pr"
      ]
     },
     "execution_count": 8,
     "metadata": {},
     "output_type": "execute_result"
    }
   ],
   "source": [
    "%%time\n",
    "f_bad_chunk.pr.sel(lat=0,lon=180,method='nearest').load()"
   ]
  },
  {
   "cell_type": "markdown",
   "metadata": {},
   "source": [
    "What if we add some extra cores to the computation?\n",
    "\n",
    "You can easily parallelise xarray code using the dask.distributed.Client and dask array calculations will be run in parrallel."
   ]
  },
  {
   "cell_type": "code",
   "execution_count": 9,
   "metadata": {},
   "outputs": [
    {
     "name": "stderr",
     "output_type": "stream",
     "text": [
      "/g/data3/hh5/public/apps/miniconda3/envs/analysis3-19.01/lib/python3.6/site-packages/distributed/bokeh/core.py:57: UserWarning: \n",
      "Port 8787 is already in use. \n",
      "Perhaps you already have a cluster running?\n",
      "Hosting the diagnostics dashboard on a random port instead.\n",
      "  warnings.warn('\\n' + msg)\n"
     ]
    },
    {
     "data": {
      "text/html": [
       "<table style=\"border: 2px solid white;\">\n",
       "<tr>\n",
       "<td style=\"vertical-align: top; border: 0px solid white\">\n",
       "<h3>Client</h3>\n",
       "<ul>\n",
       "  <li><b>Scheduler: </b>tcp://127.0.0.1:38133\n",
       "  <li><b>Dashboard: </b><a href='http://127.0.0.1:34978/status' target='_blank'>http://127.0.0.1:34978/status</a>\n",
       "</ul>\n",
       "</td>\n",
       "<td style=\"vertical-align: top; border: 0px solid white\">\n",
       "<h3>Cluster</h3>\n",
       "<ul>\n",
       "  <li><b>Workers: </b>4</li>\n",
       "  <li><b>Cores: </b>8</li>\n",
       "  <li><b>Memory: </b>33.67 GB</li>\n",
       "</ul>\n",
       "</td>\n",
       "</tr>\n",
       "</table>"
      ],
      "text/plain": [
       "<Client: scheduler='tcp://127.0.0.1:38133' processes=4 cores=8>"
      ]
     },
     "execution_count": 9,
     "metadata": {},
     "output_type": "execute_result"
    }
   ],
   "source": [
    "from dask.distributed import Client\n",
    "c = Client()\n",
    "c"
   ]
  },
  {
   "cell_type": "markdown",
   "metadata": {},
   "source": [
    "#### Exercise\n",
    "\n",
    "Try running your previous code for `f_bad_chunk` again loading the time series of pr at `lat=0` and `lon=180` and time how long it takes now that there are 4 workers in the dask cluster.\n",
    "\n",
    "Do the same with the original chunking method of `f_ssp585` and see if there is a difference.\n",
    "\n",
    "<a href=\"#ans2\" data-toggle=\"collapse\">Answer</a>\n",
    "<div class=\"collapse\" id=\"ans2\">\n",
    "<pre><code>\n",
    "%%time\n",
    "f_bad_chunk.pr.sel(lat=0,lon=180,method='nearest').load()\n",
    "----------------------------------------\n",
    "%%time\n",
    "f_ssp585.pr.sel(lat=0,lon=180,method='nearest').load()\n",
    "</code></pre>\n",
    "</div>"
   ]
  },
  {
   "cell_type": "code",
   "execution_count": 10,
   "metadata": {},
   "outputs": [
    {
     "name": "stdout",
     "output_type": "stream",
     "text": [
      "CPU times: user 622 ms, sys: 168 ms, total: 790 ms\n",
      "Wall time: 12.5 s\n"
     ]
    },
    {
     "data": {
      "text/plain": [
       "<xarray.DataArray 'pr' (time: 31390)>\n",
       "array([2.177662e-06, 9.600019e-06, 5.329543e-06, ..., 7.790450e-05,\n",
       "       1.618636e-05, 1.570639e-05], dtype=float32)\n",
       "Coordinates:\n",
       "    lat      float64 0.5\n",
       "    lon      float64 180.6\n",
       "  * time     (time) object 2015-01-01 12:00:00 ... 2100-12-31 12:00:00\n",
       "Attributes:\n",
       "    long_name:      Precipitation\n",
       "    units:          kg m-2 s-1\n",
       "    cell_methods:   area: time: mean\n",
       "    cell_measures:  area: areacella\n",
       "    standard_name:  precipitation_flux\n",
       "    interp_method:  conserve_order1\n",
       "    original_name:  pr"
      ]
     },
     "execution_count": 10,
     "metadata": {},
     "output_type": "execute_result"
    }
   ],
   "source": [
    "%%time\n",
    "f_bad_chunk.pr.sel(lat=0,lon=180,method='nearest').load()"
   ]
  },
  {
   "cell_type": "code",
   "execution_count": 11,
   "metadata": {},
   "outputs": [
    {
     "name": "stdout",
     "output_type": "stream",
     "text": [
      "CPU times: user 780 ms, sys: 145 ms, total: 925 ms\n",
      "Wall time: 10.2 s\n"
     ]
    },
    {
     "data": {
      "text/plain": [
       "<xarray.DataArray 'pr' (time: 31390)>\n",
       "array([2.177662e-06, 9.600019e-06, 5.329543e-06, ..., 7.790450e-05,\n",
       "       1.618636e-05, 1.570639e-05], dtype=float32)\n",
       "Coordinates:\n",
       "    lat      float64 0.5\n",
       "    lon      float64 180.6\n",
       "  * time     (time) object 2015-01-01 12:00:00 ... 2100-12-31 12:00:00\n",
       "Attributes:\n",
       "    long_name:      Precipitation\n",
       "    units:          kg m-2 s-1\n",
       "    cell_methods:   area: time: mean\n",
       "    cell_measures:  area: areacella\n",
       "    standard_name:  precipitation_flux\n",
       "    interp_method:  conserve_order1\n",
       "    original_name:  pr"
      ]
     },
     "execution_count": 11,
     "metadata": {},
     "output_type": "execute_result"
    }
   ],
   "source": [
    "%%time\n",
    "f_ssp585.pr.sel(lat=0,lon=180,method='nearest').load()"
   ]
  },
  {
   "cell_type": "markdown",
   "metadata": {},
   "source": [
    "### Poor chunking with dask can make your performance worse!\n",
    "\n",
    "Both the size of the chunks and the alignment of the chunks with the filesystem chunks are imporant to keep in mind when creating dask chunks. "
   ]
  },
  {
   "cell_type": "code",
   "execution_count": null,
   "metadata": {},
   "outputs": [],
   "source": []
  },
  {
   "cell_type": "code",
   "execution_count": null,
   "metadata": {},
   "outputs": [],
   "source": []
  }
 ],
 "metadata": {
  "anaconda-cloud": {},
  "kernelspec": {
   "display_name": "Python 3",
   "language": "python",
   "name": "python3"
  },
  "language_info": {
   "codemirror_mode": {
    "name": "ipython",
    "version": 3
   },
   "file_extension": ".py",
   "mimetype": "text/x-python",
   "name": "python",
   "nbconvert_exporter": "python",
   "pygments_lexer": "ipython3",
   "version": "3.6.7"
  }
 },
 "nbformat": 4,
 "nbformat_minor": 1
}
