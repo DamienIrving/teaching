{
 "metadata": {
  "name": ""
 },
 "nbformat": 3,
 "nbformat_minor": 0,
 "worksheets": [
  {
   "cells": [
    {
     "cell_type": "code",
     "collapsed": false,
     "input": [
      "from netCDF4 import Dataset, num2date\n",
      "import numpy\n",
      "from matplotlib.pyplot import figure, pcolor, colorbar, xlabel, ylabel, title, draw, quiver, show"
     ],
     "language": "python",
     "metadata": {},
     "outputs": [],
     "prompt_number": 2
    },
    {
     "cell_type": "markdown",
     "metadata": {},
     "source": [
      "I can get some surface U and V data from [here](https://github.com/aodn/imos-user-code-library/blob/master/Python/demos/acorn.py) - also read the nice overview [here](https://github.com/aodn/imos-user-code-library/wiki/Using-the-IMOS-User-Code-Library-with-Python#33-acorn--ocean-radar---non-qcd-data)"
     ]
    },
    {
     "cell_type": "code",
     "collapsed": false,
     "input": [
      "acorn_URL = 'http://thredds.aodn.org.au/thredds/dodsC/IMOS/eMII/demos/ACORN/monthly_gridded_1h-avg-current-map_non-QC/TURQ/2012/IMOS_ACORN_V_20121001T000000Z_TURQ_FV00_monthly-1-hour-avg_END-20121029T180000Z_C-20121030T160000Z.nc.gz'\n",
      "acorn_DATA = Dataset(acorn_URL) "
     ],
     "language": "python",
     "metadata": {},
     "outputs": [],
     "prompt_number": 6
    },
    {
     "cell_type": "markdown",
     "metadata": {},
     "source": [
      "Or alternatively I could have got the actual netCDF file, which is what they recommend for larger files:\n",
      "\"Warning : this dataset can take a while to be loaded on your machine. If you plan to run this script multiple times, it would be faster to download the file first, and set the srs_L3P_URL to the file's location on your computer (see [section 1.2](https://github.com/aodn/imos-user-code-library/wiki/Using-the-IMOS-User-Code-Library-with-Python#12-finding-an-imos-netcdf-file))\""
     ]
    },
    {
     "cell_type": "raw",
     "metadata": {},
     "source": [
      "Example data reference syntax:\n",
      "Dir - http://thredds.aodn.org.au/thredds/dodsC/<project>/eMII/demos/<institution>/<data-type>/<site-code>/<year>/\n",
      "<project>       Integrated Marine Observing System (IMOS)\n",
      "<institution>   Australian Coastal Ocean Radar Network (ACORN)\n",
      "<data-type>     monthly_gridded_1h-avg-current-map_non-QC\n",
      "<site-code>     Turqoise Coast, WA (TURQ)\n",
      "<year>          2012\n",
      "\n",
      "File - <project>_<institution>_V_<time-start>_<site-code>_FV00_<data_type>_<time_end>_<modified>.nc.gz\n",
      "<data-type>     monthly-1-hour-avg\n",
      "<time-start>    20121001T000000Z\n",
      "<time-end>      END-20121029T180000Z\n",
      "<modified>      C-20121030T160000Z\n",
      "\n",
      "(i.e. most of the information is repeated in case the file gets separated)"
     ]
    },
    {
     "cell_type": "code",
     "collapsed": false,
     "input": [
      "# Show the global attributes \n",
      "print acorn_DATA"
     ],
     "language": "python",
     "metadata": {},
     "outputs": [
      {
       "output_type": "stream",
       "stream": "stdout",
       "text": [
        "<type 'netCDF4.Dataset'>\n",
        "root group (NETCDF3_64BIT data model, file format UNDEFINED):\n",
        "    project: Integrated Marine Observing System (IMOS)\n",
        "    Conventions: IMOS version 1.3\n",
        "    institution: Australian Coastal Ocean Radar Network (ACORN)\n",
        "    title: IMOS ACORN Turquoise Coast site (WA) (TURQ), monthly aggregation of one hour averaged current data\n",
        "    instrument: CODAR Ocean Sensors/SeaSonde\n",
        "    site_code: TURQ, Turqoise Coast\n",
        "    ssr_Stations: SeaBird (SBRD), Cervantes (CRVT)\n",
        "    id: IMOS/ACORN/au/TURQ/2012-10-08T15:00:00Z.sea_state\n",
        "    date_created: 2012-10-30T16:31:50Z\n",
        "    abstract: These data have not been quality controlled. The ACORN facility is producing NetCDF files with radials data for each station every ten minutes.  Radials represent the surface sea water state component  along the radial direction from the receiver antenna  and are calculated from the shift of an area under  the bragg peaks in a Beam Power Spectrum.  The radial values have been calculated using software provided  by the manufacturer of the instrument. eMII is using a Matlab program to read all the netcdf files with radial data for two different stations  and produce a one hour average product with U and V components of the current. The final product is produced on a regular geographic (latitude longitude) grid More information on the data processing is available through the IMOS MEST  http://imosmest.aodn.org.au/geonetwork/srv/en/main.home. This file is an aggregation over a month of distinct hourly averaged files.\n",
        "    history: 2012-10-09T03:31:35 Convert totl_TURQ_2012_10_08_1500.tuv to netcdf format using CODAR_Convert_File.\n",
        "2012-10-09T03:31:36 Write CODAR file totl_TURQ_2012_10_08_1500.tuv. Modification of the NetCDF format by eMII to visualise the data using ncWMS \ufffd\n",
        "\t0x0006 %\n",
        "    source: Terrestrial HF radar\n",
        "    keywords: Oceans\n",
        "    netcdf_version: 3.6\n",
        "    naming_authority: Integrated Marine Observing System (IMOS)\n",
        "    quality_control_set: 1\n",
        "    file_version: Level 0 - Raw data\n",
        "    file_version_quality_control: Data in this file has not been quality controlled\n",
        "    geospatial_lat_min: [-29.5386582 -29.5927878 -29.6469169 -29.7010456 -29.7551738 -29.8093016\n",
        " -29.863429  -29.9175559 -29.9716823 -30.0258084 -30.0799339 -30.1340591\n",
        " -30.1881837 -30.242308  -30.2964318 -30.3505551 -30.404678  -30.4588004\n",
        " -30.5129224 -30.5670439 -30.621165  -30.6752857 -30.7294059 -30.7835256\n",
        " -30.8376449 -30.8917637 -30.9458821 -31.        -31.0541175 -31.1082345\n",
        " -31.162351  -31.2164671 -31.2705828 -31.324698  -31.3788127 -31.432927\n",
        " -31.4870408 -31.5411542 -31.5952671 -31.6493795 -31.7034915 -31.7576031\n",
        " -31.8117141 -31.8658247 -31.9199349 -31.9740446 -32.0281538 -32.0822625\n",
        " -32.1363708 -32.1904787 -32.244586  -32.2986929 -32.3527994 -32.4069054\n",
        " -32.4610109]\n",
        "    geospatial_lat_max: [-29.5252994 -29.5794147 -29.6335296 -29.687644  -29.741758  -29.7958715\n",
        " -29.8499845 -29.904097  -29.9582091 -30.0123207 -30.0664318 -30.1205425\n",
        " -30.1746527 -30.2287624 -30.2828717 -30.3369805 -30.3910888 -30.4451966\n",
        " -30.499304  -30.5534109 -30.6075173 -30.6616232 -30.7157287 -30.7698337\n",
        " -30.8239382 -30.8780423 -30.9321458 -30.9862489 -31.0403515 -31.0944536\n",
        " -31.1485553 -31.2026564 -31.2567571 -31.3108573 -31.364957  -31.4190563\n",
        " -31.473155  -31.5272533 -31.5813511 -31.6354484 -31.6895452 -31.7436416\n",
        " -31.7977374 -31.8518328 -31.9059277 -31.960022  -32.0141159 -32.0682094\n",
        " -32.1223023 -32.1763947 -32.2304867 -32.2845781 -32.3386691 -32.3927596\n",
        " -32.4468495]\n",
        "    geospatial_lat_units: degrees_north\n",
        "    geospatial_lon_min: [ 112.3100111  112.3090067  112.3080002  112.3069914  112.3059805\n",
        "  112.3049674  112.3039521  112.3029346  112.3019149  112.3008929\n",
        "  112.2998688  112.2988424  112.2978139  112.2967831  112.29575\n",
        "  112.2947147  112.2936772  112.2926374  112.2915953  112.290551\n",
        "  112.2895044  112.2884556  112.2874044  112.286351   112.2852953\n",
        "  112.2842373  112.283177   112.2821143  112.2810494  112.2799821\n",
        "  112.2789125  112.2778406  112.2767663  112.2756897  112.2746108\n",
        "  112.2735294  112.2724458  112.2713597  112.2702713  112.2691805\n",
        "  112.2680873  112.2669917  112.2658937  112.2647933  112.2636905\n",
        "  112.2625853  112.2614777  112.2603676  112.2592551  112.2581402\n",
        "  112.2570228  112.2559029  112.2547806  112.2536558  112.2525286]\n",
        "    geospatial_lon_max: [ 115.7758038  115.7766744  115.7775469  115.7784212  115.7792975\n",
        "  115.7801756  115.7810557  115.7819376  115.7828215  115.7837073\n",
        "  115.784595   115.7854846  115.7863762  115.7872697  115.7881651\n",
        "  115.7890625  115.7899618  115.7908631  115.7917663  115.7926715\n",
        "  115.7935787  115.7944878  115.7953989  115.796312   115.7972271\n",
        "  115.7981441  115.7990632  115.7999843  115.8009074  115.8018325\n",
        "  115.8027596  115.8036887  115.8046199  115.8055531  115.8064883\n",
        "  115.8074256  115.8083649  115.8093063  115.8102497  115.8111952\n",
        "  115.8121427  115.8130924  115.8140441  115.8149979  115.8159538\n",
        "  115.8169118  115.8178719  115.8188341  115.8197984  115.8207648\n",
        "  115.8217334  115.822704   115.8236768  115.8246518  115.8256289]\n",
        "    geospatial_lon_units: degrees_east\n",
        "    geospatial_vertical_min: 0.0\n",
        "    geospatial_vertical_max: 0.0\n",
        "    geospatial_vertical_units: m\n",
        "    time_coverage_start: 2012-10-01T00:00:00Z\n",
        "    time_coverage_duration: PT1H19M\n",
        "    local_time_zone: 8.0\n",
        "    data_centre_email: info@emii.org.au\n",
        "    data_centre: eMarine Information Infrastructure (eMII)\n",
        "    author: Besnard, Laurent\n",
        "    author_email: laurent.besnard@utas.edu.au\n",
        "    institution_references: http://www.imos.org.au/acorn.html\n",
        "    principal_investigator: Wyatt, Lucy\n",
        "    citation: Citation to be used in publications should follow the format:\"IMOS.[year-of-data-download],[Title],[Data access URL],accessed [date-of-access]\"\n",
        "    acknowledgment: Data was sourced from the Integrated Marine Observing System (IMOS) - IMOS is supported by the Australian Government through the National Collaborative Research Infrastructure Strategy (NCRIS) and the Super Science Initiative (SSI).\n",
        "    distribution_statement: Data may be re-used, provided that related metadata explaining the data has been reviewed by the user, and the data is appropriately acknowledged. Data, products and services from IMOS are provided \"as is\" without any warranty as to fitness for a particular purpose.\n",
        "    comment: These data have not been quality controlled. They represent values calculated using software provided by CODAR Ocean Sensors. The file has been modified by eMII in order to visualise the data using the ncWMS software.This NetCDF file has been created using the IMOS NetCDF User Manual v1.2. A copy of the document is available at http://imos.org.au/facility_manuals.html\n",
        "    data_center: eMarine Information Infrastructure (eMII)\n",
        "    date_modified: 2012-10-30T16:31:50Z\n",
        "    time_coverage_end: 2012-10-29T18:00:00Z\n",
        "    featureType: grid\n",
        "    data_center_email: info@emii.org.au\n",
        "    acknowledgement: Data was sourced from Integrated Marine Observing System (IMOS) - an initiative of the Australian Government being conducted as part of the National Calloborative Research Infrastructure Strategy.\n",
        "    dimensions(sizes): I(55), J(57), TIME(493)\n",
        "    variables(dimensions): float64 \u001b[4mLATITUDE\u001b[0m(I,J), float64 \u001b[4mLONGITUDE\u001b[0m(I,J), int8 \u001b[4mLATITUDE_quality_control\u001b[0m(I,J), int8 \u001b[4mLONGITUDE_quality_control\u001b[0m(I,J), float64 \u001b[4mTIME\u001b[0m(TIME), float32 \u001b[4mSPEED\u001b[0m(TIME,I,J), float32 \u001b[4mUCUR\u001b[0m(TIME,I,J), float32 \u001b[4mVCUR\u001b[0m(TIME,I,J), int8 \u001b[4mTIME_quality_control\u001b[0m(TIME), int8 \u001b[4mSPEED_quality_control\u001b[0m(TIME,I,J), int8 \u001b[4mUCUR_quality_control\u001b[0m(TIME,I,J), int8 \u001b[4mVCUR_quality_control\u001b[0m(TIME,I,J)\n",
        "    groups: \n",
        "\n"
       ]
      }
     ],
     "prompt_number": 7
    },
    {
     "cell_type": "code",
     "collapsed": false,
     "input": [
      "acorn_DATA.variables.keys()"
     ],
     "language": "python",
     "metadata": {},
     "outputs": [
      {
       "metadata": {},
       "output_type": "pyout",
       "prompt_number": 8,
       "text": [
        "[u'LATITUDE',\n",
        " u'LONGITUDE',\n",
        " u'LATITUDE_quality_control',\n",
        " u'LONGITUDE_quality_control',\n",
        " u'TIME',\n",
        " u'SPEED',\n",
        " u'UCUR',\n",
        " u'VCUR',\n",
        " u'TIME_quality_control',\n",
        " u'SPEED_quality_control',\n",
        " u'UCUR_quality_control',\n",
        " u'VCUR_quality_control']"
       ]
      }
     ],
     "prompt_number": 8
    },
    {
     "cell_type": "markdown",
     "metadata": {},
     "source": [
      "(The 'u' means each variable name is represented by a Unicode string.)"
     ]
    },
    {
     "cell_type": "code",
     "collapsed": false,
     "input": [
      "# netCDF4 Variable object\n",
      "uwnd = acorn_DATA.variables['UCUR']\n",
      "\n",
      "# now you can print the variable's attributes and other info\n",
      "print uwnd\n",
      "\n",
      "# access variable attributes, e.g. its standard_name\n",
      "print uwnd.standard_name\n",
      "\n",
      "# extract the data values (as a numpy array)\n",
      "#uwnd[:]\n",
      "\n",
      "# the variable's dimensions (as a tuple)\n",
      "print uwnd.dimensions"
     ],
     "language": "python",
     "metadata": {},
     "outputs": [
      {
       "output_type": "stream",
       "stream": "stdout",
       "text": [
        "<type 'netCDF4.Variable'>\n",
        "float32 UCUR(TIME, I, J)\n",
        "    standard_name: eastward_sea_water_velocity\n",
        "    long_name: sea water velocity U component\n",
        "    units: m s-1\n",
        "    _FillValue: 9999.0\n",
        "    coordinates: TIME LATITUDE LONGITUDE\n",
        "unlimited dimensions: \n",
        "current shape = (493, 55, 57)\n",
        "filling off\n",
        "\n",
        "eastward_sea_water_velocity\n",
        "(u'TIME', u'I', u'J')\n"
       ]
      }
     ],
     "prompt_number": 10
    }
   ],
   "metadata": {}
  }
 ]
}