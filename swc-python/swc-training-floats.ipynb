{
 "metadata": {
  "name": ""
 },
 "nbformat": 3,
 "nbformat_minor": 0,
 "worksheets": [
  {
   "cells": [
    {
     "cell_type": "heading",
     "level": 1,
     "metadata": {},
     "source": [
      "2. Beware when doing floating point arthemtic"
     ]
    },
    {
     "cell_type": "markdown",
     "metadata": {},
     "source": [
      "The decimal floating-point numbers you enter are generally only approximated by the binary floating-point numbers actually stored in the machine.\n",
      "\n",
      "The small errors introduced by these binary approximations are usually negligible, but can occasionally cause bugs that are very difficult to track down.\n",
      "\n",
      "It\u2019s easy to forget that the stored value is an approximation, because at the interpreter prompt Python only prints a decimal approximation. For example, if Python were to print the exact decimal value of the binary approximation stored for 0.1, it would have to display\n",
      "\n",
      "0.1000000000000000055511151231257827021181583404541015625\n"
     ]
    },
    {
     "cell_type": "code",
     "collapsed": false,
     "input": [
      "0.1"
     ],
     "language": "python",
     "metadata": {},
     "outputs": [
      {
       "metadata": {},
       "output_type": "pyout",
       "prompt_number": 1,
       "text": [
        "0.1"
       ]
      }
     ],
     "prompt_number": 1
    },
    {
     "cell_type": "code",
     "collapsed": false,
     "input": [
      "import numpy as np\n",
      "\n",
      "def add_one_tenth(input_data):\n",
      "    \"\"\"Add 0.1 to each value of an array\"\"\"\n",
      "    \n",
      "    return np.array(input_data) + 0.1"
     ],
     "language": "python",
     "metadata": {},
     "outputs": []
    }
   ],
   "metadata": {}
  }
 ]
}