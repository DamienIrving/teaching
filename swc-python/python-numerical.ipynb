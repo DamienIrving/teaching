{
 "metadata": {
  "name": ""
 },
 "nbformat": 3,
 "nbformat_minor": 0,
 "worksheets": [
  {
   "cells": [
    {
     "cell_type": "heading",
     "level": 1,
     "metadata": {},
     "source": [
      "Basic Programming Using Python: Number Crunching"
     ]
    },
    {
     "cell_type": "markdown",
     "metadata": {},
     "source": [
      "In pretty much all fields of scientific research, data are being gathered at an ever-increasing rate by information-sensing mobile devices, aerial sensory technologies (remote sensing), software logs, cameras, microphones, radio-frequency identification readers, wireless sensor networks and more. Naturally, this means the numerical arrays that scientists are processing are also getting larger and larger. We want to:\n",
      "\n",
      "* make use of existing numerical libraries that have been optimised to handle large data arrays quickly and efficiently\n",
      "* avoid the common pitfalls of numerical programming\n",
      "\n",
      "Along the way, we will learn:\n",
      "\n",
      "* how to set datatypes for matrix elements\n",
      "* what aliasing is\n",
      "* how to record the running time of an operation\n",
      "* how to display simple graphs\n",
      "* the common bugs assoiated with floating point arithmetic and how to overcome them\n"
     ]
    },
    {
     "cell_type": "heading",
     "level": 2,
     "metadata": {},
     "source": [
      "Lesson"
     ]
    },
    {
     "cell_type": "markdown",
     "metadata": {},
     "source": [
      "Scientists write a lot of software to simulate physical phenomena like diffusion-limited aggregation,\n",
      "but a lot more to crunch numbers.\n",
      "From the matrices used to calculate the stress and strain on a bridge\n",
      "to the tables used in statistics,\n",
      "the bulk of scientific data lives in arrays of one kind or another.\n",
      "\n",
      "We can always manipulate arrays using loops,\n",
      "as in this function that calculates the dot product of two vectors:"
     ]
    },
    {
     "cell_type": "code",
     "collapsed": false,
     "input": [
      "def dot(left, right):\n",
      "    '''Calculate dot product of two equal-sized vectors.'''\n",
      "    assert len(left) == len(right), 'Vector lengths unequal: {0} vs. {1}'.format(len(left), len(right))\n",
      "    result = 0.0\n",
      "    for i in range(len(left)):\n",
      "        result += left[i] * right[i]\n",
      "    return result"
     ],
     "language": "python",
     "metadata": {},
     "outputs": [],
     "prompt_number": 1
    },
    {
     "cell_type": "markdown",
     "metadata": {},
     "source": [
      "However,\n",
      "writing code like this is inefficient in two senses.\n",
      "First,\n",
      "the same handful of matrix operations come up so often that\n",
      "it's worth developing a special notation for them.\n",
      "Second,\n",
      "because those operations are common,\n",
      "it's worth investing time in optimizing their performance.\n",
      "Thousands of software developers have done exactly that over fifty years,\n",
      "producing libraries that are much faster,\n",
      "and much more reliable,\n",
      "than anything a single person could develop.\n",
      "These libraries are typically written in low-level languages like Fortran and C,\n",
      "and then wrapped up in MATLAB or Python to make them easier to use."
     ]
    },
    {
     "cell_type": "markdown",
     "metadata": {},
     "source": [
      "This lesson explores the capabilities of these libraries.\n",
      "We use Python's NumPy library for our examples,\n",
      "but all of the ideas can be used in other languages as well."
     ]
    },
    {
     "cell_type": "heading",
     "level": 2,
     "metadata": {},
     "source": [
      "First Steps"
     ]
    },
    {
     "cell_type": "markdown",
     "metadata": {},
     "source": [
      "Let's start by making a vector containing three values:"
     ]
    },
    {
     "cell_type": "code",
     "collapsed": false,
     "input": [
      "import numpy as np\n",
      "values = [1, 2, 3]\n",
      "vector = np.array(values)\n",
      "print vector"
     ],
     "language": "python",
     "metadata": {},
     "outputs": [
      {
       "output_type": "stream",
       "stream": "stdout",
       "text": [
        "[1 2 3]\n"
       ]
      }
     ],
     "prompt_number": 2
    },
    {
     "cell_type": "markdown",
     "metadata": {},
     "source": [
      "By convention,\n",
      "most programmers import `numpy` under the name `np`,\n",
      "since they're going to be typing it a lot.\n",
      "We then ask the library to create an array containing three values,\n",
      "which we then print.\n",
      "\n",
      "Let's take a closer look at that vector:"
     ]
    },
    {
     "cell_type": "code",
     "collapsed": false,
     "input": [
      "print 'vector type is', type(vector)\n",
      "print 'vector shape is', vector.shape\n",
      "print 'vector data type is', vector.dtype"
     ],
     "language": "python",
     "metadata": {},
     "outputs": [
      {
       "output_type": "stream",
       "stream": "stdout",
       "text": [
        "vector type is <type 'numpy.ndarray'>\n",
        "vector shape is (3,)\n",
        "vector data type is int64\n"
       ]
      }
     ],
     "prompt_number": 5
    },
    {
     "cell_type": "markdown",
     "metadata": {},
     "source": [
      "`vector` is not a list:\n",
      "it's a special kind of object called an N-dimensional array (or `ndarray`).\n",
      "When we ask for its shape,\n",
      "we get back a tuple showing how large it is along each axis.\n",
      "In this case,\n",
      "that tuple only has the value 3\n",
      "because our vector has three elements along the first axis."
     ]
    },
    {
     "cell_type": "markdown",
     "metadata": {},
     "source": [
      "The property `vector.dtype` tells us that the elements of the vector are all 64-bit integers.\n",
      "We'll take a look at the end of this section at why all the array's elements must be of the same type."
     ]
    },
    {
     "cell_type": "markdown",
     "metadata": {},
     "source": [
      "We can create arrays whose elements have a different data type by providing initial values of that type.\n",
      "If we provide a mix of types,\n",
      "NumPy converts everything to the most general of those types.\n",
      "For example,\n",
      "if we provide a mix of integers and floats,\n",
      "we get an array of floats:"
     ]
    },
    {
     "cell_type": "code",
     "collapsed": false,
     "input": [
      "vector = np.array([1., 2, 3]) # one float\n",
      "print 'vector mixing floats and integers', vector\n",
      "print 'data type', vector.dtype"
     ],
     "language": "python",
     "metadata": {},
     "outputs": [
      {
       "output_type": "stream",
       "stream": "stdout",
       "text": [
        "vector mixing floats and integers [ 1.  2.  3.]\n",
        "data type float64\n"
       ]
      }
     ],
     "prompt_number": 6
    },
    {
     "cell_type": "markdown",
     "metadata": {},
     "source": [
      "We can force everything to be a particular data type by providing an optional argument:"
     ]
    },
    {
     "cell_type": "code",
     "collapsed": false,
     "input": [
      "vector = np.array([1, 2, 3], dtype=np.float32)\n",
      "print 'forcing integer values to be 32-bit floats gives', vector, 'of type', vector.dtype"
     ],
     "language": "python",
     "metadata": {},
     "outputs": [
      {
       "output_type": "stream",
       "stream": "stdout",
       "text": [
        "forcing integer values to be 32-bit floats gives [ 1.  2.  3.] of type float32\n"
       ]
      }
     ],
     "prompt_number": 7
    },
    {
     "cell_type": "markdown",
     "metadata": {},
     "source": [
      "Of course,\n",
      "we won't normally type in all our data.\n",
      "Instead,\n",
      "we will either construct arrays in stereotyped ways,\n",
      "or read data from files.\n",
      "Here are some examples of the first approach:"
     ]
    },
    {
     "cell_type": "code",
     "collapsed": false,
     "input": [
      "z = np.zeros((5, 3))\n",
      "print z"
     ],
     "language": "python",
     "metadata": {},
     "outputs": [
      {
       "output_type": "stream",
       "stream": "stdout",
       "text": [
        "[[ 0.  0.  0.]\n",
        " [ 0.  0.  0.]\n",
        " [ 0.  0.  0.]\n",
        " [ 0.  0.  0.]\n",
        " [ 0.  0.  0.]]\n"
       ]
      }
     ],
     "prompt_number": 8
    },
    {
     "cell_type": "code",
     "collapsed": false,
     "input": [
      "print np.ones((5, 3))"
     ],
     "language": "python",
     "metadata": {},
     "outputs": [
      {
       "output_type": "stream",
       "stream": "stdout",
       "text": [
        "[[ 1.  1.  1.]\n",
        " [ 1.  1.  1.]\n",
        " [ 1.  1.  1.]\n",
        " [ 1.  1.  1.]\n",
        " [ 1.  1.  1.]]\n"
       ]
      }
     ],
     "prompt_number": 9
    },
    {
     "cell_type": "code",
     "collapsed": false,
     "input": [
      "print np.identity(5)"
     ],
     "language": "python",
     "metadata": {},
     "outputs": [
      {
       "output_type": "stream",
       "stream": "stdout",
       "text": [
        "[[ 1.  0.  0.  0.  0.]\n",
        " [ 0.  1.  0.  0.  0.]\n",
        " [ 0.  0.  1.  0.  0.]\n",
        " [ 0.  0.  0.  1.  0.]\n",
        " [ 0.  0.  0.  0.  1.]]\n"
       ]
      }
     ],
     "prompt_number": 10
    },
    {
     "cell_type": "markdown",
     "metadata": {},
     "source": [
      "These examples show two features of NumPy that are important to keep straight.\n",
      "The first is that array dimensions are written as a single tuple containing 1 or more sizes:\n",
      "`np.zeros` and `np.ones` take `(5,3)` as a single argument,\n",
      "rather than 5 and 3 separately.\n",
      "\n",
      "The second thing to note is the way arrays are displayed.\n",
      "The shape `(5,3)` doesn't mean \"5 elements along the X axis, and 3 along the Y\".\n",
      "Instead,\n",
      "it means \"5 along the *first* axis, and 3 along the *second*\".\n",
      "This is called [row-major order](glossary.html#row_major),\n",
      "and when we print the array,\n",
      "NumPy shows us 5 sub-arrays,\n",
      "each containing 3 elements.\n",
      "\n",
      "And yes,\n",
      "this means that we can create multi-dimensional arrays by giving NumPy lists of lists:"
     ]
    },
    {
     "cell_type": "code",
     "collapsed": false,
     "input": [
      "rectangle = np.array([ [11, 22], [33, 44], [55, 66] ])\n",
      "print rectangle"
     ],
     "language": "python",
     "metadata": {},
     "outputs": [
      {
       "output_type": "stream",
       "stream": "stdout",
       "text": [
        "[[11 22]\n",
        " [33 44]\n",
        " [55 66]]\n"
       ]
      }
     ],
     "prompt_number": 11
    },
    {
     "cell_type": "markdown",
     "metadata": {},
     "source": [
      "There are two more things we need to explore before we start using arrays to solve real scientific problems.\n",
      "The first is the rules governing what data is copied when.\n",
      "Here's an experiment:"
     ]
    },
    {
     "cell_type": "code",
     "collapsed": false,
     "input": [
      "first = np.ones((2, 2))\n",
      "print 'first is', first\n",
      "second = first\n",
      "second[0, 0] = 9\n",
      "print 'second is', second\n",
      "print '...and first is now', first"
     ],
     "language": "python",
     "metadata": {},
     "outputs": [
      {
       "output_type": "stream",
       "stream": "stdout",
       "text": [
        "first is [[ 1.  1.]\n",
        " [ 1.  1.]]\n",
        "second is [[ 9.  1.]\n",
        " [ 1.  1.]]\n",
        "...and first is now [[ 9.  1.]\n",
        " [ 1.  1.]]\n"
       ]
      }
     ],
     "prompt_number": 12
    },
    {
     "cell_type": "markdown",
     "metadata": {},
     "source": [
      "As the figure below shows,\n",
      "the expression `second = first` doesn't copy data.\n",
      "Instead,\n",
      "it makes the variable `second` point at the same array as `first`,\n",
      "so that when we assign something to an element of `second`,\n",
      "the change shows up in `first` as well."
     ]
    },
    {
     "cell_type": "markdown",
     "metadata": {},
     "source": [
      "FIXME: diagram"
     ]
    },
    {
     "cell_type": "markdown",
     "metadata": {},
     "source": [
      "This is called [aliasing](glossary.html#alias),\n",
      "and NumPy does it because:\n",
      "\n",
      "* it's more efficient that copying data unnecessarily, and\n",
      "* that's what Python does in other cases (e.g., with lists).\n",
      "\n",
      "If we want to copy data so that we can safely make changes,\n",
      "we can do that explicitly using the array object's `copy` method:"
     ]
    },
    {
     "cell_type": "code",
     "collapsed": false,
     "input": [
      "third = first.copy()\n",
      "third[:, :] = 1234\n",
      "print 'third is', third\n",
      "print 'but first is', first"
     ],
     "language": "python",
     "metadata": {},
     "outputs": [
      {
       "output_type": "stream",
       "stream": "stdout",
       "text": [
        "third is [[ 1234.  1234.]\n",
        " [ 1234.  1234.]]\n",
        "but first is [[ 9.  1.]\n",
        " [ 1.  1.]]\n"
       ]
      }
     ],
     "prompt_number": 13
    },
    {
     "cell_type": "markdown",
     "metadata": {},
     "source": [
      "FIXME: diagram"
     ]
    },
    {
     "cell_type": "markdown",
     "metadata": {},
     "source": [
      "The second thing we need to explore before using arrays is the question of performance.\n",
      "Let's create a list of a million ones,\n",
      "and an array with the same data:"
     ]
    },
    {
     "cell_type": "code",
     "collapsed": false,
     "input": [
      "million = 1000000\n",
      "as_list = [1] * million\n",
      "as_array = np.ones((million,))"
     ],
     "language": "python",
     "metadata": {},
     "outputs": [],
     "prompt_number": 14
    },
    {
     "cell_type": "markdown",
     "metadata": {},
     "source": [
      "We can now use IPython's `timeit` command to see how long it takes to sum up the values in the list:"
     ]
    },
    {
     "cell_type": "code",
     "collapsed": false,
     "input": [
      "%%timeit\n",
      "sum(as_list)"
     ],
     "language": "python",
     "metadata": {},
     "outputs": [
      {
       "output_type": "stream",
       "stream": "stdout",
       "text": [
        "100 loops, best of 3: 8.13 ms per loop\n"
       ]
      }
     ],
     "prompt_number": 15
    },
    {
     "cell_type": "markdown",
     "metadata": {},
     "source": [
      "and in the array:"
     ]
    },
    {
     "cell_type": "code",
     "collapsed": false,
     "input": [
      "%%timeit\n",
      "np.sum(as_array)"
     ],
     "language": "python",
     "metadata": {},
     "outputs": [
      {
       "output_type": "stream",
       "stream": "stdout",
       "text": [
        "1000 loops, best of 3: 1.1 ms per loop\n"
       ]
      }
     ],
     "prompt_number": 16
    },
    {
     "cell_type": "markdown",
     "metadata": {},
     "source": [
      "FIXME: uniform storage, low-level code, benefits"
     ]
    },
    {
     "cell_type": "markdown",
     "metadata": {},
     "source": [
      "Better still, let's test the performance of the `dot` function that we derived eariler, against the NumPy equivalent:"
     ]
    },
    {
     "cell_type": "code",
     "collapsed": false,
     "input": [
      "large_array = np.ones((1000, 1000))"
     ],
     "language": "python",
     "metadata": {},
     "outputs": [],
     "prompt_number": 3
    },
    {
     "cell_type": "code",
     "collapsed": false,
     "input": [
      "%%timeit\n",
      "dot(large_array, large_array)"
     ],
     "language": "python",
     "metadata": {},
     "outputs": [
      {
       "output_type": "stream",
       "stream": "stdout",
       "text": [
        "100 loops, best of 3: 9.37 ms per loop\n"
       ]
      }
     ],
     "prompt_number": 4
    },
    {
     "cell_type": "code",
     "collapsed": false,
     "input": [
      "%%timeit\n",
      "np.dot(large_array, large_array)"
     ],
     "language": "python",
     "metadata": {},
     "outputs": [
      {
       "output_type": "stream",
       "stream": "stdout",
       "text": [
        "1 loops, best of 3: 204 ms per loop\n"
       ]
      }
     ],
     "prompt_number": 5
    },
    {
     "cell_type": "markdown",
     "metadata": {},
     "source": [
      "We can see that `dot` is faster per loop, but it has to perform many more loops than `np.dot`. In other words, as the input arrays get bigger and bigger, the performance of `dot` gets comparatively worse and worse. This performance argument, in addition to the the fact that NumPy routines are much more stringently tested, indicates that an off-the-shelf routine from a library like NumPy or SciPy is always a better option that writing your own from scratch.   "
     ]
    },
    {
     "cell_type": "markdown",
     "metadata": {},
     "source": [
      "### Challenge\n",
      "\n",
      "1. NumPy arrays make it easy to do things with rectangular blocks of data, but they aren't the matrices that mathematicians use. In order to demonstrate this, create a (small) NumPy array and multiply it by itself ( i.e. `a * a` ). Contrast this with the output of `np.dot(a, a)`. Explain why the results differ.  "
     ]
    },
    {
     "cell_type": "heading",
     "level": 2,
     "metadata": {},
     "source": [
      "The Lotka-Volterra Equation"
     ]
    },
    {
     "cell_type": "markdown",
     "metadata": {},
     "source": [
      "For a slightly more advanced example of number crunching in Python,\n",
      "let's look at the [Lotka-Volterra equation](http://wiki.scipy.org/Cookbook/LoktaVolterraTutorial).\n",
      "First proposed in the 1920s,\n",
      "it models the interactions between predators and prey.\n",
      "When predators are scarce,\n",
      "prey breed rapidly;\n",
      "as more prey become available,\n",
      "the predator population increases;\n",
      "and as the number of predators increases,\n",
      "prey become scarcer,\n",
      "so the predator population peaks and falls.\n",
      "In mathematical form,\n",
      "this is:"
     ]
    },
    {
     "cell_type": "markdown",
     "metadata": {},
     "source": [
      "\\begin{eqnarray}\n",
      "\\frac{du}{dt} & = & au & - & buv \\\\\n",
      "\\frac{dv}{dt} & = & -cv & - & dbuv \\\\\n",
      "\\end{eqnarray}"
     ]
    },
    {
     "cell_type": "markdown",
     "metadata": {},
     "source": [
      "where:\n",
      "\n",
      "*   *u* and *v* are the number of prey and predators respectively;\n",
      "*   *a* is the natural growth rate of prey when there are no predators;\n",
      "*   *b* is the natural death rate of prey due to predation;\n",
      "*   *c* is the natural death rate of predators when there are no prey; and\n",
      "*   *d* describes how many prey have to be caught and eaten to produce a new predator."
     ]
    },
    {
     "cell_type": "markdown",
     "metadata": {},
     "source": [
      "Let's set up our equations.\n",
      "If *X* is the pair *[u, v]*,\n",
      "i.e.,\n",
      "the prey and predator populations,\n",
      "then the equation of change is:"
     ]
    },
    {
     "cell_type": "code",
     "collapsed": false,
     "input": [
      "a = 1.\n",
      "b = 0.1\n",
      "c = 1.5\n",
      "d = 0.75\n",
      "def dX_dt(X, t):\n",
      "   return np.array([ a*X[0] - b*X[0]*X[1] , -c*X[1] + d*b*X[0]*X[1] ])"
     ],
     "language": "python",
     "metadata": {},
     "outputs": [],
     "prompt_number": 93
    },
    {
     "cell_type": "markdown",
     "metadata": {},
     "source": [
      "We've written our own function in this case, since general libraries like NumPy and SciPy obviously don't stock routines specific to the Lotka-Volterra equation. However, the performance of this function should still be very good, because it only involves simple array operations like multiplication and addition (and importantly, no looping). \n",
      "\n",
      "We had to create the state variable `X` in order to use the numerical integration function\n",
      "we'll introduce in a moment.\n",
      "Similarly,\n",
      "the function that calculates the derivative,\n",
      "`dX_dt`,\n",
      "has to take the state and the time as parameters,\n",
      "even though it doesn't use the latter.\n",
      "\n",
      "We'll integrate our equation from t=0 to t=20 in 2000 steps,\n",
      "so we need a vector of time values,\n",
      "which we can create using NumPy's `linspace` function:"
     ]
    },
    {
     "cell_type": "code",
     "collapsed": false,
     "input": [
      "t = np.linspace(0, 20, 2000)"
     ],
     "language": "python",
     "metadata": {},
     "outputs": [],
     "prompt_number": 94
    },
    {
     "cell_type": "markdown",
     "metadata": {},
     "source": [
      "Let's start with 20 rabbits and 4 foxes:"
     ]
    },
    {
     "cell_type": "code",
     "collapsed": false,
     "input": [
      "X_initial = np.array([20, 4])"
     ],
     "language": "python",
     "metadata": {},
     "outputs": [],
     "prompt_number": 95
    },
    {
     "cell_type": "markdown",
     "metadata": {},
     "source": [
      "and then integrate numerically using `odeint`\n",
      "(the ordinary differential equation integrator)\n",
      "from the SciPy library:"
     ]
    },
    {
     "cell_type": "code",
     "collapsed": false,
     "input": [
      "from scipy import integrate\n",
      "X = integrate.odeint(dX_dt, X_initial, t)"
     ],
     "language": "python",
     "metadata": {},
     "outputs": [],
     "prompt_number": 96
    },
    {
     "cell_type": "markdown",
     "metadata": {},
     "source": [
      "`X` is now 2000 pairs of numbers representing the prey and predator populations at each time *t*. We can now go ahead plot those pairs:"
     ]
    },
    {
     "cell_type": "code",
     "collapsed": false,
     "input": [
      "%matplotlib inline"
     ],
     "language": "python",
     "metadata": {},
     "outputs": []
    },
    {
     "cell_type": "code",
     "collapsed": false,
     "input": [
      "from matplotlib import pyplot as plt\n",
      "\n",
      "predators = X[:, 0]\n",
      "prey = X[:, 1]\n",
      "fig = plt.figure()\n",
      "plt.plot(t, prey, 'r-', label='Prey')\n",
      "plt.plot(t, predators, 'b-', label='Predators')\n",
      "plt.grid()\n",
      "plt.legend(loc='best')\n",
      "plt.xlabel('time')\n",
      "plt.ylabel('population')\n",
      "plt.title('Evolution of predator and prey populations')\n",
      "plt.show()"
     ],
     "language": "python",
     "metadata": {},
     "outputs": [
      {
       "metadata": {},
       "output_type": "display_data",
       "png": "[encoded data removed]",
       "text": [
        "<matplotlib.figure.Figure at 0x107582350>"
       ]
      }
     ],
     "prompt_number": 97
    },
    {
     "cell_type": "markdown",
     "metadata": {},
     "source": [
      "From the previous `dot` example, we can appreciate that writing our own integration function (which would require loops) and running it over 2000 pairs would have been a far slower alternative to using the SciPy library.  "
     ]
    },
    {
     "cell_type": "heading",
     "level": 2,
     "metadata": {},
     "source": [
      "Floating Point Arithmetic"
     ]
    },
    {
     "cell_type": "markdown",
     "metadata": {},
     "source": [
      "One of the most common sources of error when using NumPy, or when dealing with numbers in any programming language for that matter, is associated with floating point arithmetic. Floating-point numbers are represented in computer hardware as base 2 (binary) fractions. For example, the decimal fraction\n",
      "\n",
      "0.125\n",
      "\n",
      "has value 1/10 + 2/100 + 5/1000, and in the same way the binary fraction\n",
      "\n",
      "0.001\n",
      "\n",
      "has value 0/2 + 0/4 + 1/8. These two fractions have identical values, the only difference being that the first is written in base 10 fractional notation, and the second in base 2.\n",
      "\n",
      "Unfortunately, most numbers cannot be represented exactly as fractions in any base, decimal or binary. As a consequence, the decimal floating-point numbers you enter are generally only approximated by the binary floating-point numbers actually stored in the machine. It\u2019s easy to forget that the stored value is an approximation, because of the way that floats are displayed at the interpreter prompt. Python only prints a decimal approximation to the true decimal value of the binary approximation stored by the machine. If Python were to print the exact decimal value of the binary approximation stored for 0.1, it would have to display\n",
      "\n",
      "0.1000000000000000055511151231257827021181583404541015625\n",
      "\n",
      "That is more digits than most people find useful, so Python keeps the number of digits manageable by displaying a rounded value instead:\n",
      "\n",
      "  "
     ]
    },
    {
     "cell_type": "code",
     "collapsed": false,
     "input": [
      "0.1"
     ],
     "language": "python",
     "metadata": {},
     "outputs": [
      {
       "output_type": "pyout",
       "prompt_number": 7,
       "text": [
        "0.1"
       ]
      }
     ],
     "prompt_number": 7
    },
    {
     "cell_type": "markdown",
     "metadata": {},
     "source": [
      "The small errors introduced by these binary approximations are usually negligible, but can occasionally cause bugs that are very difficult to track down. Consider the following function, for which a quick test has been executed:"
     ]
    },
    {
     "cell_type": "code",
     "collapsed": false,
     "input": [
      "def add_one_tenth(input_data):\n",
      "    \"\"\"Add 0.1 to each value of an array\"\"\"\n",
      "    \n",
      "    return np.array(input_data) + 0.1"
     ],
     "language": "python",
     "metadata": {},
     "outputs": [],
     "prompt_number": 2
    },
    {
     "cell_type": "code",
     "collapsed": false,
     "input": [
      "test_data = add_one_tenth([0.1, 0.2, 0.3, 0.4])\n",
      "expected_answer = np.array([0.2, 0.3, 0.4, 0.5])\n",
      "\n",
      "print test_data == expected_answer"
     ],
     "language": "python",
     "metadata": {},
     "outputs": [
      {
       "output_type": "stream",
       "stream": "stdout",
       "text": [
        "[ True False  True  True]\n"
       ]
      }
     ],
     "prompt_number": 3
    },
    {
     "cell_type": "markdown",
     "metadata": {},
     "source": [
      "The unexpected `False` arises because the binary appoximation of 0.1 + 0.2 doesn't exactly equal 0.3"
     ]
    },
    {
     "cell_type": "code",
     "collapsed": false,
     "input": [
      "0.1 + 0.2"
     ],
     "language": "python",
     "metadata": {},
     "outputs": [
      {
       "output_type": "pyout",
       "prompt_number": 6,
       "text": [
        "0.30000000000000004"
       ]
      }
     ],
     "prompt_number": 6
    },
    {
     "cell_type": "markdown",
     "metadata": {},
     "source": [
      "This result brings us to the first rule of floating point arithmetic: never use `==` (or `!=`) on floating point numbers. Instead, it is better to check whether two values are within some tolerance, and if they are, treat them as equal. \n",
      "\n",
      "NumPy provides some very convenient tools for doing this, which typically allow you to define the tolerance in terms of the absolute and/or relative error. The [absolute error](glossary.html#aboslute-error) (`atol`) in some approximation is simply the absolute value of the difference between the actual value and the approximation. The [relative error](glossary.html#relative-error) (`rtol`), on the other hand, is the ratio of the absolute error to the value we're approximating. For example, if we're off by 1 in approximating 8+1 and 56+1, the absolute error is the same in both cases, but the relative error in the first case is 1/9 = 11%, while in the second case it is only 1/57 = 1.7%. When we're thinking about floating point numbers, relative error is almost always more useful than absolute error. After all, it makes little sense to say that we're off by a hundreth when the value in question is a billionth. \n",
      "\n",
      "Let's now go ahead and write a better test for `add_one_tenth`. The `np.allclose` method tests whether two arrays are element-wise equal within a specified tolerance. More specifically, if the following equation is element-wise `True`, then `np.allclose` returns `True`.\n",
      "\n",
      "    absolute(a - b) <= (atol + rtol * absolute(b)) "
     ]
    },
    {
     "cell_type": "code",
     "collapsed": false,
     "input": [
      "np.allclose(test_data, expected_answer, rtol=1e-05, atol=0.0)"
     ],
     "language": "python",
     "metadata": {},
     "outputs": [
      {
       "output_type": "pyout",
       "prompt_number": 8,
       "text": [
        "True"
       ]
      }
     ],
     "prompt_number": 8
    },
    {
     "cell_type": "markdown",
     "metadata": {},
     "source": [
      "Of course, in many cases we want to do more with floating point numbers than just test equality. For instance, we might want to do some simple trigonometry:    "
     ]
    },
    {
     "cell_type": "code",
     "collapsed": false,
     "input": [
      "def arccos_to_deg(values):\n",
      "    \"\"\"Calculate the arccosine and give result in degrees (not radians)\"\"\"\n",
      "    \n",
      "    answer_radians = np.arccos(values)\n",
      "    \n",
      "    return np.rad2deg(answer_radians)"
     ],
     "language": "python",
     "metadata": {},
     "outputs": [],
     "prompt_number": 13
    },
    {
     "cell_type": "code",
     "collapsed": false,
     "input": [
      "arccos_to_deg(1.0)"
     ],
     "language": "python",
     "metadata": {},
     "outputs": [
      {
       "output_type": "pyout",
       "prompt_number": 14,
       "text": [
        "0.0"
       ]
      }
     ],
     "prompt_number": 14
    },
    {
     "cell_type": "markdown",
     "metadata": {},
     "source": [
      "As expected, an input value of 1.0 gives the answer 0.0. However, what if we had derived the input value of 1.0 from an expression like the following?"
     ]
    },
    {
     "cell_type": "code",
     "collapsed": false,
     "input": [
      "(0.1 + 0.2) / 0.3"
     ],
     "language": "python",
     "metadata": {},
     "outputs": [
      {
       "output_type": "pyout",
       "prompt_number": 24,
       "text": [
        "1.0000000000000002"
       ]
      }
     ],
     "prompt_number": 24
    },
    {
     "cell_type": "markdown",
     "metadata": {},
     "source": [
      "The relative error associated with this expression is very small, however it's significant because arccosine is only defined over the range [-1.0,  1.0]. If we pass this derived input value to our simple trigonometic function, it now returns `nan`. This is the standard way computers represent an undefined or unrepresentable value (and stands for \"not a number\").   "
     ]
    },
    {
     "cell_type": "code",
     "collapsed": false,
     "input": [
      "a = (0.1 + 0.2) / 0.3\n",
      "arccos_to_deg(a)"
     ],
     "language": "python",
     "metadata": {},
     "outputs": [
      {
       "output_type": "pyout",
       "prompt_number": 17,
       "text": [
        "nan"
       ]
      }
     ],
     "prompt_number": 17
    },
    {
     "cell_type": "markdown",
     "metadata": {},
     "source": [
      "NumPy doesn't have a tool to cover every type of floating point arithmetic error that you'll ever come across, so in this instance we'll have to write our own function to fix the problem. "
     ]
    },
    {
     "cell_type": "code",
     "collapsed": false,
     "input": [
      "def approx_one(values, rtol=1e-05, atol=0.0):\n",
      "    \"\"\"Take values close to 1.0 and return exactly 1.0\"\"\"\n",
      "    \n",
      "    threshold = atol + rtol * np.absolute(values)\n",
      "    diff = np.array(values) - 1.0\n",
      "    \n",
      "    return np.where(np.absolute(diff) < threshold, 1.0, values)\n",
      "\n",
      "\n",
      "arccos_to_deg(approx_one(a))\n",
      "   "
     ],
     "language": "python",
     "metadata": {},
     "outputs": [
      {
       "output_type": "pyout",
       "prompt_number": 28,
       "text": [
        "0.0"
       ]
      }
     ],
     "prompt_number": 28
    },
    {
     "cell_type": "markdown",
     "metadata": {},
     "source": [
      "The moral of the story here is that floating point issues are often unique to the problem that you're working on. However, if you're aware of the common tools (e.g. `np.allclose`) and techniques (e.g. never use `==`) for dealing with them, you can almost always come up with a solution."
     ]
    },
    {
     "cell_type": "heading",
     "level": 2,
     "metadata": {},
     "source": [
      "Key Points"
     ]
    },
    {
     "cell_type": "markdown",
     "metadata": {},
     "source": [
      "If you're performing an operation on data stored in an array, resist the urge to write your own function from scratch. For simple operations (e.g. calculating the mean or dot product), it is almost certain that a library like NumPy or SciPy has a routine that is much faster and more thouroughly tested than anything you could ever write yourself. For more complicated, multi-step operations, it is still very possible that an off-the-shelf routine already exists (e.g. for the integration of ordinary differential equations). If not, make sure that the function you write exploits the array processing features of data structures like NumPy arrays, in order to avoid looping. This will speed up your code and make it more easily readable. Finally, be mindful of the issues associated with data types (i.e. integer versus float) and floating point arithmetic (i.e. binary floating-point numbers are an approximation). These are a very common source of bugs in scientific code.     "
     ]
    }
   ],
   "metadata": {}
  }
 ]
}