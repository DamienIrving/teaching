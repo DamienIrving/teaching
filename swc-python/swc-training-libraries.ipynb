{
 "metadata": {
  "name": ""
 },
 "nbformat": 3,
 "nbformat_minor": 0,
 "worksheets": [
  {
   "cells": [
    {
     "cell_type": "heading",
     "level": 1,
     "metadata": {},
     "source": [
      "1. Use existing libraries"
     ]
    },
    {
     "cell_type": "heading",
     "level": 2,
     "metadata": {},
     "source": [
      "Example A: The dot product"
     ]
    },
    {
     "cell_type": "code",
     "collapsed": false,
     "input": [
      "import numpy as np"
     ],
     "language": "python",
     "metadata": {},
     "outputs": []
    },
    {
     "cell_type": "code",
     "collapsed": false,
     "input": [
      "def dot(left, right):\n",
      "    '''Calculate dot product of two equal-sized vectors.'''\n",
      "    assert len(left) == len(right), 'Vector lengths unequal: {0} vs. {1}'.format(len(left), len(right))\n",
      "    result = 0.0\n",
      "    for i in range(len(left)):\n",
      "        result += left[i] * right[i]\n",
      "    return result"
     ],
     "language": "python",
     "metadata": {},
     "outputs": [],
     "prompt_number": 1
    },
    {
     "cell_type": "heading",
     "level": 2,
     "metadata": {},
     "source": [
      "Example B: The Lotka-Volterra equation"
     ]
    },
    {
     "cell_type": "markdown",
     "metadata": {},
     "source": [
      "Models the interactions between predators and prey:  \n",
      "\n",
      "* When predators are scarce, prey breed rapidly\n",
      "* As more prey become available, the predator population increases\n",
      "* As the number of predators increases, prey become scarcer\n",
      "\n",
      "In mathematical form, this is:"
     ]
    },
    {
     "cell_type": "markdown",
     "metadata": {},
     "source": [
      "\\begin{eqnarray}\n",
      "\\frac{du}{dt} & = & au & - & buv \\\\\n",
      "\\frac{dv}{dt} & = & -cv & - & dbuv \\\\\n",
      "\\end{eqnarray}"
     ]
    },
    {
     "cell_type": "markdown",
     "metadata": {},
     "source": [
      "where:\n",
      "\n",
      "*   *u* and *v* are the number of prey and predators respectively;\n",
      "*   *a* is the natural growth rate of prey when there are no predators;\n",
      "*   *b* is the natural death rate of prey due to predation;\n",
      "*   *c* is the natural death rate of predators when there are no prey; and\n",
      "*   *d* describes how many prey have to be caught and eaten to produce a new predator."
     ]
    },
    {
     "cell_type": "markdown",
     "metadata": {},
     "source": [
      "If *X* is the pair *[u, v]*,\n",
      "i.e.,\n",
      "the prey and predator populations,\n",
      "then the equation of change is:"
     ]
    },
    {
     "cell_type": "code",
     "collapsed": false,
     "input": [
      "a = 1.\n",
      "b = 0.1\n",
      "c = 1.5\n",
      "d = 0.75\n",
      "def dX_dt(X, t):\n",
      "   return np.array([ a*X[0] - b*X[0]*X[1] , -c*X[1] + d*b*X[0]*X[1] ])"
     ],
     "language": "python",
     "metadata": {},
     "outputs": []
    }
   ],
   "metadata": {}
  }
 ]
}