{
 "metadata": {
  "name": "python-data-management"
 },
 "nbformat": 3,
 "nbformat_minor": 0,
 "worksheets": [
  {
   "cells": [
    {
     "cell_type": "heading",
     "level": 1,
     "metadata": {},
     "source": [
      "Data management"
     ]
    },
    {
     "cell_type": "markdown",
     "metadata": {},
     "source": [
      "Our previous lessons have shown us how to write programs that ingest a list of data files, perform some calculations on those data, and then print a final result to the screen. While this was a useful exercise in learning the principles of scripting and parsing the command line, in most cases the output of our programs will not be so simple. Instead, programs typically take data as input, manipulate that data, and then output yet more data. Over the course of a multi-year research project, most reseachers will write many different programs that produce many different output datasets. "
     ]
    },
    {
     "cell_type": "markdown",
     "metadata": {},
     "source": [
      "We want to:\n",
      "\n",
      "* Manage our data in such as way as to avoid confusion/callamity  \n",
      "\n",
      "Along the way, we will learn:\n",
      "\n",
      "* why file name conventions are so important\n",
      "* about binary file formats\n",
      "* how to define meaningful metadata"
     ]
    },
    {
     "cell_type": "heading",
     "level": 2,
     "metadata": {},
     "source": [
      "What's in a name?"
     ]
    },
    {
     "cell_type": "markdown",
     "metadata": {},
     "source": [
      "For this exercise, we are going to be processing data from a computer climate model. In paricular, we are going to take zonal (east-west) and meridional (north-south) upper-atmosphere wind speed data from a NASA computer climate model (yes, the same NASA that put man on the moon) and calculate the total wind speed. First off, let's locate out data files:"
     ]
    },
    {
     "cell_type": "code",
     "collapsed": false,
     "input": [],
     "language": "python",
     "metadata": {},
     "outputs": []
    }
   ],
   "metadata": {}
  }
 ]
}