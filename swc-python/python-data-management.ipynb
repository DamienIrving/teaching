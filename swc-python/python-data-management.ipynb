{
 "metadata": {
  "name": "python-data-management"
 },
 "nbformat": 3,
 "nbformat_minor": 0,
 "worksheets": [
  {
   "cells": [
    {
     "cell_type": "heading",
     "level": 1,
     "metadata": {},
     "source": [
      "Data management"
     ]
    },
    {
     "cell_type": "markdown",
     "metadata": {},
     "source": [
      "Our previous lessons have shown us how to write programs that ingest a list of data files, perform some calculations on those data, and then print a final result to the screen. While this was a useful exercise in learning the principles of scripting and parsing the command line, in most cases the output of our programs will not be so simple. Instead, programs typically take data as input, manipulate that data, and then output yet more data. Over the course of a multi-year research project, most reseachers will write many different programs that produce many different output datasets. "
     ]
    },
    {
     "cell_type": "markdown",
     "metadata": {},
     "source": [
      "We want to:\n",
      "\n",
      "* Manage our data in such as way as to avoid confusion/callamity  \n",
      "\n",
      "Along the way, we will learn:\n",
      "\n",
      "* why file name conventions are so important\n",
      "* about binary file formats\n",
      "* how to define meaningful metadata"
     ]
    },
    {
     "cell_type": "heading",
     "level": 2,
     "metadata": {},
     "source": [
      "What's in a name?"
     ]
    },
    {
     "cell_type": "markdown",
     "metadata": {},
     "source": [
      "In this lesson we are going to process some of the climate model data that was submitted to the CMIP5 project. This project informed many of the results presented in the Intergovernmental Panel on Climate Change (IPCC) Fifth Assessment Report, making it one of the most widely used datasets in the world.\n",
      "\n",
      "First off, let's see what files we've got:"
     ]
    },
    {
     "cell_type": "code",
     "collapsed": false,
     "input": [
      "!ls *.nc"
     ],
     "language": "python",
     "metadata": {},
     "outputs": [
      {
       "output_type": "stream",
       "stream": "stdout",
       "text": [
        "uas_Amon_ACCESS1-3_rcp85_r1i1p1_205006-205008_aus.nc  vas_Amon_ACCESS1-3_rcp85_r1i1p1_205006-205008_aus.nc\r\n"
       ]
      }
     ],
     "prompt_number": 1
    },
    {
     "cell_type": "markdown",
     "metadata": {},
     "source": [
      "The first thing to notice is the distinctive Data Reference Syntax (DRS) associated with CMIP5. Modelling groups contributing to the project must name their files according to the following structure:"
     ]
    },
    {
     "cell_type": "raw",
     "metadata": {},
     "source": [
      "<variable name>_<MIP table>_<model>_<experiment>_<ensemble member>_<temporal subset>_<geographical info>.nc"
     ]
    },
    {
     "cell_type": "markdown",
     "metadata": {},
     "source": [
      "From this we can deduce, without even inspecting the contents of the file, that we have surface zonal (i.e. east-west; abbreviated 'uas') and meridional (i.e. north-south; abbreviated 'vas') wind speed data. It belongs to the atmospheric monthly timescale data group (Amon) and was derived from an Australian model known as ACCESS1-3. The external forcing applied to the model was that corresponding to the rcp85 scenario (high future greenhouse gas emissions), it was the r1i1p1'th realisation of the model, and we have the data for June, July and August of the year 2050 for the Australian (aus) region.\n",
      "\n",
      "This level of "
     ]
    },
    {
     "cell_type": "markdown",
     "metadata": {},
     "source": [
      "This might seem like a bit of overkill, but image that "
     ]
    },
    {
     "cell_type": "markdown",
     "metadata": {},
     "source": [
      "In paricular, we are going to take the surface zonal (east-west; abbreviated 'uas') and meridional (north-south; abbreviated 'vas') wind speed data from a NASA computer climate model and calculate the total wind speed (yes, the same NASA that put man on the moon). First off, let's locate out data files:"
     ]
    }
   ],
   "metadata": {}
  }
 ]
}