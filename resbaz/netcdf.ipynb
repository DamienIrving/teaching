{
 "cells": [
  {
   "cell_type": "code",
   "execution_count": 1,
   "metadata": {
    "collapsed": true
   },
   "outputs": [],
   "source": [
    "infile = \"/Users/irv033/Downloads/data/evspsbl_Amon_CSIRO-Mk3-6-0_historicalMisc_r1i1p4_185001-201212.nc\""
   ]
  },
  {
   "cell_type": "markdown",
   "metadata": {},
   "source": [
    "## Using netCDF4"
   ]
  },
  {
   "cell_type": "code",
   "execution_count": 2,
   "metadata": {
    "collapsed": true
   },
   "outputs": [],
   "source": [
    "from netCDF4 import Dataset"
   ]
  },
  {
   "cell_type": "code",
   "execution_count": 3,
   "metadata": {
    "collapsed": true
   },
   "outputs": [],
   "source": [
    "dataset = Dataset(infile)"
   ]
  },
  {
   "cell_type": "code",
   "execution_count": 10,
   "metadata": {
    "collapsed": false
   },
   "outputs": [
    {
     "name": "stdout",
     "output_type": "stream",
     "text": [
      "<class 'netCDF4._netCDF4.Dataset'>\n",
      "root group (NETCDF3_CLASSIC data model, file format NETCDF3):\n",
      "    institution: Australian Commonwealth Scientific and Industrial Research Organization (CSIRO) Marine and Atmospheric Research (Melbourne, Australia) in collaboration with the Queensland Climate Change Centre of Excellence (QCCCE) (Brisbane, Australia)\n",
      "    institute_id: CSIRO-QCCCE\n",
      "    experiment_id: historicalMisc\n",
      "    source: CSIRO-Mk3-6-0 2010 atmosphere: AGCM v7.3.5 (T63 spectral, 1.875 degrees EW x approx. 1.875 degrees NS, 18 levels); ocean: GFDL MOM2.2 (1.875 degrees EW x approx. 0.9375 degrees NS, 31 levels)\n",
      "    model_id: CSIRO-Mk3-6-0\n",
      "    forcing: AA (anthropogenic aerosols, including the indirect effect of aerosols on snow albedo)\n",
      "    parent_experiment_id: piControl\n",
      "    parent_experiment_rip: r1i1p1\n",
      "    branch_time: 29200.0\n",
      "    contact: Project leaders: Stephen Jeffrey (Stephen.Jeffrey@qld.gov.au) & Leon Rotstayn (Leon.Rotstayn@csiro.au). Project team: Mark Collier (Mark.Collier@csiro.au: diagnostics & post-processing), Stacey Dravitzki (Stacey.Dravitzki@csiro.au: post-processing), Carlo Hamalainen (Carlo.Hamalainen@qld.gov.au: post-processing), Steve Jeffrey (Stephen.Jeffrey@qld.gov.au: modeling & post-processing), Chris Moeseneder (Chris.Moeseneder@csiro.au: post-processing), Leon Rotstayn (Leon.Rotstayn@csiro.au: modeling & atmos. physics), Jozef Syktus (Jozef.Syktus@qld.gov.au: model evaluation), Kenneth Wong (Kenneth.Wong@qld.gov.au: data management), Contributors: Martin Dix (Martin.Dix@csiro.au: tech. support), Hal Gordon (Hal.Gordon@csiro.au: atmos. dynamics), Eva Kowalczyk (Eva.Kowalczyk@csiro.au: land-surface), Siobhan O'Farrell (Siobhan.OFarrell@csiro.au: ocean & sea-ice)\n",
      "    comment: Model output post-processed by the CSIRO-QCCCE CMIP5 Data post-processor for the IPCC Fifth Assessment.\n",
      "    references: a) Rotstayn, L., Collier, M., Dix, M., Feng, Y., Gordon, H., O\\'Farrell, S., Smith, I. and Syktus, J. 2010. Improved simulation of Australian climate and ENSO-related climate variability in a GCM with an interactive aerosol treatment. Int. J. Climatology, vol 30(7), pp1067-1088, DOI 10.1002/joc.1952 b) Please refer to online documentation at: http://cmip-pcmdi.llnl.gov/cmip5/\n",
      "    initialization_method: 1\n",
      "    physics_version: 4\n",
      "    tracking_id: 06d6af73-7748-459e-ae57-b3174660440c\n",
      "    version_number: v20110518\n",
      "    product: output\n",
      "    experiment: other historical forcing\n",
      "    frequency: mon\n",
      "    creation_date: 2011-10-09T02:09:00Z\n",
      "    history: Attribution experiment not explicitly defined by CMIP5: anthropogenic aerosols only. Historical period was extended to Dec 2012 using RCP 4.5 forcing data. 2011-10-09T02:09:00Z CMOR rewrote data to comply with CF standards and CMIP5 requirements.\n",
      "    Conventions: CF-1.4\n",
      "    project_id: CMIP5\n",
      "    table_id: Table Amon (27 April 2011) 36bda60a55c2e1a01b1b1782daf91fea\n",
      "    title: CSIRO-Mk3-6-0 model output prepared for CMIP5 anthropogenic aerosols only\n",
      "    parent_experiment: piControl\n",
      "    modeling_realm: atmos\n",
      "    realization: 1\n",
      "    cmor_version: 2.6.0\n",
      "    dimensions(sizes): time(1956), lat(96), lon(192), bnds(2)\n",
      "    variables(dimensions): float64 \u001b[4mtime\u001b[0m(time), float64 \u001b[4mtime_bnds\u001b[0m(time,bnds), float64 \u001b[4mlat\u001b[0m(lat), float64 \u001b[4mlat_bnds\u001b[0m(lat,bnds), float64 \u001b[4mlon\u001b[0m(lon), float64 \u001b[4mlon_bnds\u001b[0m(lon,bnds), float32 \u001b[4mevspsbl\u001b[0m(time,lat,lon)\n",
      "    groups: \n",
      "\n"
     ]
    }
   ],
   "source": [
    "print(dataset)"
   ]
  },
  {
   "cell_type": "code",
   "execution_count": 6,
   "metadata": {
    "collapsed": false
   },
   "outputs": [
    {
     "name": "stdout",
     "output_type": "stream",
     "text": [
      "The file contains the following variables:\n",
      "odict_keys(['time', 'time_bnds', 'lat', 'lat_bnds', 'lon', 'lon_bnds', 'evspsbl'])\n"
     ]
    }
   ],
   "source": [
    "print(\"The file contains the following variables:\")\n",
    "print(dataset.variables.keys())"
   ]
  },
  {
   "cell_type": "code",
   "execution_count": 16,
   "metadata": {
    "collapsed": true
   },
   "outputs": [],
   "source": [
    "evspsbl = dataset.variables['evspsbl']"
   ]
  },
  {
   "cell_type": "code",
   "execution_count": 23,
   "metadata": {
    "collapsed": false
   },
   "outputs": [
    {
     "data": {
      "text/plain": [
       "(1956, 96, 192)"
      ]
     },
     "execution_count": 23,
     "metadata": {},
     "output_type": "execute_result"
    }
   ],
   "source": [
    "evspsbl.shape"
   ]
  },
  {
   "cell_type": "code",
   "execution_count": 24,
   "metadata": {
    "collapsed": false
   },
   "outputs": [],
   "source": [
    "evspsbl_data = evspsbl[:, :, :]"
   ]
  },
  {
   "cell_type": "code",
   "execution_count": 25,
   "metadata": {
    "collapsed": false
   },
   "outputs": [
    {
     "name": "stdout",
     "output_type": "stream",
     "text": [
      "<class 'numpy.ndarray'>\n"
     ]
    }
   ],
   "source": [
    "print(type(evspsbl_data))"
   ]
  },
  {
   "cell_type": "code",
   "execution_count": 28,
   "metadata": {
    "collapsed": false
   },
   "outputs": [
    {
     "data": {
      "text/plain": [
       "'Attribution experiment not explicitly defined by CMIP5: anthropogenic aerosols only. Historical period was extended to Dec 2012 using RCP 4.5 forcing data. 2011-10-09T02:09:00Z CMOR rewrote data to comply with CF standards and CMIP5 requirements.'"
      ]
     },
     "execution_count": 28,
     "metadata": {},
     "output_type": "execute_result"
    }
   ],
   "source": [
    "dataset.history"
   ]
  },
  {
   "cell_type": "code",
   "execution_count": 29,
   "metadata": {
    "collapsed": true
   },
   "outputs": [],
   "source": [
    "latitude_data = dataset.variables['lat'][:]"
   ]
  },
  {
   "cell_type": "code",
   "execution_count": 30,
   "metadata": {
    "collapsed": false
   },
   "outputs": [
    {
     "name": "stdout",
     "output_type": "stream",
     "text": [
      "[-88.57216644 -86.72253418 -84.86196899 -82.99893951 -81.13497925\n",
      " -79.27056122 -77.40589142 -75.5410614  -73.6761322  -71.81113434\n",
      " -69.94608307 -68.08099365 -66.21587372 -64.3507309  -62.485569\n",
      " -60.62039566 -58.75521088 -56.89001083 -55.02480698 -53.15959549\n",
      " -51.29437637 -49.42915344 -47.5639267  -45.69869232 -43.83345795\n",
      " -41.96821976 -40.10297775 -38.23773575 -36.37248993 -34.50724411\n",
      " -32.64199448 -30.77674484 -28.9114933  -27.04623985 -25.1809864\n",
      " -23.31573105 -21.45047569 -19.58521843 -17.71996117 -15.8547039\n",
      " -13.98944569 -12.12418747 -10.2589283   -8.39366913  -6.52840948\n",
      "  -4.66314983  -2.79788995  -0.93262994   0.93262994   2.79788995\n",
      "   4.66314983   6.52840948   8.39366913  10.2589283   12.12418747\n",
      "  13.98944569  15.8547039   17.71996117  19.58521843  21.45047569\n",
      "  23.31573105  25.1809864   27.04623985  28.9114933   30.77674484\n",
      "  32.64199448  34.50724411  36.37248993  38.23773575  40.10297775\n",
      "  41.96821976  43.83345795  45.69869232  47.5639267   49.42915344\n",
      "  51.29437637  53.15959549  55.02480698  56.89001083  58.75521088\n",
      "  60.62039566  62.485569    64.3507309   66.21587372  68.08099365\n",
      "  69.94608307  71.81113434  73.6761322   75.5410614   77.40589142\n",
      "  79.27056122  81.13497925  82.99893951  84.86196899  86.72253418\n",
      "  88.57216644]\n"
     ]
    }
   ],
   "source": [
    "print(latitude_data)"
   ]
  },
  {
   "cell_type": "markdown",
   "metadata": {},
   "source": [
    "## Using xarray"
   ]
  },
  {
   "cell_type": "code",
   "execution_count": 31,
   "metadata": {
    "collapsed": true
   },
   "outputs": [],
   "source": [
    "import xarray"
   ]
  },
  {
   "cell_type": "code",
   "execution_count": 32,
   "metadata": {
    "collapsed": true
   },
   "outputs": [],
   "source": [
    "dataset = xarray.open_dataset(infile)"
   ]
  },
  {
   "cell_type": "code",
   "execution_count": 33,
   "metadata": {
    "collapsed": false
   },
   "outputs": [
    {
     "name": "stdout",
     "output_type": "stream",
     "text": [
      "<xarray.Dataset>\n",
      "Dimensions:    (bnds: 2, lat: 96, lon: 192, time: 1956)\n",
      "Coordinates:\n",
      "  * time       (time) datetime64[ns] 1850-01-16T12:00:00 1850-02-15 ...\n",
      "  * lat        (lat) float64 -88.57 -86.72 -84.86 -83.0 -81.13 -79.27 -77.41 ...\n",
      "  * lon        (lon) float64 0.0 1.875 3.75 5.625 7.5 9.375 11.25 13.12 15.0 ...\n",
      "  * bnds       (bnds) int64 0 1\n",
      "Data variables:\n",
      "    time_bnds  (time, bnds) float64 0.0 31.0 31.0 59.0 59.0 90.0 90.0 120.0 ...\n",
      "    lat_bnds   (lat, bnds) float64 -90.0 -87.65 -87.65 -85.79 -85.79 -83.93 ...\n",
      "    lon_bnds   (lon, bnds) float64 -0.9375 0.9375 0.9375 2.812 2.812 4.688 ...\n",
      "    evspsbl    (time, lat, lon) float64 3.157e-07 3.067e-07 2.932e-07 ...\n",
      "Attributes:\n",
      "    institution: Australian Commonwealth Scientific and Industrial Research Organization (CSIRO) Marine and Atmospheric Research (Melbourne, Australia) in collaboration with the Queensland Climate Change Centre of Excellence (QCCCE) (Brisbane, Australia)\n",
      "    institute_id: CSIRO-QCCCE\n",
      "    experiment_id: historicalMisc\n",
      "    source: CSIRO-Mk3-6-0 2010 atmosphere: AGCM v7.3.5 (T63 spectral, 1.875 degrees EW x approx. 1.875 degrees NS, 18 levels); ocean: GFDL MOM2.2 (1.875 degrees EW x approx. 0.9375 degrees NS, 31 levels)\n",
      "    model_id: CSIRO-Mk3-6-0\n",
      "    forcing: AA (anthropogenic aerosols, including the indirect effect of aerosols on snow albedo)\n",
      "    parent_experiment_id: piControl\n",
      "    parent_experiment_rip: r1i1p1\n",
      "    branch_time: 29200.0\n",
      "    contact: Project leaders: Stephen Jeffrey (Stephen.Jeffrey@qld.gov.au) & Leon Rotstayn (Leon.Rotstayn@csiro.au). Project team: Mark Collier (Mark.Collier@csiro.au: diagnostics & post-processing), Stacey Dravitzki (Stacey.Dravitzki@csiro.au: post-processing), Carlo Hamalainen (Carlo.Hamalainen@qld.gov.au: post-processing), Steve Jeffrey (Stephen.Jeffrey@qld.gov.au: modeling & post-processing), Chris Moeseneder (Chris.Moeseneder@csiro.au: post-processing), Leon Rotstayn (Leon.Rotstayn@csiro.au: modeling...\n",
      "    comment: Model output post-processed by the CSIRO-QCCCE CMIP5 Data post-processor for the IPCC Fifth Assessment.\n",
      "    references: a) Rotstayn, L., Collier, M., Dix, M., Feng, Y., Gordon, H., O\\'Farrell, S., Smith, I. and Syktus, J. 2010. Improved simulation of Australian climate and ENSO-related climate variability in a GCM with an interactive aerosol treatment. Int. J. Climatology, vol 30(7), pp1067-1088, DOI 10.1002/joc.1952 b) Please refer to online documentation at: http://cmip-pcmdi.llnl.gov/cmip5/\n",
      "    initialization_method: 1\n",
      "    physics_version: 4\n",
      "    tracking_id: 06d6af73-7748-459e-ae57-b3174660440c\n",
      "    version_number: v20110518\n",
      "    product: output\n",
      "    experiment: other historical forcing\n",
      "    frequency: mon\n",
      "    creation_date: 2011-10-09T02:09:00Z\n",
      "    history: Attribution experiment not explicitly defined by CMIP5: anthropogenic aerosols only. Historical period was extended to Dec 2012 using RCP 4.5 forcing data. 2011-10-09T02:09:00Z CMOR rewrote data to comply with CF standards and CMIP5 requirements.\n",
      "    Conventions: CF-1.4\n",
      "    project_id: CMIP5\n",
      "    table_id: Table Amon (27 April 2011) 36bda60a55c2e1a01b1b1782daf91fea\n",
      "    title: CSIRO-Mk3-6-0 model output prepared for CMIP5 anthropogenic aerosols only\n",
      "    parent_experiment: piControl\n",
      "    modeling_realm: atmos\n",
      "    realization: 1\n",
      "    cmor_version: 2.6.0\n"
     ]
    }
   ],
   "source": [
    "print(dataset)"
   ]
  },
  {
   "cell_type": "code",
   "execution_count": 34,
   "metadata": {
    "collapsed": true
   },
   "outputs": [],
   "source": [
    "evspsbl = dataset['evspsbl']"
   ]
  },
  {
   "cell_type": "code",
   "execution_count": 37,
   "metadata": {
    "collapsed": false
   },
   "outputs": [
    {
     "data": {
      "text/plain": [
       "<xarray.DataArray 'evspsbl' (time: 1956, lat: 96, lon: 20)>\n",
       "[3755520 values with dtype=float64]\n",
       "Coordinates:\n",
       "  * time     (time) datetime64[ns] 1850-01-16T12:00:00 1850-02-15 ...\n",
       "  * lat      (lat) float64 -88.57 -86.72 -84.86 -83.0 -81.13 -79.27 -77.41 ...\n",
       "  * lon      (lon) float64 318.8 320.6 322.5 324.4 326.2 328.1 330.0 331.9 ...\n",
       "Attributes:\n",
       "    standard_name: water_evaporation_flux\n",
       "    long_name: Evaporation\n",
       "    comment: at surface; flux of water into the atmosphere due to conversion of both liquid and solid phases to vapor (from underlying surface and vegetation)\n",
       "    units: kg m-2 s-1\n",
       "    original_name: evp\n",
       "    cell_methods: time: mean\n",
       "    cell_measures: area: areacella\n",
       "    associated_files: baseURL: http://cmip-pcmdi.llnl.gov/CMIP5/dataLocation gridspecFile: gridspec_atmos_fx_CSIRO-Mk3-6-0_historicalMisc_r0i0p4.nc areacella: areacella_fx_CSIRO-Mk3-6-0_historicalMisc_r0i0p4.nc"
      ]
     },
     "execution_count": 37,
     "metadata": {},
     "output_type": "execute_result"
    }
   ],
   "source": [
    "evspsbl[dict(lon=slice(170,190))]"
   ]
  },
  {
   "cell_type": "code",
   "execution_count": null,
   "metadata": {
    "collapsed": true
   },
   "outputs": [],
   "source": []
  }
 ],
 "metadata": {
  "kernelspec": {
   "display_name": "Python [conda env:default]",
   "language": "python",
   "name": "conda-env-default-py"
  },
  "language_info": {
   "codemirror_mode": {
    "name": "ipython",
    "version": 3
   },
   "file_extension": ".py",
   "mimetype": "text/x-python",
   "name": "python",
   "nbconvert_exporter": "python",
   "pygments_lexer": "ipython3",
   "version": "3.5.3"
  }
 },
 "nbformat": 4,
 "nbformat_minor": 1
}
