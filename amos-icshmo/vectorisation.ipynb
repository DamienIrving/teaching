{
 "cells": [
  {
   "cell_type": "markdown",
   "metadata": {},
   "source": [
    "# Vectorisation\n",
    "\n",
    "A requirement that we haven't yet addressed is the option to apply a land or ocean mask. To do this, we can use the corresponding land surface fraction file."
   ]
  },
  {
   "cell_type": "code",
   "execution_count": 10,
   "metadata": {},
   "outputs": [],
   "source": [
    "import iris\n",
    "import numpy"
   ]
  },
  {
   "cell_type": "code",
   "execution_count": 11,
   "metadata": {},
   "outputs": [],
   "source": [
    "access_sftlf_file = 'data/sftlf_fx_ACCESS1-3_historical_r0i0p0.nc'"
   ]
  },
  {
   "cell_type": "code",
   "execution_count": 12,
   "metadata": {},
   "outputs": [
    {
     "name": "stdout",
     "output_type": "stream",
     "text": [
      "land_area_fraction / (%)            (latitude: 145; longitude: 192)\n",
      "     Dimension coordinates:\n",
      "          latitude                           x               -\n",
      "          longitude                          -               x\n",
      "     Attributes:\n",
      "          Conventions: CF-1.4\n",
      "          associated_files: baseURL: http://cmip-pcmdi.llnl.gov/CMIP5/dataLocation gridspecFile: gridspec_atmos_fx_ACCESS1-3_historical_r0i0p0.nc...\n",
      "          branch_time: 90945.0\n",
      "          cmor_version: 2.8.0\n",
      "          contact: The ACCESS wiki: http://wiki.csiro.au/confluence/display/ACCESS/Home. Contact...\n",
      "          creation_date: 2012-02-15T06:14:44Z\n",
      "          experiment: historical\n",
      "          experiment_id: historical\n",
      "          forcing: GHG, Oz, SA, Sl, Vl, BC, OC, (GHG = CO2, N2O, CH4, CFC11, CFC12, CFC113,...\n",
      "          frequency: fx\n",
      "          history: 2012-02-15T06:14:43Z altered by CMOR: Converted units from '1' to '%'....\n",
      "          initialization_method: 0\n",
      "          institute_id: CSIRO-BOM\n",
      "          institution: CSIRO (Commonwealth Scientific and Industrial Research Organisation, Australia),...\n",
      "          model_id: ACCESS1.3\n",
      "          modeling_realm: atmos\n",
      "          original_units: 1\n",
      "          parent_experiment: pre-industrial control\n",
      "          parent_experiment_id: piControl\n",
      "          parent_experiment_rip: r1i1p1\n",
      "          physics_version: 0\n",
      "          product: output\n",
      "          project_id: CMIP5\n",
      "          realization: 0\n",
      "          references: See http://wiki.csiro.au/confluence/display/ACCESS/ACCESS+Publications\n",
      "          source: ACCESS1-3 2011. Atmosphere: AGCM v1.0 (N96 grid-point, 1.875 degrees EW...\n",
      "          table_id: Table fx (01 February 2012) 4a159bff0ec5e3f2ffff0b0475e89009\n",
      "          title: ACCESS1-3 model output prepared for CMIP5 historical\n",
      "          tracking_id: 50a2eb82-3b87-43df-bcb9-2fe82590a424\n",
      "          version_number: v20120413\n"
     ]
    },
    {
     "name": "stderr",
     "output_type": "stream",
     "text": [
      "/Users/damienirving/anaconda/envs/pyaos-lesson/lib/python3.6/site-packages/iris/fileformats/cf.py:798: UserWarning: Missing CF-netCDF measure variable 'areacella', referenced by netCDF variable 'sftlf'\n",
      "  warnings.warn(message % (variable_name, nc_var_name))\n",
      "/Users/damienirving/anaconda/envs/pyaos-lesson/lib/python3.6/site-packages/iris/fileformats/cf.py:1143: IrisDeprecation: NetCDF default loading behaviour currently does not expose variables which define reference surfaces for dimensionless vertical coordinates as independent Cubes. This behaviour is deprecated in favour of automatic promotion to Cubes. To switch to the new behaviour, set iris.FUTURE.netcdf_promote to True.\n",
      "  warn_deprecated(msg)\n"
     ]
    }
   ],
   "source": [
    "sftlf_cube = iris.load_cube(access_sftlf_file, 'land_area_fraction')\n",
    "print(sftlf_cube)"
   ]
  },
  {
   "cell_type": "markdown",
   "metadata": {},
   "source": [
    "The data in a sftlf file assigns each grid cell a percentage value between 0% (no land) to 100% (all land)."
   ]
  },
  {
   "cell_type": "code",
   "execution_count": 13,
   "metadata": {},
   "outputs": [
    {
     "name": "stdout",
     "output_type": "stream",
     "text": [
      "100.0\n",
      "0.0\n"
     ]
    }
   ],
   "source": [
    "print(sftlf_cube.data.max())\n",
    "print(sftlf_cube.data.min())"
   ]
  },
  {
   "cell_type": "markdown",
   "metadata": {},
   "source": [
    "To create a [numpy masked array](https://docs.scipy.org/doc/numpy/reference/maskedarray.html), we need to assign each grid cell a `True` (apply mask) or `False` (do not apply mask) value. For this example, we are going to define the ocean as any cell that is less than 50% land (and the land as any cell greater than 50%).\n",
    "\n",
    "The most obvious solution to creating an ocean mask, for example, might then be to loop over each cell in the sftlf array. e.g.\n",
    "\n",
    "```\n",
    "nlats, nlons = sftlf_cube.data.shape\n",
    "mask = numpy.zeros([nlats, nlons])\n",
    "for y in range(nlats):\n",
    "    for x in range(nlons):\n",
    "        if sftlf_cube.data[y, x] < 50:\n",
    "            mask[y, x] = True\n",
    "        else:\n",
    "            mask[y, x] = False\n",
    "```\n",
    "\n",
    "While this approach would technically work, the problem is that (a) the code is hard to read, and (b) in contrast to low level languages like Fortran and C, high level languages like Python and Matlab are built for usability (i.e. they make it easy to write concise, readable code) as opposed to speed. This particular array is so small that the looping isn't noticably slow, but in general looping over every data point in an array should be avoided.\n",
    "\n",
    "Fortunately, there are lots of `numpy` functions that allow you to get around this problem by applying a particular operation to an entire array at once (which is known as a vectorised operation). The `numpy.where` function, for instance, allows us to make a true/false decision at each data point in the array and then perform a different action depending on the answer:"
   ]
  },
  {
   "cell_type": "code",
   "execution_count": 14,
   "metadata": {},
   "outputs": [],
   "source": [
    "ocean_mask = numpy.where(sftlf_cube.data < 50, True, False)\n",
    "land_mask = numpy.where(sftlf_cube.data > 50, True, False)"
   ]
  },
  {
   "cell_type": "markdown",
   "metadata": {},
   "source": [
    "For a given iris cube (e.g. containing precipitation data from the ACCESS1-3 model), we could then convert the data type to a numpy masked array and apply our mask:"
   ]
  },
  {
   "cell_type": "code",
   "execution_count": 15,
   "metadata": {},
   "outputs": [
    {
     "name": "stdout",
     "output_type": "stream",
     "text": [
      "<class 'numpy.ndarray'>\n"
     ]
    },
    {
     "name": "stderr",
     "output_type": "stream",
     "text": [
      "/Users/damienirving/anaconda/envs/pyaos-lesson/lib/python3.6/site-packages/iris/fileformats/cf.py:1143: IrisDeprecation: NetCDF default loading behaviour currently does not expose variables which define reference surfaces for dimensionless vertical coordinates as independent Cubes. This behaviour is deprecated in favour of automatic promotion to Cubes. To switch to the new behaviour, set iris.FUTURE.netcdf_promote to True.\n",
      "  warn_deprecated(msg)\n"
     ]
    }
   ],
   "source": [
    "cube = iris.load_cube('data/pr_Amon_ACCESS1-3_historical_r1i1p1_200101-200512.nc', 'precipitation_flux')\n",
    "print(type(cube.data))"
   ]
  },
  {
   "cell_type": "code",
   "execution_count": 16,
   "metadata": {},
   "outputs": [
    {
     "name": "stdout",
     "output_type": "stream",
     "text": [
      "<class 'numpy.ma.core.MaskedArray'>\n"
     ]
    }
   ],
   "source": [
    "cube.data = numpy.ma.asarray(cube.data)\n",
    "cube.data.mask = ocean_mask\n",
    "print(type(cube.data))"
   ]
  },
  {
   "cell_type": "markdown",
   "metadata": {},
   "source": [
    "By printing the array we can see that some values are now masked:"
   ]
  },
  {
   "cell_type": "code",
   "execution_count": 17,
   "metadata": {},
   "outputs": [
    {
     "name": "stdout",
     "output_type": "stream",
     "text": [
      "[[2.4865681552910246e-05 1.7857040802482516e-05 1.4409809409698937e-05\n",
      "  1.365557181998156e-05 9.77409854385769e-07 1.6724919760235935e-07 -- --\n",
      "  -- --]\n",
      " [-- 3.080878741457127e-05 2.1845595256309025e-05 2.4051765649346635e-05\n",
      "  1.7585027308086865e-05 1.6222168142121518e-06 -- -- -- --]\n",
      " [-- -- -- -- -- -- -- -- -- --]\n",
      " [2.005224087042734e-05 -- -- -- -- -- -- -- 3.166760870954022e-05\n",
      "  1.2054460967192426e-05]\n",
      " [1.4890032616676763e-05 -- -- -- -- 2.3196560505311936e-05 -- --\n",
      "  6.278240471147001e-05 2.7597512598731555e-05]\n",
      " [1.0251545063511003e-05 -- -- -- -- 3.0613329727202654e-05 -- --\n",
      "  2.898933416872751e-05 --]\n",
      " [1.4132613614492584e-05 7.409330464724917e-06 -- -- -- -- --\n",
      "  3.593934889067896e-05 -- --]\n",
      " [4.693903247243725e-05 3.182605723850429e-05 1.990660712181125e-05\n",
      "  8.492984306940343e-06 -- -- 2.465165925968904e-05 -- --\n",
      "  0.0001078539207810536]\n",
      " [6.071893949410878e-05 6.422175647458062e-05 5.667455116054043e-05\n",
      "  2.7484224119689316e-05 9.198953193845227e-06 1.1014224583050236e-05\n",
      "  1.7008713257382624e-05 -- -- 5.8094596170121804e-05]\n",
      " [4.4121807150077075e-05 5.2677831263281405e-05 6.721866520820186e-05\n",
      "  7.12903929525055e-05 3.726803697645664e-05 1.741481537465006e-05\n",
      "  2.0027844584546983e-05 2.576560655143112e-05 3.483034743112512e-05\n",
      "  3.593379369704053e-05]]\n"
     ]
    }
   ],
   "source": [
    "print(cube.data[0, 100:110, 0:10])"
   ]
  },
  {
   "cell_type": "markdown",
   "metadata": {},
   "source": [
    "**Challenge:** \n",
    "\n",
    "1. Modify `plot_precipitation_climatology.py` so that the user can choose to apply a mask as follows (this should involve defining a new function called `apply_mask()`, in order to keep `main()` short and readable):\n",
    "```\n",
    "parser.add_argument(\"--mask\", type=str, nargs=2, metavar=('SFTLF_FILE', 'REALM'), default=None,\n",
    "                       help='Apply a land or ocean mask (specify the realm to mask)')\n",
    "```\n",
    "\n",
    "2. Test to see if your mask worked by plotting the ACCESS1-3 climatology for January:\n",
    "```\n",
    "$ python plot_precipitation_climatology.py data/pr_Amon_ACCESS1-3_historical_r1i1p1_200101-200512.nc Jan pr_Amon_ACCESS1-3_historical_r1i1p1_200101-200512-jan-clim_land-mask.png --mask data/sftlf_fx_ACCESS1-3_historical_r0i0p0.nc land\n",
    "```\n",
    "3. Commit the changes to git and then push to GitHub"
   ]
  }
 ],
 "metadata": {
  "kernelspec": {
   "display_name": "Python 3",
   "language": "python",
   "name": "python3"
  },
  "language_info": {
   "codemirror_mode": {
    "name": "ipython",
    "version": 3
   },
   "file_extension": ".py",
   "mimetype": "text/x-python",
   "name": "python",
   "nbconvert_exporter": "python",
   "pygments_lexer": "ipython3",
   "version": "3.6.3"
  }
 },
 "nbformat": 4,
 "nbformat_minor": 2
}
