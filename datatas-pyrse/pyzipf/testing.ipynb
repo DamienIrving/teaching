{
 "cells": [
  {
   "cell_type": "code",
   "execution_count": null,
   "metadata": {},
   "outputs": [],
   "source": [
    "word_frequencies = [13, 10, 2, -4, 5, 6, 25]\n",
    "total = 0.0\n",
    "for freq in word_frequencies:\n",
    "    assert freq >= 0.0, 'Word frequencies must be non-negative'\n",
    "    total += freq\n",
    "print('total number of words:', total)"
   ]
  },
  {
   "cell_type": "code",
   "execution_count": null,
   "metadata": {},
   "outputs": [],
   "source": [
    "# Unit test for count_words function\n",
    "\n",
    "import sys\n",
    "sys.path.insert(1, './pyzipf')\n",
    "from collections import Counter\n",
    "import countwords\n",
    "\n",
    "risk_poem_counts = {'the': 3, 'risk': 2, 'to': 2, 'and': 1,\n",
    "                    'then': 1, 'day': 1, 'came': 1, 'when': 1, 'remain': 1,\n",
    "                    'tight': 1, 'in': 1, 'a': 1, 'bud': 1, 'was': 1,\n",
    "                    'more': 1, 'painful': 1, 'than': 1, 'it': 1, 'took': 1,\n",
    "                    'blossom': 1}\n",
    "expected_result = Counter(risk_poem_counts)\n",
    "\n",
    "with open('test_data/risk.txt', 'r') as reader:\n",
    "    actual_result = countwords.count_words(reader)\n",
    "\n",
    "assert actual_result == expected_result"
   ]
  },
  {
   "cell_type": "code",
   "execution_count": null,
   "metadata": {},
   "outputs": [],
   "source": []
  }
 ],
 "metadata": {
  "kernelspec": {
   "display_name": "Python 3",
   "language": "python",
   "name": "python3"
  },
  "language_info": {
   "codemirror_mode": {
    "name": "ipython",
    "version": 3
   },
   "file_extension": ".py",
   "mimetype": "text/x-python",
   "name": "python",
   "nbconvert_exporter": "python",
   "pygments_lexer": "ipython3",
   "version": "3.8.5"
  }
 },
 "nbformat": 4,
 "nbformat_minor": 4
}
